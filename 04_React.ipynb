{
 "cells": [
  {
   "cell_type": "markdown",
   "metadata": {},
   "source": [
    "### _Introduction to the React Challenges_"
   ]
  },
  {
   "cell_type": "markdown",
   "metadata": {},
   "source": [
    "- [React](https://reactjs.org/), created by Facebook, is an open-source JavaScript library for building user interfaces. It is used to create components, handle state and props, utilize event listeners and certain life cycle methods to update data as it changes.\n",
    "<br></br>\n",
    "<br></br>\n",
    "- React combines HTML with JavaScript functionality to create its own markup language, JSX."
   ]
  },
  {
   "cell_type": "markdown",
   "metadata": {},
   "source": [
    "---\n",
    "---"
   ]
  },
  {
   "cell_type": "markdown",
   "metadata": {},
   "source": [
    "### _React: Create a Simple JSX Element_"
   ]
  },
  {
   "cell_type": "markdown",
   "metadata": {},
   "source": [
    "- Intro: React is an Open Source view library created and maintained by Facebook. It's a great tool to render the User Interface (UI) of modern web applications.\n",
    "<br>\n",
    "<br>\n",
    "\n",
    "- React uses a syntax extension of JavaScript called JSX that allows you to write HTML directly within JavaScript. This has several benefits. It lets you use the full programmatic power of JavaScript within HTML, and helps to keep your code readable. For the most part, JSX is similar to the HTML that you have already learned, however there are a few key differences that will be covered throughout these challenges.\n",
    "<br>\n",
    "<br>\n",
    "\n",
    "- For instance, because JSX is a syntactic extension of JavaScript, you can actually write JavaScript directly within JSX. To do this, you simply include the code you want to be treated as JavaScript within curly braces: `{ 'this is treated as JavaScript code' }`. Keep this in mind, since it's used in several future challenges.\n",
    "<br>\n",
    "<br>\n",
    "- However, because JSX is not valid JavaScript, JSX code must be compiled into JavaScript. The transpiler **_Babel_** is a popular tool for this process. For your convenience, it's already added behind the scenes for these challenges. If you happen to write syntactically invalid JSX, you will see the first test in these challenges fail.\n",
    "<br>\n",
    "<br>\n",
    "\n",
    "- It's worth noting that under the hood the challenges are calling `ReactDOM.render(JSX, document.getElementById('root'))`. This function call is what places your JSX into React's own lightweight representation of the DOM. React then uses snapshots of its own DOM to optimize updating only specific parts of the actual DOM.\n",
    "---"
   ]
  },
  {
   "cell_type": "markdown",
   "metadata": {},
   "source": [
    "- Instructions: The current code uses JSX to assign a `div` element to the constant `JSX`. Replace the `div` with an `h1` element and add the text `Hello JSX!` inside it."
   ]
  },
  {
   "cell_type": "markdown",
   "metadata": {},
   "source": [
    "```javascript\n",
    "const JSX = <h1>Hello JSX!</h1>;\n",
    "```"
   ]
  },
  {
   "cell_type": "markdown",
   "metadata": {},
   "source": [
    "---\n",
    "---"
   ]
  },
  {
   "cell_type": "markdown",
   "metadata": {},
   "source": [
    "### _React: Create a Complex JSX Element_"
   ]
  },
  {
   "cell_type": "markdown",
   "metadata": {},
   "source": [
    "- One important thing to know about nested JSX is that it must return a single element.\n",
    "\n",
    "- This one parent element would wrap all of the other levels of nested elements.\n",
    "\n",
    "- For instance, several JSX elements written as siblings with no parent wrapper element will not transpile.\n",
    "\n",
    "- Here's an example:\n",
    "\n",
    "- Valid JSX:"
   ]
  },
  {
   "cell_type": "markdown",
   "metadata": {},
   "source": [
    "```html\n",
    "<div>\n",
    "  <p>Paragraph One</p>\n",
    "  <p>Paragraph Two</p>\n",
    "  <p>Paragraph Three</p>\n",
    "</div>\n",
    "```"
   ]
  },
  {
   "cell_type": "markdown",
   "metadata": {},
   "source": [
    "- Invalid JSX:"
   ]
  },
  {
   "cell_type": "markdown",
   "metadata": {},
   "source": [
    "```html\n",
    "<p>Paragraph One</p>\n",
    "<p>Paragraph Two</p>\n",
    "<p>Paragraph Three</p>\n",
    "```"
   ]
  },
  {
   "cell_type": "markdown",
   "metadata": {},
   "source": [
    "---"
   ]
  },
  {
   "cell_type": "markdown",
   "metadata": {},
   "source": [
    "- Define a new constant `JSX` that renders a `div` which contains the following elements in order:\n",
    "<br>\n",
    "<br>\n",
    "\n",
    "- An `h1`, a `p`, and an unordered list that contains three `li` items. You can include any text you want within each element.\n",
    "<br>\n",
    "<br>\n",
    "- Note: When rendering multiple elements like this, you can wrap them all in parentheses, but it's not strictly required. Also notice this challenge uses a `div` tag to wrap all the child elements within a single parent element. If you remove the `div`, the JSX will no longer transpile. Keep this in mind, since it will also apply when you return JSX elements in React components."
   ]
  },
  {
   "cell_type": "markdown",
   "metadata": {},
   "source": [
    "```javascript\n",
    "const JSX = <div>\n",
    "              <h1>This is list test</h1>\n",
    "              <p>Here are three list</p>\n",
    "              <ul>\n",
    "                <li>list1</li>\n",
    "                <li>list2</li>\n",
    "                <li>list3</li>              \n",
    "              </ul>\n",
    "            </div>;\n",
    "```"
   ]
  },
  {
   "cell_type": "markdown",
   "metadata": {},
   "source": [
    "---\n",
    "---"
   ]
  },
  {
   "cell_type": "markdown",
   "metadata": {},
   "source": [
    "### _React: Add Comments in JSX_"
   ]
  },
  {
   "cell_type": "markdown",
   "metadata": {},
   "source": [
    "- JSX is a syntax that gets compiled into valid JavaScript. Sometimes, for readability, you might need to add comments to your code. Like most programming languages, JSX has its own way to do this.\n",
    "<br>\n",
    "<br>\n",
    "\n",
    "- To put comments inside JSX, you use the syntax `{/* */}` to wrap around the comment text.\n",
    "<br>\n",
    "<br>\n",
    "\n",
    "- Notice: You can’t use HTML comment in JSX like this:\n",
    "    `<!-- not working -->`"
   ]
  },
  {
   "cell_type": "markdown",
   "metadata": {},
   "source": [
    "---"
   ]
  },
  {
   "cell_type": "markdown",
   "metadata": {},
   "source": [
    "- The code editor has a JSX element similar to what you created in the last challenge. Add a comment somewhere within the provided `div` element, without modifying the existing `h1` or `p` elements."
   ]
  },
  {
   "cell_type": "markdown",
   "metadata": {},
   "source": [
    "```javascript\n",
    "const JSX = (\n",
    "  <div>\n",
    "    {/*here is a comment*/}\n",
    "    <h1>This is a block of JSX</h1>\n",
    "    <p>Here's a subtitle</p>\n",
    "  </div>\n",
    ");\n",
    "```"
   ]
  },
  {
   "cell_type": "markdown",
   "metadata": {},
   "source": [
    "---\n",
    "---"
   ]
  },
  {
   "cell_type": "markdown",
   "metadata": {},
   "source": [
    "### _React: Render HTML Elements to the DOM_"
   ]
  },
  {
   "cell_type": "markdown",
   "metadata": {},
   "source": [
    "- So far, you've learned that JSX is a convenient tool to write readable HTML within JavaScript. With React, we can render this JSX directly to the HTML DOM using React's rendering API known as ReactDOM.\n",
    "<br>\n",
    "<br>\n",
    "\n",
    "- ReactDOM offers a simple method to render React elements to the DOM which looks like this: `ReactDOM.render(componentToRender, targetNode)`, where the first argument is the React element or component that you want to render, and the second argument is the DOM node that you want to render the component to.\n",
    "<br>\n",
    "<br>\n",
    "\n",
    "- As you would expect, `ReactDOM.render()` must be called after the JSX element declarations, just like how you must declare variables before using them."
   ]
  },
  {
   "cell_type": "markdown",
   "metadata": {},
   "source": [
    "---"
   ]
  },
  {
   "cell_type": "markdown",
   "metadata": {},
   "source": [
    "- The code editor has a simple JSX component. Use the `ReactDOM.render()` method to render this component to the page. You can pass defined JSX elements directly in as the first argument and use `document.getElementById()` to select the DOM node to render them to. There is a `div` with `id='challenge-node'` available for you to use. Make sure you don't change the `JSX` constant."
   ]
  },
  {
   "cell_type": "markdown",
   "metadata": {},
   "source": [
    "```javascript\n",
    "const JSX = (\n",
    "  <div>\n",
    "    <h1>Hello World</h1>\n",
    "    <p>Lets render this to the DOM</p>\n",
    "  </div>\n",
    ");\n",
    "\n",
    "ReactDOM.render(JSX,document.getElementById(\"challenge-node\"))\n",
    "```"
   ]
  },
  {
   "cell_type": "markdown",
   "metadata": {},
   "source": [
    "---\n",
    "---"
   ]
  },
  {
   "cell_type": "markdown",
   "metadata": {},
   "source": [
    "### _React: Define an HTML Class in JSX_"
   ]
  },
  {
   "cell_type": "markdown",
   "metadata": {},
   "source": [
    "- Now that you're getting comfortable writing JSX, you may be wondering how it differs from HTML.\n",
    "<br>\n",
    "<br>\n",
    "\n",
    "- So far, it may seem that HTML and JSX are exactly the same.\n",
    "<br>\n",
    "<br>\n",
    "\n",
    "- One key difference in JSX is that you can no longer use the word `class` to define HTML classes. This is because `class` is a reserved word in JavaScript. Instead, JSX uses `className`.\n",
    "<br>\n",
    "<br>\n",
    "\n",
    "- In fact, the naming convention for all HTML attributes and event references in JSX become camelCase. For example, a click event in JSX is `onClick`, instead of `onclick`. Likewise, `onchange` becomes `onChange`. While this is a subtle difference, it is an important one to keep in mind moving forward."
   ]
  },
  {
   "cell_type": "markdown",
   "metadata": {},
   "source": [
    "---"
   ]
  },
  {
   "cell_type": "markdown",
   "metadata": {},
   "source": [
    "- Apply a class of myDiv to the div provided in the JSX code."
   ]
  },
  {
   "cell_type": "markdown",
   "metadata": {},
   "source": [
    "```javascript\n",
    "const JSX = (\n",
    "  <div className= \"myDiv\">\n",
    "    <h1>Add a class to this div</h1>\n",
    "  </div>\n",
    ");\n",
    "```"
   ]
  },
  {
   "cell_type": "markdown",
   "metadata": {},
   "source": [
    "---\n",
    "---"
   ]
  },
  {
   "cell_type": "markdown",
   "metadata": {},
   "source": [
    "### _React: Learn About Self-Closing JSX Tags_"
   ]
  },
  {
   "cell_type": "markdown",
   "metadata": {},
   "source": [
    "- So far, you’ve seen how JSX differs from HTML in a key way with the use of `className` vs. `class` for defining HTML classes.\n",
    "<br>\n",
    "<br>\n",
    "\n",
    "- Another important way in which JSX differs from HTML is in the idea of the self-closing tag.\n",
    "<br>\n",
    "<br>\n",
    "\n",
    "- In HTML, almost all tags have both an opening and closing tag: `<div></div>`; the closing tag always has a forward slash before the tag name that you are closing. However, there are special instances in HTML called “self-closing tags”, or tags that don’t require both an opening and closing tag before another tag can start.\n",
    "<br>\n",
    "<br>\n",
    "\n",
    "- For example the line-break tag can be written as `<br>` or as `<br />`, but should never be written as `<br></br>`, since it doesn't contain any content.\n",
    "<br>\n",
    "<br>\n",
    "\n",
    "- In JSX, the rules are a little different. Any JSX element can be written with a self-closing tag, and every element must be closed. The line-break tag, for example, must always be written as `<br />` in order to be valid JSX that can be transpiled. A `<div>`, on the other hand, can be written as `<div />` or `<div></div>`. The difference is that in the first syntax version there is no way to include anything in the `<div />`."
   ]
  },
  {
   "cell_type": "markdown",
   "metadata": {},
   "source": [
    "<hr>"
   ]
  },
  {
   "cell_type": "markdown",
   "metadata": {},
   "source": [
    "- Fix the errors in the code editor so that it is valid JSX and successfully transpiles. Make sure you don't change any of the content - you only need to close tags where they are needed."
   ]
  },
  {
   "cell_type": "markdown",
   "metadata": {},
   "source": [
    "```javascript\n",
    "const JSX = (\n",
    "  <div>\n",
    "    <h2>Welcome to React!</h2> <br />\n",
    "    <p>Be sure to close all tags!</p>\n",
    "    <hr />\n",
    "  </div>\n",
    ");\n",
    "```"
   ]
  },
  {
   "cell_type": "markdown",
   "metadata": {},
   "source": [
    "---\n",
    "---"
   ]
  },
  {
   "cell_type": "markdown",
   "metadata": {},
   "source": [
    "### _React: Create a Stateless Functional Component_"
   ]
  },
  {
   "cell_type": "markdown",
   "metadata": {},
   "source": [
    "- Components are the core of React. Everything in React is a component and here you will learn how to create one.\n",
    "<br>\n",
    "<br>\n",
    "\n",
    "- There are two ways to create a React component. The first way is to use a JavaScript function. Defining a component in this way creates a stateless functional component. For now, think of a stateless component as one that can receive data and render it, but does not manage or track changes to that data. \n",
    "<br>\n",
    "<br>\n",
    "- To create a component with a function, you simply write a JavaScript function that returns either JSX or `null`. One important thing to note is that React requires your function name to begin with a capital letter. Here's an example of a stateless functional component that assigns an HTML class in JSX:"
   ]
  },
  {
   "cell_type": "markdown",
   "metadata": {},
   "source": [
    "// After being transpiled, the <div> will have a CSS class of 'customClass'\n",
    "const DemoComponent = function() {\n",
    "  return (\n",
    "    <div className='customClass' />\n",
    "  );\n",
    "};"
   ]
  },
  {
   "cell_type": "markdown",
   "metadata": {},
   "source": [
    "- Because a JSX component represents HTML, you could put several components together to create a more complex HTML page. This is one of the key advantages of the component architecture React provides. It allows you to compose your UI from many separate, isolated components. This makes it easier to build and maintain complex user interfaces."
   ]
  },
  {
   "cell_type": "markdown",
   "metadata": {},
   "source": [
    "---"
   ]
  },
  {
   "cell_type": "markdown",
   "metadata": {},
   "source": [
    "- The code editor has a function called `MyComponent`. Complete this function so it returns a single `div` element which contains some string of text.\n",
    "- Note: The text is considered a child of the `div` element, so you will not be able to use a self-closing tag."
   ]
  },
  {
   "cell_type": "markdown",
   "metadata": {},
   "source": [
    "```javascript\n",
    "const MyComponent = function() {\n",
    "  return (\n",
    "    <div>test</div>\n",
    "  );\n",
    "};\n",
    "```"
   ]
  },
  {
   "cell_type": "markdown",
   "metadata": {},
   "source": [
    "---\n",
    "---"
   ]
  },
  {
   "cell_type": "markdown",
   "metadata": {},
   "source": [
    "### _React: Create a React Component_"
   ]
  },
  {
   "cell_type": "markdown",
   "metadata": {},
   "source": [
    "- The other way to define a React component is with the ES6 `class` syntax. In the following example, `Kitten` extends `React.Component`:"
   ]
  },
  {
   "cell_type": "markdown",
   "metadata": {},
   "source": [
    "```javascript\n",
    "class Kitten extends React.Component {\n",
    "  constructor(props) {\n",
    "    super(props);\n",
    "  }\n",
    "\n",
    "  render() {\n",
    "    return (\n",
    "      <h1>Hi</h1>\n",
    "    );\n",
    "  }\n",
    "}\n",
    "```"
   ]
  },
  {
   "cell_type": "markdown",
   "metadata": {},
   "source": [
    "- This creates an ES6 class `Kitten` which extends the `React.Component` class. So the `Kitten` class now has access to many useful React features, such as local state and lifecycle hooks. Also notice the `Kitten` class has a constructor defined within it that calls `super()`. It uses `super()` to call the constructor of the parent class, in this case `React.Component`. The `constructor` is a special method used during the initialization of objects that are created with the `class` keyword. It is best practice to call a component's `constructor` with `super`, and pass `props` to both. This makes sure the component is initialized properly. For now, know that it is standard for this code to be included. Soon you will see other uses for the constructor as well as `props`."
   ]
  },
  {
   "cell_type": "markdown",
   "metadata": {},
   "source": [
    "---"
   ]
  },
  {
   "cell_type": "markdown",
   "metadata": {},
   "source": [
    "- `MyComponent` is defined in the code editor using class syntax. Finish writing the `render` method so it returns a `div` element that contains an `h1` with the text `Hello React!`."
   ]
  },
  {
   "cell_type": "markdown",
   "metadata": {},
   "source": [
    "```javascript\n",
    "class MyComponent extends React.Component {\n",
    "  constructor(props) {\n",
    "    super(props);\n",
    "  }\n",
    "\n",
    "  render() {\n",
    "    return (\n",
    "      <div><h1>Hello React!</h1></div>\n",
    "    );\n",
    "  }\n",
    "};\n",
    "```"
   ]
  },
  {
   "cell_type": "markdown",
   "metadata": {},
   "source": [
    "---\n",
    "---"
   ]
  },
  {
   "cell_type": "markdown",
   "metadata": {},
   "source": [
    "### _React: Create a Component with Composition_"
   ]
  },
  {
   "cell_type": "markdown",
   "metadata": {},
   "source": [
    "- Now we will look at how we can compose multiple React components together. Imagine you are building an App and have created three components, a `Navbar`, `Dashboard`, and `Footer`.\n",
    "<br>\n",
    "<br>\n",
    "\n",
    "- To compose these components together, you could create an `App` parent component which renders each of these three components as children. To render a component as a child in a React component, you include the component name written as a custom HTML tag in the JSX. For example, in the `render` method you could write:"
   ]
  },
  {
   "cell_type": "markdown",
   "metadata": {},
   "source": [
    "```javascript\n",
    "return (\n",
    " <App>\n",
    "  <Navbar />\n",
    "  <Dashboard />\n",
    "  <Footer />\n",
    " </App>\n",
    ")\n",
    "```"
   ]
  },
  {
   "cell_type": "markdown",
   "metadata": {},
   "source": [
    "- When React encounters a custom HTML tag that references another component (a component name wrapped in `< />` like in this example), it renders the markup for that component in the location of the tag. This should illustrate the parent/child relationship between the `App` component and the `Navbar`, `Dashboard`, and `Footer`."
   ]
  },
  {
   "cell_type": "markdown",
   "metadata": {},
   "source": [
    "---"
   ]
  },
  {
   "cell_type": "markdown",
   "metadata": {},
   "source": [
    "- In the code editor, there is a simple functional component called `ChildComponent` and a class component called `ParentComponent`. Compose the two together by rendering the `ChildComponent` within the `ParentComponent`. Make sure to close the `ChildComponent` tag with a forward slash."
   ]
  },
  {
   "cell_type": "markdown",
   "metadata": {},
   "source": [
    "```javascript\n",
    "const ChildComponent = () => {\n",
    "  return (\n",
    "    <div>\n",
    "      <p>I am the child</p>\n",
    "    </div>\n",
    "  );\n",
    "};\n",
    "\n",
    "class ParentComponent extends React.Component {\n",
    "  constructor(props) {\n",
    "    super(props);\n",
    "  }\n",
    "  render() {\n",
    "    return (\n",
    "      <div>\n",
    "        <h1>I am the parent</h1>\n",
    "        <ChildComponent />\n",
    "      </div>\n",
    "    );\n",
    "  }\n",
    "};\n",
    "```"
   ]
  },
  {
   "cell_type": "markdown",
   "metadata": {},
   "source": [
    "---\n",
    "---"
   ]
  },
  {
   "cell_type": "markdown",
   "metadata": {},
   "source": [
    "### _React: Use React to Render Nested Components_"
   ]
  },
  {
   "cell_type": "markdown",
   "metadata": {},
   "source": [
    "- Component composition is one of React's powerful features. When you work with React, it is important to start thinking about your user interface in terms of components like the App example in the last challenge. You break down your UI into its basic building blocks, and those pieces become the components. This helps to separate the code responsible for the UI from the code responsible for handling your application logic. It can greatly simplify the development and maintenance of complex projects."
   ]
  },
  {
   "cell_type": "markdown",
   "metadata": {},
   "source": [
    "---"
   ]
  },
  {
   "cell_type": "markdown",
   "metadata": {},
   "source": [
    "- There are two functional components defined in the code editor, called `TypesOfFruit` and `Fruits`. Take the `TypesOfFruit` component and compose it, or nest it, within the `Fruits` component. Then take the `Fruits` component and nest it within the `TypesOfFood` component. The result should be a child component, nested within a parent component, which is nested within a parent component of its own!"
   ]
  },
  {
   "cell_type": "markdown",
   "metadata": {},
   "source": [
    "```javascript\n",
    "const TypesOfFruit = () => {\n",
    "  return (\n",
    "    <div>\n",
    "      <h2>Fruits:</h2>\n",
    "      <ul>\n",
    "        <li>Apples</li>\n",
    "        <li>Blueberries</li>\n",
    "        <li>Strawberries</li>\n",
    "        <li>Bananas</li>\n",
    "      </ul>\n",
    "    </div>\n",
    "  );\n",
    "};\n",
    "\n",
    "const Fruits = () => {\n",
    "  return (\n",
    "    <div>\n",
    "      <TypesOfFruit />\n",
    "    </div>\n",
    "  );\n",
    "};\n",
    "\n",
    "class TypesOfFood extends React.Component {\n",
    "  constructor(props) {\n",
    "    super(props);\n",
    "  }\n",
    "\n",
    "  render() {\n",
    "    return (\n",
    "      <div>\n",
    "        <h1>Types of Food:</h1>\n",
    "        <Fruits />\n",
    "      </div>\n",
    "    );\n",
    "  }\n",
    "};\n",
    "```"
   ]
  },
  {
   "cell_type": "markdown",
   "metadata": {},
   "source": [
    "---\n",
    "---"
   ]
  },
  {
   "cell_type": "markdown",
   "metadata": {},
   "source": [
    "###  _React: Compose React Components_"
   ]
  },
  {
   "cell_type": "markdown",
   "metadata": {},
   "source": [
    "- As the challenges continue to use more complex compositions with React components and JSX, there is one important point to note. Rendering ES6 style class components within other components is no different than rendering the simple components you used in the last few challenges. You can render JSX elements, stateless functional components, and ES6 class components within other components."
   ]
  },
  {
   "cell_type": "markdown",
   "metadata": {},
   "source": [
    "---"
   ]
  },
  {
   "cell_type": "markdown",
   "metadata": {},
   "source": [
    "- In the code editor, the `TypesOfFood` component is already rendering a component called `Vegetables`. Also, there is the `Fruits` component from the last challenge.\n",
    "<br>\n",
    "<br>\n",
    "\n",
    "- Nest two components inside of `Fruits` — first `NonCitrus`, and then `Citrus`. Both of these components are provided for you behind the scenes. Next, nest the `Fruits` class component into the `TypesOfFood` component, below the `h1` header and above `Vegetables`. The result should be a series of nested components, which uses two different component types."
   ]
  },
  {
   "cell_type": "markdown",
   "metadata": {},
   "source": [
    "```javascript\n",
    "class Fruits extends React.Component {\n",
    "  constructor(props) {\n",
    "    super(props);\n",
    "  }\n",
    "  render() {\n",
    "    return (\n",
    "      <div>\n",
    "        <h2>Fruits:</h2>\n",
    "        { /* change code below this line */ }\n",
    "        <NonCitrus />\n",
    "        <Citrus />\n",
    "        { /* change code above this line */ }\n",
    "      </div>\n",
    "    );\n",
    "  }\n",
    "};\n",
    "\n",
    "class TypesOfFood extends React.Component {\n",
    "  constructor(props) {\n",
    "     super(props);\n",
    "  }\n",
    "  render() {\n",
    "    return (\n",
    "      <div>\n",
    "        <h1>Types of Food:</h1>\n",
    "        <Fruits />\n",
    "        <Vegetables />\n",
    "      </div>\n",
    "    );\n",
    "  }\n",
    "};\n",
    "```"
   ]
  },
  {
   "cell_type": "markdown",
   "metadata": {},
   "source": [
    "---\n",
    "---"
   ]
  },
  {
   "cell_type": "markdown",
   "metadata": {},
   "source": [
    "### _React: Render a Class Component to the DOM_"
   ]
  },
  {
   "cell_type": "markdown",
   "metadata": {},
   "source": [
    "- None of the React code you write will render to the DOM without making a call to the ReactDOM API.\n",
    "\n",
    "- Here's a refresher on the syntax: `ReactDOM.render(componentToRender, targetNode)`. The first argument is the React component that you want to render. The second argument is the DOM node that you want to render that component within.\n",
    "\n",
    "- React components are passed into `ReactDOM.render()` a little differently than JSX elements. For JSX elements, you pass in the name of the element that you want to render. However, for React components, you need to use the same syntax as if you were rendering a nested component, for example `ReactDOM.render(<ComponentToRender />, targetNode)`. You use this syntax for both ES6 class components and functional components."
   ]
  },
  {
   "cell_type": "markdown",
   "metadata": {},
   "source": [
    "---"
   ]
  },
  {
   "cell_type": "markdown",
   "metadata": {},
   "source": [
    "- Both the `Fruits` and `Vegetables` components are defined for you behind the scenes. Render both components as children of the `TypesOfFood` component, then render `TypesOfFood` to the DOM. There is a `div` with `id='challenge-node'` available for you to use."
   ]
  },
  {
   "cell_type": "markdown",
   "metadata": {},
   "source": [
    "```javascript\n",
    "class TypesOfFood extends React.Component {\n",
    "  constructor(props) {\n",
    "    super(props);\n",
    "  }\n",
    "  render() {\n",
    "    return (\n",
    "      <div>\n",
    "        <h1>Types of Food:</h1>\n",
    "        <Fruits />\n",
    "        <Vegetables />\n",
    "      </div>\n",
    "    );\n",
    "  }\n",
    "};\n",
    "\n",
    "ReactDOM.render(<TypesOfFood />, document.getElementById(\"challenge-node\"));\n",
    "```"
   ]
  },
  {
   "cell_type": "markdown",
   "metadata": {},
   "source": [
    "---\n",
    "---"
   ]
  },
  {
   "cell_type": "markdown",
   "metadata": {},
   "source": [
    "### _React: Write a React Component from Scratch_"
   ]
  },
  {
   "cell_type": "markdown",
   "metadata": {},
   "source": [
    "- Define a class `MyComponent` that extends `React.Component`. Its render method should return a `div` that contains an `h1` tag with the text: `My First React Component!` in it. Use this text exactly, the case and punctuation matter. Make sure to call the constructor for your component, too.\n",
    "<br>\n",
    "<br>\n",
    "\n",
    "- Render this component to the DOM using `ReactDOM.render()`. There is a `div` with `id='challenge-node'` available for you to use."
   ]
  },
  {
   "cell_type": "markdown",
   "metadata": {},
   "source": [
    "```javascript\n",
    "class MyComponent extends React.Component {\n",
    "  constructor(props) {\n",
    "    super(props);\n",
    "  }\n",
    "  render() {\n",
    "    return (\n",
    "      <div>\n",
    "        <h1>My First React Component!</h1>\n",
    "      </div>\n",
    "    )\n",
    "  }\n",
    "}\n",
    "\n",
    "ReactDOM.render(<MyComponent />, document.getElementById(\"challenge-node\"));\n",
    "```"
   ]
  },
  {
   "cell_type": "markdown",
   "metadata": {},
   "source": [
    "---\n",
    "---"
   ]
  },
  {
   "cell_type": "markdown",
   "metadata": {},
   "source": [
    "### _React: Pass Props to a Stateless Functional Component_"
   ]
  },
  {
   "cell_type": "markdown",
   "metadata": {},
   "source": [
    "- In React, you can pass props, or properties, to child components. Say you have an `App` component which renders a child component called `Welcome` which is a stateless functional component. You can pass `Welcome` a `user` property by writing:"
   ]
  },
  {
   "cell_type": "markdown",
   "metadata": {},
   "source": [
    "```javascript\n",
    "<App>\n",
    "  <Welcome user='Mark' />\n",
    "</App>\n",
    "```"
   ]
  },
  {
   "cell_type": "markdown",
   "metadata": {},
   "source": [
    "- You use **custom HTML attributes** created by you and supported by React to be passed to the component. In this case, the created property `user` is passed to the component `Welcome`. Since `Welcome` is a stateless functional component, it has access to this value like so:"
   ]
  },
  {
   "cell_type": "markdown",
   "metadata": {},
   "source": [
    "```javascript\n",
    "const Welcome = (props) => <h1>Hello, {props.user}!</h1>\n",
    "```"
   ]
  },
  {
   "cell_type": "markdown",
   "metadata": {},
   "source": [
    "- It is standard to call this value `props` and when dealing with stateless functional components, you basically consider it as an argument to a function which returns JSX. You can access the value of the argument in the function body. With class components, you will see this is a little different."
   ]
  },
  {
   "cell_type": "markdown",
   "metadata": {},
   "source": [
    "---"
   ]
  },
  {
   "cell_type": "markdown",
   "metadata": {},
   "source": [
    "- There are `Calendar` and `CurrentDate` components in the code editor. When rendering `CurrentDate` from the `Calendar` component, pass in a property of `date` assigned to the current date from JavaScript's `Date` object. Then access this `prop` in the `CurrentDate` component, showing its value within the `p` tags. Note that for `prop` values to be evaluated as JavaScript, they must be enclosed in curly brackets, for instance `date={Date()}`."
   ]
  },
  {
   "cell_type": "markdown",
   "metadata": {},
   "source": [
    "```javascript\n",
    "const CurrentDate = (props) => {\n",
    "  return (\n",
    "    <div>\n",
    "      <p>The current date is: {props.date}</p>     \n",
    "    </div>\n",
    "  );\n",
    "};\n",
    "\n",
    "class Calendar extends React.Component {\n",
    "  constructor(props) {\n",
    "    super(props);\n",
    "  }\n",
    "  render() {\n",
    "    return (\n",
    "      <div>\n",
    "        <h3>What date is it?</h3>      \n",
    "        <CurrentDate date={Date()} />       \n",
    "      </div>\n",
    "    );\n",
    "  }\n",
    "};\n",
    "```"
   ]
  },
  {
   "cell_type": "markdown",
   "metadata": {},
   "source": [
    "---\n",
    "---"
   ]
  },
  {
   "cell_type": "markdown",
   "metadata": {},
   "source": [
    "### _React: Pass an Array as Props_"
   ]
  },
  {
   "cell_type": "markdown",
   "metadata": {},
   "source": [
    "- The last challenge demonstrated how to pass information from a parent component to a child component as `props` or properties. This challenge looks at how arrays can be passed as `props`. To pass an array to a JSX element, it must be treated as JavaScript and wrapped in curly braces."
   ]
  },
  {
   "cell_type": "markdown",
   "metadata": {},
   "source": [
    "```javascript\n",
    "<ParentComponent>\n",
    "  <ChildComponent colors={[\"green\", \"blue\", \"red\"]} />\n",
    "</ParentComponent>\n",
    "```"
   ]
  },
  {
   "cell_type": "markdown",
   "metadata": {},
   "source": [
    "- The child component then has access to the array property `colors`. Array methods such as `join()` can be used when accessing the property. `const ChildComponent = (props) => <p>{props.colors.join(', ')}</p>` This will join all `colors` array items into a comma separated string and produce: `<p>green, blue, red</p>`"
   ]
  },
  {
   "cell_type": "markdown",
   "metadata": {},
   "source": [
    "---"
   ]
  },
  {
   "cell_type": "markdown",
   "metadata": {},
   "source": [
    "- There are `List` and `ToDo` components in the code editor. When rendering each `List` from the `ToDo` component, pass in a `tasks` property assigned to an array of to-do tasks, for example `[\"walk dog\", \"workout\"]`. Then access this `tasks` array in the `List` component, showing its value within the `p` element. Use `join(\", \")` to display the `props.tasks` array in the `p` element as a comma separated list. Today's list should have at least 2 tasks and tomorrow's should have at least 3 tasks."
   ]
  },
  {
   "cell_type": "markdown",
   "metadata": {},
   "source": [
    "```javascript\n",
    "const List = (props) => {\n",
    "  return <p>{props.tasks.join(', ')}</p>\n",
    "};\n",
    "\n",
    "class ToDo extends React.Component {\n",
    "  constructor(props) {\n",
    "    super(props);\n",
    "  }\n",
    "  render() {\n",
    "    return (\n",
    "      <div>\n",
    "        <h1>To Do Lists</h1>\n",
    "        <h2>Today</h2>\n",
    "        <List tasks={[\"walk dog\", \"workout\", \"learn codes\"]}/>\n",
    "        <h2>Tomorrow</h2>\n",
    "        <List tasks={[\"walk dog\", \"workout\", \"learn codes\"]}/>\n",
    "      </div>\n",
    "    );\n",
    "  }\n",
    "};\n",
    "```"
   ]
  },
  {
   "cell_type": "markdown",
   "metadata": {},
   "source": [
    "---\n",
    "---"
   ]
  },
  {
   "cell_type": "markdown",
   "metadata": {},
   "source": [
    "### _React: Use Default Props_"
   ]
  },
  {
   "cell_type": "markdown",
   "metadata": {},
   "source": [
    "- React also has an option to set default props. You can assign default props to a component as a property on the component itself and React assigns the default prop if necessary. This allows you to specify what a prop value should be if no value is explicitly provided. For example, if you declare `MyComponent.defaultProps = { location: 'San Francisco' }`, you have defined a location prop that's set to the string `San Francisco`, unless you specify otherwise. React assigns default props if props are undefined, but if you pass `null` as the value for a prop, it will remain `null`."
   ]
  },
  {
   "cell_type": "markdown",
   "metadata": {},
   "source": [
    "---"
   ]
  },
  {
   "cell_type": "markdown",
   "metadata": {},
   "source": [
    "- The code editor shows a `ShoppingCart` component. Define default props on this component which specify a prop `items` with a value of `0`."
   ]
  },
  {
   "cell_type": "markdown",
   "metadata": {},
   "source": [
    "```javascript\n",
    "const ShoppingCart = (props) => {\n",
    "  return (\n",
    "    <div>\n",
    "      <h1>Shopping Cart Component</h1>\n",
    "    </div>\n",
    "  )\n",
    "};\n",
    "\n",
    "ShoppingCart.defaultProps = { items: 0};\n",
    "```"
   ]
  },
  {
   "cell_type": "markdown",
   "metadata": {},
   "source": [
    "---\n",
    "---"
   ]
  },
  {
   "cell_type": "markdown",
   "metadata": {},
   "source": [
    "### _React: Override Default Props_"
   ]
  },
  {
   "cell_type": "markdown",
   "metadata": {},
   "source": [
    "- The ability to set default props is a useful feature in React. The way to override the default props is to explicitly set the prop values for a component."
   ]
  },
  {
   "cell_type": "markdown",
   "metadata": {},
   "source": [
    "---"
   ]
  },
  {
   "cell_type": "markdown",
   "metadata": {},
   "source": [
    "- The `ShoppingCart` component now renders a child component `Items`. This `Items` component has a default prop `quantity` set to the integer `0`. Override the default prop by passing in a value of `10` for `quantity`.\n",
    "\n",
    "- Note: Remember that the syntax to add a prop to a component looks similar to how you add HTML attributes. However, since the value for `quantity` is an integer, it won't go in quotes but it should be wrapped in curly braces. For example, `{100}`. This syntax tells JSX to interpret the value within the braces directly as JavaScript.\n"
   ]
  },
  {
   "cell_type": "markdown",
   "metadata": {},
   "source": [
    "```javascript\n",
    "const Items = (props) => {\n",
    "  return <h1>Current Quantity of Items in Cart: {props.quantity}</h1>\n",
    "}\n",
    "\n",
    "Items.defaultProps = {\n",
    "  quantity: 0\n",
    "}\n",
    "\n",
    "class ShoppingCart extends React.Component {\n",
    "  constructor(props) {\n",
    "    super(props);\n",
    "  }\n",
    "  render() {\n",
    "    return <Items quantity={10} />\n",
    "  }\n",
    "};\n",
    "```"
   ]
  },
  {
   "cell_type": "markdown",
   "metadata": {},
   "source": [
    "---\n",
    "---"
   ]
  },
  {
   "cell_type": "markdown",
   "metadata": {},
   "source": [
    "### _React: Use PropTypes to Define the Props You Expect_"
   ]
  },
  {
   "cell_type": "markdown",
   "metadata": {},
   "source": [
    "- React provides useful type-checking features to verify that components receive props of the correct type. For example, your application makes an API call to retrieve data that you expect to be in an array, which is then passed to a component as a prop. You can set `propTypes` on your component to require the data to be of type `array`. This will throw a useful warning when the data is of any other type.\n",
    "<br>\n",
    "<br>\n",
    "\n",
    "- It's considered a best practice to set `propTypes` when you know the type of a prop ahead of time. You can define a `propTypes` property for a component in the same way you defined `defaultProps`. Doing this will check that props of a given key are present with a given type. Here's an example to require the type `function` for a prop called `handleClick`:\n",
    "\n",
    "    `MyComponent.propTypes = { handleClick: PropTypes.func.isRequired }`\n",
    "\n",
    "- In the example above, the `PropTypes.func` part checks that `handleClick` is a function. Adding `isRequired` tells React that `handleClick` is a required property for that component. You will see a warning if that prop isn't provided. Also notice that `func` represents `function`. Among the seven JavaScript primitive types, `function` and `boolean` (written as `bool`) are the only two that use unusual spelling. In addition to the primitive types, there are other types available. For example, you can check that a prop is a React element. Please refer to the [documentation](https://reactjs.org/docs/jsx-in-depth.html#specifying-the-react-element-type) for all of the options.\n",
    "<br>\n",
    "<br>\n",
    "\n",
    "- Note: As of React v15.5.0, `PropTypes` is imported independently from React, like this: `import PropTypes from 'prop-types'`;"
   ]
  },
  {
   "cell_type": "markdown",
   "metadata": {},
   "source": [
    "---"
   ]
  },
  {
   "cell_type": "markdown",
   "metadata": {},
   "source": [
    "- Define `propTypes` for the `Items` component to require `quantity` as a prop and verify that it is of type `number`."
   ]
  },
  {
   "cell_type": "markdown",
   "metadata": {},
   "source": [
    "```javascript\n",
    "const Items = (props) => {\n",
    "  return <h1>Current Quantity of Items in Cart: {props.quantity}</h1>\n",
    "};\n",
    "\n",
    "Items.propTypes = {\n",
    "  quantity: PropTypes.number.isRequired\n",
    "};\n",
    "\n",
    "Items.defaultProps = {\n",
    "  quantity: 0\n",
    "};\n",
    "\n",
    "class ShoppingCart extends React.Component {\n",
    "  constructor(props) {\n",
    "    super(props);\n",
    "  }\n",
    "  render() {\n",
    "    return <Items />\n",
    "  }\n",
    "};\n",
    "```"
   ]
  },
  {
   "cell_type": "markdown",
   "metadata": {},
   "source": [
    "---\n",
    "---"
   ]
  },
  {
   "cell_type": "markdown",
   "metadata": {},
   "source": [
    "### _React: Access Props Using this.props_"
   ]
  },
  {
   "cell_type": "markdown",
   "metadata": {},
   "source": [
    "- The last several challenges covered the basic ways to pass props to child components. But what if the child component that you're passing a prop to is an ES6 class component, rather than a stateless functional component? The ES6 class component uses a slightly different convention to access props.\n",
    "- "
   ]
  },
  {
   "cell_type": "code",
   "execution_count": null,
   "metadata": {},
   "outputs": [],
   "source": []
  },
  {
   "cell_type": "code",
   "execution_count": null,
   "metadata": {},
   "outputs": [],
   "source": []
  },
  {
   "cell_type": "code",
   "execution_count": null,
   "metadata": {},
   "outputs": [],
   "source": []
  },
  {
   "cell_type": "code",
   "execution_count": null,
   "metadata": {},
   "outputs": [],
   "source": []
  },
  {
   "cell_type": "code",
   "execution_count": null,
   "metadata": {},
   "outputs": [],
   "source": []
  },
  {
   "cell_type": "code",
   "execution_count": null,
   "metadata": {},
   "outputs": [],
   "source": []
  },
  {
   "cell_type": "code",
   "execution_count": null,
   "metadata": {},
   "outputs": [],
   "source": []
  },
  {
   "cell_type": "code",
   "execution_count": null,
   "metadata": {},
   "outputs": [],
   "source": []
  },
  {
   "cell_type": "code",
   "execution_count": null,
   "metadata": {},
   "outputs": [],
   "source": []
  },
  {
   "cell_type": "code",
   "execution_count": null,
   "metadata": {},
   "outputs": [],
   "source": []
  },
  {
   "cell_type": "code",
   "execution_count": null,
   "metadata": {},
   "outputs": [],
   "source": []
  },
  {
   "cell_type": "code",
   "execution_count": null,
   "metadata": {},
   "outputs": [],
   "source": []
  },
  {
   "cell_type": "code",
   "execution_count": null,
   "metadata": {},
   "outputs": [],
   "source": []
  },
  {
   "cell_type": "code",
   "execution_count": null,
   "metadata": {},
   "outputs": [],
   "source": []
  },
  {
   "cell_type": "code",
   "execution_count": null,
   "metadata": {},
   "outputs": [],
   "source": []
  },
  {
   "cell_type": "code",
   "execution_count": null,
   "metadata": {},
   "outputs": [],
   "source": []
  },
  {
   "cell_type": "code",
   "execution_count": null,
   "metadata": {},
   "outputs": [],
   "source": []
  },
  {
   "cell_type": "code",
   "execution_count": null,
   "metadata": {},
   "outputs": [],
   "source": []
  },
  {
   "cell_type": "code",
   "execution_count": null,
   "metadata": {},
   "outputs": [],
   "source": []
  },
  {
   "cell_type": "code",
   "execution_count": null,
   "metadata": {},
   "outputs": [],
   "source": []
  },
  {
   "cell_type": "code",
   "execution_count": null,
   "metadata": {},
   "outputs": [],
   "source": []
  },
  {
   "cell_type": "code",
   "execution_count": null,
   "metadata": {},
   "outputs": [],
   "source": []
  },
  {
   "cell_type": "code",
   "execution_count": null,
   "metadata": {},
   "outputs": [],
   "source": []
  },
  {
   "cell_type": "code",
   "execution_count": null,
   "metadata": {},
   "outputs": [],
   "source": []
  },
  {
   "cell_type": "code",
   "execution_count": null,
   "metadata": {},
   "outputs": [],
   "source": []
  }
 ],
 "metadata": {
  "kernelspec": {
   "display_name": "Python 3",
   "language": "python",
   "name": "python3"
  },
  "language_info": {
   "codemirror_mode": {
    "name": "ipython",
    "version": 3
   },
   "file_extension": ".py",
   "mimetype": "text/x-python",
   "name": "python",
   "nbconvert_exporter": "python",
   "pygments_lexer": "ipython3",
   "version": "3.7.4"
  }
 },
 "nbformat": 4,
 "nbformat_minor": 2
}
