{
 "cells": [
  {
   "cell_type": "markdown",
   "metadata": {},
   "source": [
    "### _Introduction to the React Challenges_"
   ]
  },
  {
   "cell_type": "markdown",
   "metadata": {},
   "source": [
    "- [React](https://reactjs.org/), created by Facebook, is an open-source JavaScript library for building user interfaces. It is used to create components, handle state and props, utilize event listeners and certain life cycle methods to update data as it changes.\n",
    "<br></br>\n",
    "<br></br>\n",
    "- React combines HTML with JavaScript functionality to create its own markup language, JSX."
   ]
  },
  {
   "cell_type": "markdown",
   "metadata": {},
   "source": [
    "---\n",
    "---"
   ]
  },
  {
   "cell_type": "markdown",
   "metadata": {},
   "source": [
    "### _React: Create a Simple JSX Element_"
   ]
  },
  {
   "cell_type": "markdown",
   "metadata": {},
   "source": [
    "- Intro: React is an Open Source view library created and maintained by Facebook. It's a great tool to render the User Interface (UI) of modern web applications.\n",
    "<br>\n",
    "<br>\n",
    "\n",
    "- React uses a syntax extension of JavaScript called JSX that allows you to write HTML directly within JavaScript. This has several benefits. It lets you use the full programmatic power of JavaScript within HTML, and helps to keep your code readable. For the most part, JSX is similar to the HTML that you have already learned, however there are a few key differences that will be covered throughout these challenges.\n",
    "<br>\n",
    "<br>\n",
    "\n",
    "- For instance, because JSX is a syntactic extension of JavaScript, you can actually write JavaScript directly within JSX. To do this, you simply include the code you want to be treated as JavaScript within curly braces: `{ 'this is treated as JavaScript code' }`. Keep this in mind, since it's used in several future challenges.\n",
    "<br>\n",
    "<br>\n",
    "- However, because JSX is not valid JavaScript, JSX code must be compiled into JavaScript. The transpiler **_Babel_** is a popular tool for this process. For your convenience, it's already added behind the scenes for these challenges. If you happen to write syntactically invalid JSX, you will see the first test in these challenges fail.\n",
    "<br>\n",
    "<br>\n",
    "\n",
    "- It's worth noting that under the hood the challenges are calling `ReactDOM.render(JSX, document.getElementById('root'))`. This function call is what places your JSX into React's own lightweight representation of the DOM. React then uses snapshots of its own DOM to optimize updating only specific parts of the actual DOM.\n",
    "---"
   ]
  },
  {
   "cell_type": "markdown",
   "metadata": {},
   "source": [
    "- Instructions: The current code uses JSX to assign a `div` element to the constant `JSX`. Replace the `div` with an `h1` element and add the text `Hello JSX!` inside it."
   ]
  },
  {
   "cell_type": "markdown",
   "metadata": {},
   "source": [
    "```javascript\n",
    "const JSX = <h1>Hello JSX!</h1>;\n",
    "```"
   ]
  },
  {
   "cell_type": "markdown",
   "metadata": {},
   "source": [
    "---\n",
    "---"
   ]
  },
  {
   "cell_type": "markdown",
   "metadata": {},
   "source": [
    "### _React: Create a Complex JSX Element_"
   ]
  },
  {
   "cell_type": "markdown",
   "metadata": {},
   "source": [
    "- One important thing to know about nested JSX is that it must return a single element.\n",
    "\n",
    "- This one parent element would wrap all of the other levels of nested elements.\n",
    "\n",
    "- For instance, several JSX elements written as siblings with no parent wrapper element will not transpile.\n",
    "\n",
    "- Here's an example:\n",
    "\n",
    "- Valid JSX:"
   ]
  },
  {
   "cell_type": "markdown",
   "metadata": {},
   "source": [
    "```html\n",
    "<div>\n",
    "  <p>Paragraph One</p>\n",
    "  <p>Paragraph Two</p>\n",
    "  <p>Paragraph Three</p>\n",
    "</div>\n",
    "```"
   ]
  },
  {
   "cell_type": "markdown",
   "metadata": {},
   "source": [
    "- Invalid JSX:"
   ]
  },
  {
   "cell_type": "markdown",
   "metadata": {},
   "source": [
    "```html\n",
    "<p>Paragraph One</p>\n",
    "<p>Paragraph Two</p>\n",
    "<p>Paragraph Three</p>\n",
    "```"
   ]
  },
  {
   "cell_type": "markdown",
   "metadata": {},
   "source": [
    "---"
   ]
  },
  {
   "cell_type": "markdown",
   "metadata": {},
   "source": [
    "- Define a new constant `JSX` that renders a `div` which contains the following elements in order:\n",
    "<br>\n",
    "<br>\n",
    "\n",
    "- An `h1`, a `p`, and an unordered list that contains three `li` items. You can include any text you want within each element.\n",
    "<br>\n",
    "<br>\n",
    "- Note: When rendering multiple elements like this, you can wrap them all in parentheses, but it's not strictly required. Also notice this challenge uses a `div` tag to wrap all the child elements within a single parent element. If you remove the `div`, the JSX will no longer transpile. Keep this in mind, since it will also apply when you return JSX elements in React components."
   ]
  },
  {
   "cell_type": "markdown",
   "metadata": {},
   "source": [
    "```javascript\n",
    "const JSX = <div>\n",
    "              <h1>This is list test</h1>\n",
    "              <p>Here are three list</p>\n",
    "              <ul>\n",
    "                <li>list1</li>\n",
    "                <li>list2</li>\n",
    "                <li>list3</li>              \n",
    "              </ul>\n",
    "            </div>;\n",
    "```"
   ]
  },
  {
   "cell_type": "markdown",
   "metadata": {},
   "source": [
    "---\n",
    "---"
   ]
  },
  {
   "cell_type": "markdown",
   "metadata": {},
   "source": [
    "### _React: Add Comments in JSX_"
   ]
  },
  {
   "cell_type": "markdown",
   "metadata": {},
   "source": [
    "- JSX is a syntax that gets compiled into valid JavaScript. Sometimes, for readability, you might need to add comments to your code. Like most programming languages, JSX has its own way to do this.\n",
    "<br>\n",
    "<br>\n",
    "\n",
    "- To put comments inside JSX, you use the syntax `{/* */}` to wrap around the comment text.\n",
    "<br>\n",
    "<br>\n",
    "\n",
    "- Notice: You can’t use HTML comment in JSX like this:\n",
    "    `<!-- not working -->`"
   ]
  },
  {
   "cell_type": "markdown",
   "metadata": {},
   "source": [
    "---"
   ]
  },
  {
   "cell_type": "markdown",
   "metadata": {},
   "source": [
    "- The code editor has a JSX element similar to what you created in the last challenge. Add a comment somewhere within the provided `div` element, without modifying the existing `h1` or `p` elements."
   ]
  },
  {
   "cell_type": "markdown",
   "metadata": {},
   "source": [
    "```javascript\n",
    "const JSX = (\n",
    "  <div>\n",
    "    {/*here is a comment*/}\n",
    "    <h1>This is a block of JSX</h1>\n",
    "    <p>Here's a subtitle</p>\n",
    "  </div>\n",
    ");\n",
    "```"
   ]
  },
  {
   "cell_type": "markdown",
   "metadata": {},
   "source": [
    "---\n",
    "---"
   ]
  },
  {
   "cell_type": "markdown",
   "metadata": {},
   "source": [
    "### _React: Render HTML Elements to the DOM_"
   ]
  },
  {
   "cell_type": "markdown",
   "metadata": {},
   "source": [
    "- So far, you've learned that JSX is a convenient tool to write readable HTML within JavaScript. With React, we can render this JSX directly to the HTML DOM using React's rendering API known as ReactDOM.\n",
    "<br>\n",
    "<br>\n",
    "\n",
    "- ReactDOM offers a simple method to render React elements to the DOM which looks like this: `ReactDOM.render(componentToRender, targetNode)`, where the first argument is the React element or component that you want to render, and the second argument is the DOM node that you want to render the component to.\n",
    "<br>\n",
    "<br>\n",
    "\n",
    "- As you would expect, `ReactDOM.render()` must be called after the JSX element declarations, just like how you must declare variables before using them."
   ]
  },
  {
   "cell_type": "markdown",
   "metadata": {},
   "source": [
    "---"
   ]
  },
  {
   "cell_type": "markdown",
   "metadata": {},
   "source": [
    "- The code editor has a simple JSX component. Use the `ReactDOM.render()` method to render this component to the page. You can pass defined JSX elements directly in as the first argument and use `document.getElementById()` to select the DOM node to render them to. There is a `div` with `id='challenge-node'` available for you to use. Make sure you don't change the `JSX` constant."
   ]
  },
  {
   "cell_type": "markdown",
   "metadata": {},
   "source": [
    "```javascript\n",
    "const JSX = (\n",
    "  <div>\n",
    "    <h1>Hello World</h1>\n",
    "    <p>Lets render this to the DOM</p>\n",
    "  </div>\n",
    ");\n",
    "\n",
    "ReactDOM.render(JSX,document.getElementById(\"challenge-node\"))\n",
    "```"
   ]
  },
  {
   "cell_type": "markdown",
   "metadata": {},
   "source": [
    "---\n",
    "---"
   ]
  },
  {
   "cell_type": "markdown",
   "metadata": {},
   "source": [
    "### _React: Define an HTML Class in JSX_"
   ]
  },
  {
   "cell_type": "markdown",
   "metadata": {},
   "source": [
    "- Now that you're getting comfortable writing JSX, you may be wondering how it differs from HTML.\n",
    "<br>\n",
    "<br>\n",
    "\n",
    "- So far, it may seem that HTML and JSX are exactly the same.\n",
    "<br>\n",
    "<br>\n",
    "\n",
    "- One key difference in JSX is that you can no longer use the word `class` to define HTML classes. This is because `class` is a reserved word in JavaScript. Instead, JSX uses `className`.\n",
    "<br>\n",
    "<br>\n",
    "\n",
    "- In fact, the naming convention for all HTML attributes and event references in JSX become camelCase. For example, a click event in JSX is `onClick`, instead of `onclick`. Likewise, `onchange` becomes `onChange`. While this is a subtle difference, it is an important one to keep in mind moving forward."
   ]
  },
  {
   "cell_type": "markdown",
   "metadata": {},
   "source": [
    "---"
   ]
  },
  {
   "cell_type": "markdown",
   "metadata": {},
   "source": [
    "- Apply a class of myDiv to the div provided in the JSX code."
   ]
  },
  {
   "cell_type": "markdown",
   "metadata": {},
   "source": [
    "```javascript\n",
    "const JSX = (\n",
    "  <div className= \"myDiv\">\n",
    "    <h1>Add a class to this div</h1>\n",
    "  </div>\n",
    ");\n",
    "```"
   ]
  },
  {
   "cell_type": "markdown",
   "metadata": {},
   "source": [
    "---\n",
    "---"
   ]
  },
  {
   "cell_type": "markdown",
   "metadata": {},
   "source": [
    "### _React: Learn About Self-Closing JSX Tags_"
   ]
  },
  {
   "cell_type": "markdown",
   "metadata": {},
   "source": [
    "- So far, you’ve seen how JSX differs from HTML in a key way with the use of `className` vs. `class` for defining HTML classes.\n",
    "<br>\n",
    "<br>\n",
    "\n",
    "- Another important way in which JSX differs from HTML is in the idea of the self-closing tag.\n",
    "<br>\n",
    "<br>\n",
    "\n",
    "- In HTML, almost all tags have both an opening and closing tag: `<div></div>`; the closing tag always has a forward slash before the tag name that you are closing. However, there are special instances in HTML called “self-closing tags”, or tags that don’t require both an opening and closing tag before another tag can start.\n",
    "<br>\n",
    "<br>\n",
    "\n",
    "- For example the line-break tag can be written as `<br>` or as `<br />`, but should never be written as `<br></br>`, since it doesn't contain any content.\n",
    "<br>\n",
    "<br>\n",
    "\n",
    "- In JSX, the rules are a little different. Any JSX element can be written with a self-closing tag, and every element must be closed. The line-break tag, for example, must always be written as `<br />` in order to be valid JSX that can be transpiled. A `<div>`, on the other hand, can be written as `<div />` or `<div></div>`. The difference is that in the first syntax version there is no way to include anything in the `<div />`."
   ]
  },
  {
   "cell_type": "markdown",
   "metadata": {},
   "source": [
    "<hr>"
   ]
  },
  {
   "cell_type": "markdown",
   "metadata": {},
   "source": [
    "- Fix the errors in the code editor so that it is valid JSX and successfully transpiles. Make sure you don't change any of the content - you only need to close tags where they are needed."
   ]
  },
  {
   "cell_type": "markdown",
   "metadata": {},
   "source": [
    "```javascript\n",
    "const JSX = (\n",
    "  <div>\n",
    "    <h2>Welcome to React!</h2> <br />\n",
    "    <p>Be sure to close all tags!</p>\n",
    "    <hr />\n",
    "  </div>\n",
    ");\n",
    "```"
   ]
  },
  {
   "cell_type": "markdown",
   "metadata": {},
   "source": [
    "---\n",
    "---"
   ]
  },
  {
   "cell_type": "markdown",
   "metadata": {},
   "source": [
    "### _React: Create a Stateless Functional Component_"
   ]
  },
  {
   "cell_type": "markdown",
   "metadata": {},
   "source": [
    "- Components are the core of React. Everything in React is a component and here you will learn how to create one.\n",
    "<br>\n",
    "<br>\n",
    "\n",
    "- There are two ways to create a React component. The first way is to use a JavaScript function. Defining a component in this way creates a stateless functional component. For now, think of a stateless component as one that can receive data and render it, but does not manage or track changes to that data. \n",
    "<br>\n",
    "<br>\n",
    "- To create a component with a function, you simply write a JavaScript function that returns either JSX or `null`. One important thing to note is that React requires your function name to begin with a capital letter. Here's an example of a stateless functional component that assigns an HTML class in JSX:"
   ]
  },
  {
   "cell_type": "markdown",
   "metadata": {},
   "source": [
    "// After being transpiled, the <div> will have a CSS class of 'customClass'\n",
    "const DemoComponent = function() {\n",
    "  return (\n",
    "    <div className='customClass' />\n",
    "  );\n",
    "};"
   ]
  },
  {
   "cell_type": "markdown",
   "metadata": {},
   "source": [
    "- Because a JSX component represents HTML, you could put several components together to create a more complex HTML page. This is one of the key advantages of the component architecture React provides. It allows you to compose your UI from many separate, isolated components. This makes it easier to build and maintain complex user interfaces."
   ]
  },
  {
   "cell_type": "markdown",
   "metadata": {},
   "source": [
    "---"
   ]
  },
  {
   "cell_type": "markdown",
   "metadata": {},
   "source": [
    "- The code editor has a function called `MyComponent`. Complete this function so it returns a single `div` element which contains some string of text.\n",
    "- Note: The text is considered a child of the `div` element, so you will not be able to use a self-closing tag."
   ]
  },
  {
   "cell_type": "markdown",
   "metadata": {},
   "source": [
    "```javascript\n",
    "const MyComponent = function() {\n",
    "  return (\n",
    "    <div>test</div>\n",
    "  );\n",
    "};\n",
    "```"
   ]
  },
  {
   "cell_type": "markdown",
   "metadata": {},
   "source": [
    "---\n",
    "---"
   ]
  },
  {
   "cell_type": "markdown",
   "metadata": {},
   "source": [
    "### _React: Create a React Component_"
   ]
  },
  {
   "cell_type": "markdown",
   "metadata": {},
   "source": [
    "- The other way to define a React component is with the ES6 `class` syntax. In the following example, `Kitten` extends `React.Component`:"
   ]
  },
  {
   "cell_type": "markdown",
   "metadata": {},
   "source": [
    "```javascript\n",
    "class Kitten extends React.Component {\n",
    "  constructor(props) {\n",
    "    super(props);\n",
    "  }\n",
    "\n",
    "  render() {\n",
    "    return (\n",
    "      <h1>Hi</h1>\n",
    "    );\n",
    "  }\n",
    "}\n",
    "```"
   ]
  },
  {
   "cell_type": "markdown",
   "metadata": {},
   "source": [
    "- This creates an ES6 class `Kitten` which extends the `React.Component` class. So the `Kitten` class now has access to many useful React features, such as local state and lifecycle hooks. Also notice the `Kitten` class has a constructor defined within it that calls `super()`. It uses `super()` to call the constructor of the parent class, in this case `React.Component`. The `constructor` is a special method used during the initialization of objects that are created with the `class` keyword. It is best practice to call a component's `constructor` with `super`, and pass `props` to both. This makes sure the component is initialized properly. For now, know that it is standard for this code to be included. Soon you will see other uses for the constructor as well as `props`."
   ]
  },
  {
   "cell_type": "markdown",
   "metadata": {},
   "source": [
    "---"
   ]
  },
  {
   "cell_type": "markdown",
   "metadata": {},
   "source": [
    "- `MyComponent` is defined in the code editor using class syntax. Finish writing the `render` method so it returns a `div` element that contains an `h1` with the text `Hello React!`."
   ]
  },
  {
   "cell_type": "markdown",
   "metadata": {},
   "source": [
    "```javascript\n",
    "class MyComponent extends React.Component {\n",
    "  constructor(props) {\n",
    "    super(props);\n",
    "  }\n",
    "\n",
    "  render() {\n",
    "    return (\n",
    "      <div><h1>Hello React!</h1></div>\n",
    "    );\n",
    "  }\n",
    "};\n",
    "```"
   ]
  },
  {
   "cell_type": "markdown",
   "metadata": {},
   "source": [
    "---\n",
    "---"
   ]
  },
  {
   "cell_type": "markdown",
   "metadata": {},
   "source": [
    "### _React: Create a Component with Composition_"
   ]
  },
  {
   "cell_type": "markdown",
   "metadata": {},
   "source": [
    "- Now we will look at how we can compose multiple React components together. Imagine you are building an App and have created three components, a `Navbar`, `Dashboard`, and `Footer`.\n",
    "<br>\n",
    "<br>\n",
    "\n",
    "- To compose these components together, you could create an `App` parent component which renders each of these three components as children. To render a component as a child in a React component, you include the component name written as a custom HTML tag in the JSX. For example, in the `render` method you could write:"
   ]
  },
  {
   "cell_type": "markdown",
   "metadata": {},
   "source": [
    "```javascript\n",
    "return (\n",
    " <App>\n",
    "  <Navbar />\n",
    "  <Dashboard />\n",
    "  <Footer />\n",
    " </App>\n",
    ")\n",
    "```"
   ]
  },
  {
   "cell_type": "markdown",
   "metadata": {},
   "source": [
    "- When React encounters a custom HTML tag that references another component (a component name wrapped in `< />` like in this example), it renders the markup for that component in the location of the tag. This should illustrate the parent/child relationship between the `App` component and the `Navbar`, `Dashboard`, and `Footer`."
   ]
  },
  {
   "cell_type": "markdown",
   "metadata": {},
   "source": [
    "---"
   ]
  },
  {
   "cell_type": "markdown",
   "metadata": {},
   "source": [
    "- In the code editor, there is a simple functional component called `ChildComponent` and a class component called `ParentComponent`. Compose the two together by rendering the `ChildComponent` within the `ParentComponent`. Make sure to close the `ChildComponent` tag with a forward slash."
   ]
  },
  {
   "cell_type": "markdown",
   "metadata": {},
   "source": [
    "```javascript\n",
    "const ChildComponent = () => {\n",
    "  return (\n",
    "    <div>\n",
    "      <p>I am the child</p>\n",
    "    </div>\n",
    "  );\n",
    "};\n",
    "\n",
    "class ParentComponent extends React.Component {\n",
    "  constructor(props) {\n",
    "    super(props);\n",
    "  }\n",
    "  render() {\n",
    "    return (\n",
    "      <div>\n",
    "        <h1>I am the parent</h1>\n",
    "        <ChildComponent />\n",
    "      </div>\n",
    "    );\n",
    "  }\n",
    "};\n",
    "```"
   ]
  },
  {
   "cell_type": "markdown",
   "metadata": {},
   "source": [
    "---\n",
    "---"
   ]
  },
  {
   "cell_type": "markdown",
   "metadata": {},
   "source": [
    "### _React: Use React to Render Nested Components_"
   ]
  },
  {
   "cell_type": "markdown",
   "metadata": {},
   "source": [
    "- Component composition is one of React's powerful features. When you work with React, it is important to start thinking about your user interface in terms of components like the App example in the last challenge. You break down your UI into its basic building blocks, and those pieces become the components. This helps to separate the code responsible for the UI from the code responsible for handling your application logic. It can greatly simplify the development and maintenance of complex projects."
   ]
  },
  {
   "cell_type": "markdown",
   "metadata": {},
   "source": [
    "---"
   ]
  },
  {
   "cell_type": "markdown",
   "metadata": {},
   "source": [
    "- There are two functional components defined in the code editor, called `TypesOfFruit` and `Fruits`. Take the `TypesOfFruit` component and compose it, or nest it, within the `Fruits` component. Then take the `Fruits` component and nest it within the `TypesOfFood` component. The result should be a child component, nested within a parent component, which is nested within a parent component of its own!"
   ]
  },
  {
   "cell_type": "markdown",
   "metadata": {},
   "source": [
    "```javascript\n",
    "const TypesOfFruit = () => {\n",
    "  return (\n",
    "    <div>\n",
    "      <h2>Fruits:</h2>\n",
    "      <ul>\n",
    "        <li>Apples</li>\n",
    "        <li>Blueberries</li>\n",
    "        <li>Strawberries</li>\n",
    "        <li>Bananas</li>\n",
    "      </ul>\n",
    "    </div>\n",
    "  );\n",
    "};\n",
    "\n",
    "const Fruits = () => {\n",
    "  return (\n",
    "    <div>\n",
    "      <TypesOfFruit />\n",
    "    </div>\n",
    "  );\n",
    "};\n",
    "\n",
    "class TypesOfFood extends React.Component {\n",
    "  constructor(props) {\n",
    "    super(props);\n",
    "  }\n",
    "\n",
    "  render() {\n",
    "    return (\n",
    "      <div>\n",
    "        <h1>Types of Food:</h1>\n",
    "        <Fruits />\n",
    "      </div>\n",
    "    );\n",
    "  }\n",
    "};\n",
    "```"
   ]
  },
  {
   "cell_type": "markdown",
   "metadata": {},
   "source": [
    "---\n",
    "---"
   ]
  },
  {
   "cell_type": "markdown",
   "metadata": {},
   "source": [
    "###  _React: Compose React Components_"
   ]
  },
  {
   "cell_type": "markdown",
   "metadata": {},
   "source": [
    "- As the challenges continue to use more complex compositions with React components and JSX, there is one important point to note. Rendering ES6 style class components within other components is no different than rendering the simple components you used in the last few challenges. You can render JSX elements, stateless functional components, and ES6 class components within other components."
   ]
  },
  {
   "cell_type": "markdown",
   "metadata": {},
   "source": [
    "---"
   ]
  },
  {
   "cell_type": "markdown",
   "metadata": {},
   "source": [
    "- In the code editor, the `TypesOfFood` component is already rendering a component called `Vegetables`. Also, there is the `Fruits` component from the last challenge.\n",
    "<br>\n",
    "<br>\n",
    "\n",
    "- Nest two components inside of `Fruits` — first `NonCitrus`, and then `Citrus`. Both of these components are provided for you behind the scenes. Next, nest the `Fruits` class component into the `TypesOfFood` component, below the `h1` header and above `Vegetables`. The result should be a series of nested components, which uses two different component types."
   ]
  },
  {
   "cell_type": "markdown",
   "metadata": {},
   "source": [
    "```javascript\n",
    "class Fruits extends React.Component {\n",
    "  constructor(props) {\n",
    "    super(props);\n",
    "  }\n",
    "  render() {\n",
    "    return (\n",
    "      <div>\n",
    "        <h2>Fruits:</h2>\n",
    "        { /* change code below this line */ }\n",
    "        <NonCitrus />\n",
    "        <Citrus />\n",
    "        { /* change code above this line */ }\n",
    "      </div>\n",
    "    );\n",
    "  }\n",
    "};\n",
    "\n",
    "class TypesOfFood extends React.Component {\n",
    "  constructor(props) {\n",
    "     super(props);\n",
    "  }\n",
    "  render() {\n",
    "    return (\n",
    "      <div>\n",
    "        <h1>Types of Food:</h1>\n",
    "        <Fruits />\n",
    "        <Vegetables />\n",
    "      </div>\n",
    "    );\n",
    "  }\n",
    "};\n",
    "```"
   ]
  },
  {
   "cell_type": "markdown",
   "metadata": {},
   "source": [
    "---\n",
    "---"
   ]
  },
  {
   "cell_type": "markdown",
   "metadata": {},
   "source": [
    "### _React: Render a Class Component to the DOM_"
   ]
  },
  {
   "cell_type": "markdown",
   "metadata": {},
   "source": [
    "- None of the React code you write will render to the DOM without making a call to the ReactDOM API.\n",
    "\n",
    "- Here's a refresher on the syntax: `ReactDOM.render(componentToRender, targetNode)`. The first argument is the React component that you want to render. The second argument is the DOM node that you want to render that component within.\n",
    "\n",
    "- React components are passed into `ReactDOM.render()` a little differently than JSX elements. For JSX elements, you pass in the name of the element that you want to render. However, for React components, you need to use the same syntax as if you were rendering a nested component, for example `ReactDOM.render(<ComponentToRender />, targetNode)`. You use this syntax for both ES6 class components and functional components."
   ]
  },
  {
   "cell_type": "markdown",
   "metadata": {},
   "source": [
    "---"
   ]
  },
  {
   "cell_type": "markdown",
   "metadata": {},
   "source": [
    "- Both the `Fruits` and `Vegetables` components are defined for you behind the scenes. Render both components as children of the `TypesOfFood` component, then render `TypesOfFood` to the DOM. There is a `div` with `id='challenge-node'` available for you to use."
   ]
  },
  {
   "cell_type": "markdown",
   "metadata": {},
   "source": [
    "```javascript\n",
    "class TypesOfFood extends React.Component {\n",
    "  constructor(props) {\n",
    "    super(props);\n",
    "  }\n",
    "  render() {\n",
    "    return (\n",
    "      <div>\n",
    "        <h1>Types of Food:</h1>\n",
    "        <Fruits />\n",
    "        <Vegetables />\n",
    "      </div>\n",
    "    );\n",
    "  }\n",
    "};\n",
    "\n",
    "ReactDOM.render(<TypesOfFood />, document.getElementById(\"challenge-node\"));\n",
    "```"
   ]
  },
  {
   "cell_type": "markdown",
   "metadata": {},
   "source": [
    "---\n",
    "---"
   ]
  },
  {
   "cell_type": "markdown",
   "metadata": {},
   "source": [
    "### _React: Write a React Component from Scratch_"
   ]
  },
  {
   "cell_type": "markdown",
   "metadata": {},
   "source": [
    "- Define a class `MyComponent` that extends `React.Component`. Its render method should return a `div` that contains an `h1` tag with the text: `My First React Component!` in it. Use this text exactly, the case and punctuation matter. Make sure to call the constructor for your component, too.\n",
    "<br>\n",
    "<br>\n",
    "\n",
    "- Render this component to the DOM using `ReactDOM.render()`. There is a `div` with `id='challenge-node'` available for you to use."
   ]
  },
  {
   "cell_type": "markdown",
   "metadata": {},
   "source": [
    "```javascript\n",
    "class MyComponent extends React.Component {\n",
    "  constructor(props) {\n",
    "    super(props);\n",
    "  }\n",
    "  render() {\n",
    "    return (\n",
    "      <div>\n",
    "        <h1>My First React Component!</h1>\n",
    "      </div>\n",
    "    )\n",
    "  }\n",
    "}\n",
    "\n",
    "ReactDOM.render(<MyComponent />, document.getElementById(\"challenge-node\"));\n",
    "```"
   ]
  },
  {
   "cell_type": "markdown",
   "metadata": {},
   "source": [
    "---\n",
    "---"
   ]
  },
  {
   "cell_type": "markdown",
   "metadata": {},
   "source": [
    "### _React: Pass Props to a Stateless Functional Component_"
   ]
  },
  {
   "cell_type": "markdown",
   "metadata": {},
   "source": [
    "- In React, you can pass props, or properties, to child components. Say you have an `App` component which renders a child component called `Welcome` which is a stateless functional component. You can pass `Welcome` a `user` property by writing:"
   ]
  },
  {
   "cell_type": "markdown",
   "metadata": {},
   "source": [
    "```javascript\n",
    "<App>\n",
    "  <Welcome user='Mark' />\n",
    "</App>\n",
    "```"
   ]
  },
  {
   "cell_type": "markdown",
   "metadata": {},
   "source": [
    "- You use **custom HTML attributes** created by you and supported by React to be passed to the component. In this case, the created property `user` is passed to the component `Welcome`. Since `Welcome` is a stateless functional component, it has access to this value like so:"
   ]
  },
  {
   "cell_type": "markdown",
   "metadata": {},
   "source": [
    "```javascript\n",
    "const Welcome = (props) => <h1>Hello, {props.user}!</h1>\n",
    "```"
   ]
  },
  {
   "cell_type": "markdown",
   "metadata": {},
   "source": [
    "- It is standard to call this value `props` and when dealing with stateless functional components, you basically consider it as an argument to a function which returns JSX. You can access the value of the argument in the function body. With class components, you will see this is a little different."
   ]
  },
  {
   "cell_type": "markdown",
   "metadata": {},
   "source": [
    "---"
   ]
  },
  {
   "cell_type": "markdown",
   "metadata": {},
   "source": [
    "- There are `Calendar` and `CurrentDate` components in the code editor. When rendering `CurrentDate` from the `Calendar` component, pass in a property of `date` assigned to the current date from JavaScript's `Date` object. Then access this `prop` in the `CurrentDate` component, showing its value within the `p` tags. Note that for `prop` values to be evaluated as JavaScript, they must be enclosed in curly brackets, for instance `date={Date()}`."
   ]
  },
  {
   "cell_type": "markdown",
   "metadata": {},
   "source": [
    "```javascript\n",
    "const CurrentDate = (props) => {\n",
    "  return (\n",
    "    <div>\n",
    "      <p>The current date is: {props.date}</p>     \n",
    "    </div>\n",
    "  );\n",
    "};\n",
    "\n",
    "class Calendar extends React.Component {\n",
    "  constructor(props) {\n",
    "    super(props);\n",
    "  }\n",
    "  render() {\n",
    "    return (\n",
    "      <div>\n",
    "        <h3>What date is it?</h3>      \n",
    "        <CurrentDate date={Date()} />       \n",
    "      </div>\n",
    "    );\n",
    "  }\n",
    "};\n",
    "```"
   ]
  },
  {
   "cell_type": "markdown",
   "metadata": {},
   "source": [
    "---\n",
    "---"
   ]
  },
  {
   "cell_type": "markdown",
   "metadata": {},
   "source": [
    "### _React: Pass an Array as Props_"
   ]
  },
  {
   "cell_type": "markdown",
   "metadata": {},
   "source": [
    "- The last challenge demonstrated how to pass information from a parent component to a child component as `props` or properties. This challenge looks at how arrays can be passed as `props`. To pass an array to a JSX element, it must be treated as JavaScript and wrapped in curly braces."
   ]
  },
  {
   "cell_type": "markdown",
   "metadata": {},
   "source": [
    "```javascript\n",
    "<ParentComponent>\n",
    "  <ChildComponent colors={[\"green\", \"blue\", \"red\"]} />\n",
    "</ParentComponent>\n",
    "```"
   ]
  },
  {
   "cell_type": "markdown",
   "metadata": {},
   "source": [
    "- The child component then has access to the array property `colors`. Array methods such as `join()` can be used when accessing the property. `const ChildComponent = (props) => <p>{props.colors.join(', ')}</p>` This will join all `colors` array items into a comma separated string and produce: `<p>green, blue, red</p>`"
   ]
  },
  {
   "cell_type": "markdown",
   "metadata": {},
   "source": [
    "---"
   ]
  },
  {
   "cell_type": "markdown",
   "metadata": {},
   "source": [
    "- There are `List` and `ToDo` components in the code editor. When rendering each `List` from the `ToDo` component, pass in a `tasks` property assigned to an array of to-do tasks, for example `[\"walk dog\", \"workout\"]`. Then access this `tasks` array in the `List` component, showing its value within the `p` element. Use `join(\", \")` to display the `props.tasks` array in the `p` element as a comma separated list. Today's list should have at least 2 tasks and tomorrow's should have at least 3 tasks."
   ]
  },
  {
   "cell_type": "markdown",
   "metadata": {},
   "source": [
    "```javascript\n",
    "const List = (props) => {\n",
    "  return <p>{props.tasks.join(', ')}</p>\n",
    "};\n",
    "\n",
    "class ToDo extends React.Component {\n",
    "  constructor(props) {\n",
    "    super(props);\n",
    "  }\n",
    "  render() {\n",
    "    return (\n",
    "      <div>\n",
    "        <h1>To Do Lists</h1>\n",
    "        <h2>Today</h2>\n",
    "        <List tasks={[\"walk dog\", \"workout\", \"learn codes\"]}/>\n",
    "        <h2>Tomorrow</h2>\n",
    "        <List tasks={[\"walk dog\", \"workout\", \"learn codes\"]}/>\n",
    "      </div>\n",
    "    );\n",
    "  }\n",
    "};\n",
    "```"
   ]
  },
  {
   "cell_type": "markdown",
   "metadata": {},
   "source": [
    "---\n",
    "---"
   ]
  },
  {
   "cell_type": "markdown",
   "metadata": {},
   "source": [
    "### _React: Use Default Props_"
   ]
  },
  {
   "cell_type": "markdown",
   "metadata": {},
   "source": [
    "- React also has an option to set default props. You can assign default props to a component as a property on the component itself and React assigns the default prop if necessary. This allows you to specify what a prop value should be if no value is explicitly provided. For example, if you declare `MyComponent.defaultProps = { location: 'San Francisco' }`, you have defined a location prop that's set to the string `San Francisco`, unless you specify otherwise. React assigns default props if props are undefined, but if you pass `null` as the value for a prop, it will remain `null`."
   ]
  },
  {
   "cell_type": "markdown",
   "metadata": {},
   "source": [
    "---"
   ]
  },
  {
   "cell_type": "markdown",
   "metadata": {},
   "source": [
    "- The code editor shows a `ShoppingCart` component. Define default props on this component which specify a prop `items` with a value of `0`."
   ]
  },
  {
   "cell_type": "markdown",
   "metadata": {},
   "source": [
    "```javascript\n",
    "const ShoppingCart = (props) => {\n",
    "  return (\n",
    "    <div>\n",
    "      <h1>Shopping Cart Component</h1>\n",
    "    </div>\n",
    "  )\n",
    "};\n",
    "\n",
    "ShoppingCart.defaultProps = { items: 0};\n",
    "```"
   ]
  },
  {
   "cell_type": "markdown",
   "metadata": {},
   "source": [
    "---\n",
    "---"
   ]
  },
  {
   "cell_type": "markdown",
   "metadata": {},
   "source": [
    "### _React: Override Default Props_"
   ]
  },
  {
   "cell_type": "markdown",
   "metadata": {},
   "source": [
    "- The ability to set default props is a useful feature in React. The way to override the default props is to explicitly set the prop values for a component."
   ]
  },
  {
   "cell_type": "markdown",
   "metadata": {},
   "source": [
    "---"
   ]
  },
  {
   "cell_type": "markdown",
   "metadata": {},
   "source": [
    "- The `ShoppingCart` component now renders a child component `Items`. This `Items` component has a default prop `quantity` set to the integer `0`. Override the default prop by passing in a value of `10` for `quantity`.\n",
    "\n",
    "- Note: Remember that the syntax to add a prop to a component looks similar to how you add HTML attributes. However, since the value for `quantity` is an integer, it won't go in quotes but it should be wrapped in curly braces. For example, `{100}`. This syntax tells JSX to interpret the value within the braces directly as JavaScript.\n"
   ]
  },
  {
   "cell_type": "markdown",
   "metadata": {},
   "source": [
    "```javascript\n",
    "const Items = (props) => {\n",
    "  return <h1>Current Quantity of Items in Cart: {props.quantity}</h1>\n",
    "}\n",
    "\n",
    "Items.defaultProps = {\n",
    "  quantity: 0\n",
    "}\n",
    "\n",
    "class ShoppingCart extends React.Component {\n",
    "  constructor(props) {\n",
    "    super(props);\n",
    "  }\n",
    "  render() {\n",
    "    return <Items quantity={10} />\n",
    "  }\n",
    "};\n",
    "```"
   ]
  },
  {
   "cell_type": "markdown",
   "metadata": {},
   "source": [
    "---\n",
    "---"
   ]
  },
  {
   "cell_type": "markdown",
   "metadata": {},
   "source": [
    "### _React: Use PropTypes to Define the Props You Expect_"
   ]
  },
  {
   "cell_type": "markdown",
   "metadata": {},
   "source": [
    "- React provides useful type-checking features to verify that components receive props of the correct type. For example, your application makes an API call to retrieve data that you expect to be in an array, which is then passed to a component as a prop. You can set `propTypes` on your component to require the data to be of type `array`. This will throw a useful warning when the data is of any other type.\n",
    "<br>\n",
    "<br>\n",
    "\n",
    "- It's considered a best practice to set `propTypes` when you know the type of a prop ahead of time. You can define a `propTypes` property for a component in the same way you defined `defaultProps`. Doing this will check that props of a given key are present with a given type. Here's an example to require the type `function` for a prop called `handleClick`:\n",
    "\n",
    "    `MyComponent.propTypes = { handleClick: PropTypes.func.isRequired }`\n",
    "\n",
    "- In the example above, the `PropTypes.func` part checks that `handleClick` is a function. Adding `isRequired` tells React that `handleClick` is a required property for that component. You will see a warning if that prop isn't provided. Also notice that `func` represents `function`. Among the seven JavaScript primitive types, `function` and `boolean` (written as `bool`) are the only two that use unusual spelling. In addition to the primitive types, there are other types available. For example, you can check that a prop is a React element. Please refer to the [documentation](https://reactjs.org/docs/jsx-in-depth.html#specifying-the-react-element-type) for all of the options.\n",
    "<br>\n",
    "<br>\n",
    "\n",
    "- Note: As of React v15.5.0, `PropTypes` is imported independently from React, like this: `import PropTypes from 'prop-types'`;"
   ]
  },
  {
   "cell_type": "markdown",
   "metadata": {},
   "source": [
    "---"
   ]
  },
  {
   "cell_type": "markdown",
   "metadata": {},
   "source": [
    "- Define `propTypes` for the `Items` component to require `quantity` as a prop and verify that it is of type `number`."
   ]
  },
  {
   "cell_type": "markdown",
   "metadata": {},
   "source": [
    "```javascript\n",
    "const Items = (props) => {\n",
    "  return <h1>Current Quantity of Items in Cart: {props.quantity}</h1>\n",
    "};\n",
    "\n",
    "Items.propTypes = {\n",
    "  quantity: PropTypes.number.isRequired\n",
    "};\n",
    "\n",
    "Items.defaultProps = {\n",
    "  quantity: 0\n",
    "};\n",
    "\n",
    "class ShoppingCart extends React.Component {\n",
    "  constructor(props) {\n",
    "    super(props);\n",
    "  }\n",
    "  render() {\n",
    "    return <Items />\n",
    "  }\n",
    "};\n",
    "```"
   ]
  },
  {
   "cell_type": "markdown",
   "metadata": {},
   "source": [
    "---\n",
    "---"
   ]
  },
  {
   "cell_type": "markdown",
   "metadata": {},
   "source": [
    "### _React: Access Props Using this.props_"
   ]
  },
  {
   "cell_type": "markdown",
   "metadata": {},
   "source": [
    "- The last several challenges covered the basic ways to pass props to child components. But what if the child component that you're passing a prop to is an ES6 class component, rather than a stateless functional component? The ES6 class component uses a slightly different convention to access props.\n",
    "- Anytime you refer to a class component within itself, you use the `this` keyword. To access props within a class component, you preface the code that you use to access it with `this`. For example, if an ES6 class component has a prop called `data`, you write `{this.props.data}` in JSX."
   ]
  },
  {
   "cell_type": "markdown",
   "metadata": {},
   "source": [
    "<hr>"
   ]
  },
  {
   "cell_type": "markdown",
   "metadata": {},
   "source": [
    "- Render an instance of the `ReturnTempPassword` component in the parent component `ResetPassword`. Here, give `ReturnTempPassword` a prop of `tempPassword` and assign it a value of a string that is at least 8 characters long. Within the child, `ReturnTempPassword`, access the `tempPassword` prop within the `strong` tags to make sure the user sees the temporary password."
   ]
  },
  {
   "cell_type": "markdown",
   "metadata": {},
   "source": [
    "```javascript\n",
    "class ReturnTempPassword extends React.Component {\n",
    "  constructor(props) {\n",
    "    super(props);\n",
    "\n",
    "  }\n",
    "  render() {\n",
    "    return (\n",
    "        <div>\n",
    "            <p>Your temporary password is: <strong>{this.props.tempPassword}</strong></p>\n",
    "        </div>\n",
    "    );\n",
    "  }\n",
    "};\n",
    "\n",
    "class ResetPassword extends React.Component {\n",
    "  constructor(props) {\n",
    "    super(props);\n",
    "\n",
    "  }\n",
    "  render() {\n",
    "    return (\n",
    "        <div>\n",
    "          <h2>Reset Password</h2>\n",
    "          <h3>We've generated a new temporary password for you.</h3>\n",
    "          <h3>Please reset this password from your account settings ASAP.</h3>\n",
    "          <ReturnTempPassword tempPassword=\"12345678\" />\n",
    "        </div>\n",
    "    );\n",
    "  }\n",
    "};\n",
    "```"
   ]
  },
  {
   "cell_type": "markdown",
   "metadata": {},
   "source": [
    "<hr>\n",
    "<hr>"
   ]
  },
  {
   "cell_type": "markdown",
   "metadata": {},
   "source": [
    "### _React: Review Using Props with Stateless Functional Components_"
   ]
  },
  {
   "cell_type": "markdown",
   "metadata": {},
   "source": [
    "- A _stateless functional component_ is any function you write which accepts props and returns JSX. A stateless component, on the other hand, is a class that extends `React.Component`, but does not use internal state (covered in the next challenge). Finally, a stateful component is a class component that does maintain its own internal state. You may see stateful components referred to simply as components or React components.\n"
   ]
  },
  {
   "cell_type": "markdown",
   "metadata": {},
   "source": [
    "- A common pattern is to try to minimize statefulness and to create stateless functional components wherever possible. This helps contain your state management to a specific area of your application. In turn, this improves development and maintenance of your app by making it easier to follow how changes to state affect its behavior."
   ]
  },
  {
   "cell_type": "markdown",
   "metadata": {},
   "source": [
    "<hr>"
   ]
  },
  {
   "cell_type": "markdown",
   "metadata": {},
   "source": [
    "- The code editor has a `CampSite` component that renders a `Camper` component as a child. Define the `Camper` component and assign it default props of `{ name: 'CamperBot' }`. Inside the `Camper` component, render any code that you want, but make sure to have one `p` element that includes only the `name` value that is passed in as a `prop`. Finally, define `propTypes` on the `Camper` component to require `name` to be provided as a prop and verify that it is of type `string`."
   ]
  },
  {
   "cell_type": "markdown",
   "metadata": {},
   "source": [
    "```javascript\n",
    "class CampSite extends React.Component {\n",
    "  constructor(props) {\n",
    "    super(props);\n",
    "  }\n",
    "  render() {\n",
    "    return (\n",
    "      <div>\n",
    "        <Camper/>\n",
    "      </div>\n",
    "    );\n",
    "  }\n",
    "};\n",
    "\n",
    "const Camper = props => <p>{props.name}</p>\n",
    "\n",
    "Camper.defaultProps = {\n",
    "  name: \"CamperBot\"\n",
    "};\n",
    "\n",
    "Camper.propTypes = {\n",
    "  name: PropTypes.string.isRequired\n",
    "};\n",
    "```"
   ]
  },
  {
   "cell_type": "markdown",
   "metadata": {},
   "source": [
    "### _React: Create a Stateful Component_"
   ]
  },
  {
   "cell_type": "markdown",
   "metadata": {},
   "source": [
    "- One of the most important topics in React is `state`. State consists of any data your application needs to know about, that can change over time. You want your apps to respond to state changes and present an updated UI when necessary. React offers a nice solution for the state management of modern web applications."
   ]
  },
  {
   "cell_type": "markdown",
   "metadata": {},
   "source": [
    "- You create state in a React component by declaring a `state` property on the component class in its `constructor`. This initializes the component with `state` when it is created. The `state` property must be set to a JavaScript `object`. Declaring it looks like this:"
   ]
  },
  {
   "cell_type": "markdown",
   "metadata": {},
   "source": [
    "```javascript\n",
    "this.state = {\n",
    "  // describe your state here\n",
    "}\n",
    "```"
   ]
  },
  {
   "cell_type": "markdown",
   "metadata": {},
   "source": [
    "- You have access to the `state` object throughout the life of your component. You can update it, render it in your UI, and pass it as props to child components. The `state` object can be as complex or as simple as you need it to be. Note that you must create a class component by extending `React.Component` in order to create `state` like this."
   ]
  },
  {
   "cell_type": "markdown",
   "metadata": {},
   "source": [
    "<hr>"
   ]
  },
  {
   "cell_type": "markdown",
   "metadata": {},
   "source": [
    "- There is a component in the code editor that is trying to render a `name` property from its `state`. However, there is no `state` defined. Initialize the component with `state` in the `constructor` and assign your name to a property of `name`."
   ]
  },
  {
   "cell_type": "markdown",
   "metadata": {},
   "source": [
    "```javascript\n",
    "class StatefulComponent extends React.Component {\n",
    "  constructor(props) {\n",
    "    super(props);\n",
    "    this.state = {\n",
    "      name: 'Myname'\n",
    "    }\n",
    "  }\n",
    "  render() {\n",
    "    return (\n",
    "      <div>\n",
    "        <h1>{this.state.name}</h1>\n",
    "      </div>\n",
    "    );\n",
    "  }\n",
    "};\n",
    "\n",
    "```"
   ]
  },
  {
   "cell_type": "markdown",
   "metadata": {},
   "source": [
    "### _React: Render State in the User Interface_"
   ]
  },
  {
   "cell_type": "markdown",
   "metadata": {},
   "source": [
    "- Once you define a component's initial state, you can display any part of it in the UI that is rendered. If a component is stateful, it will always have access to the data in `state` in its `render()` method. You can access the data with `this.state`."
   ]
  },
  {
   "cell_type": "markdown",
   "metadata": {},
   "source": [
    "- If you want to access a state value within the `return` of the render method, you have to enclose the value in curly braces."
   ]
  },
  {
   "cell_type": "markdown",
   "metadata": {},
   "source": [
    "- `State` is one of the most powerful features of components in React. It allows you to track important data in your app and render a UI in response to changes in this data. If your data changes, your UI will change. React uses what is called a virtual DOM, to keep track of changes behind the scenes. When state data updates, it triggers a re-render of the components using that data - including child components that received the data as a prop. React updates the actual DOM, but only where necessary. This means you don't have to worry about changing the DOM. You simply declare what the UI should look like."
   ]
  },
  {
   "cell_type": "markdown",
   "metadata": {},
   "source": [
    "- Note that if you make a component stateful, no other components are aware of its `state`. Its `state` is completely encapsulated, or local to that component, unless you pass state data to a child component as `props`. This notion of encapsulated `state` is very important because it allows you to write certain logic, then have that logic contained and isolated in one place in your code."
   ]
  },
  {
   "cell_type": "markdown",
   "metadata": {},
   "source": [
    "<hr>"
   ]
  },
  {
   "cell_type": "markdown",
   "metadata": {},
   "source": [
    "- In the code editor, `MyComponent` is already stateful. Define an `h1` tag in the component's render method which renders the value of `name` from the component's state."
   ]
  },
  {
   "cell_type": "markdown",
   "metadata": {},
   "source": [
    "- Note: The `h1` should only render the value from `state` and nothing else. In JSX, any code you write with curly braces `{ }` will be treated as JavaScript. So to access the value from `state` just enclose the reference in curly braces."
   ]
  },
  {
   "cell_type": "markdown",
   "metadata": {},
   "source": [
    "```javascript\n",
    "class MyComponent extends React.Component {\n",
    "  constructor(props) {\n",
    "    super(props);\n",
    "    this.state = {\n",
    "      name: 'freeCodeCamp'\n",
    "    }\n",
    "  }\n",
    "  render() {\n",
    "    return (\n",
    "      <div>\n",
    "        <h1>{this.state.name}</h1>\n",
    "      </div>\n",
    "    );\n",
    "  }\n",
    "};\n",
    "\n",
    "```"
   ]
  },
  {
   "cell_type": "markdown",
   "metadata": {},
   "source": [
    "### _React: Render State in the User Interface Another Way_"
   ]
  },
  {
   "cell_type": "markdown",
   "metadata": {},
   "source": [
    "- There is another way to access `state` in a component. In the `render()` method, before the `return` statement, you can write JavaScript directly. For example, you could declare functions, access data from `state` or `props`, perform computations on this data, and so on. Then, you can assign any data to variables, which you have access to in the `return` statement."
   ]
  },
  {
   "cell_type": "markdown",
   "metadata": {},
   "source": [
    "<hr>"
   ]
  },
  {
   "cell_type": "markdown",
   "metadata": {},
   "source": [
    "- In the `MyComponent` render method, define a `const` called `name` and set it equal to the name value in the component's `state`. Because you can write JavaScript directly in this part of the code, you don't have to enclose this reference in curly braces."
   ]
  },
  {
   "cell_type": "markdown",
   "metadata": {},
   "source": [
    "- Next, in the return statement, render this value in an `h1` tag using the variable `name`. Remember, you need to use the JSX syntax (curly braces for JavaScript) in the return statement."
   ]
  },
  {
   "cell_type": "markdown",
   "metadata": {},
   "source": [
    "```javascript\n",
    "class MyComponent extends React.Component {\n",
    "  constructor(props) {\n",
    "    super(props);\n",
    "    this.state = {\n",
    "      name: 'freeCodeCamp'\n",
    "    }\n",
    "  }\n",
    "  render() {\n",
    "    const name = this.state.name;\n",
    "    return (\n",
    "      <div>\n",
    "        <h1>{name}</h1>\n",
    "      </div>\n",
    "    );\n",
    "  }\n",
    "};\n",
    "\n",
    "```"
   ]
  },
  {
   "cell_type": "markdown",
   "metadata": {},
   "source": [
    "### _React: Set State with this.setState_"
   ]
  },
  {
   "cell_type": "markdown",
   "metadata": {},
   "source": [
    "- The previous challenges covered component `state` and how to initialize state in the `constructor`. There is also a way to change the component's `state`. React provides a method for updating component `state` called `setState`. You call the `setState` method within your component class like so: `this.setState()`, passing in an object with key-value pairs. The keys are your state properties and the values are the updated state data. For instance, if we were storing a `username` in state and wanted to update it, it would look like this:"
   ]
  },
  {
   "cell_type": "markdown",
   "metadata": {},
   "source": [
    "```javascript\n",
    "\n",
    "this.setState({\n",
    "  username: 'Lewis'\n",
    "});\n",
    "```"
   ]
  },
  {
   "cell_type": "markdown",
   "metadata": {},
   "source": [
    "- React expects you to never modify `state` directly, instead always use `this.setState()` when state changes occur. Also, you should note that React may batch multiple state updates in order to improve performance. What this means is that state updates through the `setState` method can be asynchronous. There is an alternative syntax for the `setState` method which provides a way around this problem. This is rarely needed but it's good to keep it in mind! Please consult the [React documentation](https://reactjs.org/docs/state-and-lifecycle.html) for further details."
   ]
  },
  {
   "cell_type": "markdown",
   "metadata": {},
   "source": [
    "<hr>"
   ]
  },
  {
   "cell_type": "markdown",
   "metadata": {},
   "source": [
    "- There is a `button` element in the code editor which has an `onClick()` handler. This handler is triggered when the `button` receives a click event in the browser, and runs the `handleClick` method defined on MyComponent. Within the handleClick method, update the component `state` using `this.setState()`. Set the `name` property in `state` to equal the string `React Rocks!`."
   ]
  },
  {
   "cell_type": "markdown",
   "metadata": {},
   "source": [
    "```javascript\n",
    "\n",
    "class MyComponent extends React.Component {\n",
    "  constructor(props) {\n",
    "    super(props);\n",
    "    this.state = {\n",
    "      name: 'Initial State'\n",
    "    };\n",
    "    this.handleClick = this.handleClick.bind(this);\n",
    "  }\n",
    "  handleClick() {\n",
    "    this.setState({name: 'React Rocks!'})\n",
    "  }\n",
    "  render() {\n",
    "    return (\n",
    "      <div>\n",
    "        <button onClick={this.handleClick}>Click Me</button>\n",
    "        <h1>{this.state.name}</h1>\n",
    "      </div>\n",
    "    );\n",
    "  }\n",
    "};\n",
    "\n",
    "```"
   ]
  },
  {
   "cell_type": "markdown",
   "metadata": {},
   "source": [
    "### _React: Bind 'this' to a Class Method_"
   ]
  },
  {
   "cell_type": "markdown",
   "metadata": {},
   "source": [
    "- In addition to setting and updating `state`, you can also define methods for your component class. A class method typically needs to use the `this` keyword so it can access properties on the class (such as `state` and `props`) inside the scope of the method. There are a few ways to allow your class methods to access `this`."
   ]
  },
  {
   "cell_type": "markdown",
   "metadata": {},
   "source": [
    "- One common way is to explicitly bind `this` in the constructor so `this` becomes bound to the class methods when the component is initialized. You may have noticed the last challenge used `this.handleClick = this.handleClick.bind(this)` for its `handleClick` method in the constructor. Then, when you call a function like `this.setState()` within your class method, `this` refers to the class and will not be `undefined`."
   ]
  },
  {
   "cell_type": "markdown",
   "metadata": {},
   "source": [
    "<hr>"
   ]
  },
  {
   "cell_type": "markdown",
   "metadata": {},
   "source": [
    "- The code editor has a component with a `state` that keeps track of the text. It also has a method which allows you to set the text to `\"You clicked!\"`. However, the method doesn't work because it's using the `this` keyword that is undefined. Fix it by explicitly binding `this` to the `handleClick()` method in the component's constructor."
   ]
  },
  {
   "cell_type": "markdown",
   "metadata": {},
   "source": [
    "- Next, add a click handler to the `button` element in the render method. It should trigger the `handleClick()` method when the button receives a click event. Remember that the method you pass to the `onClick` handler needs curly braces because it should be interpreted directly as JavaScript."
   ]
  },
  {
   "cell_type": "markdown",
   "metadata": {},
   "source": [
    "```javascript\n",
    "class MyComponent extends React.Component {\n",
    "  constructor(props) {\n",
    "    super(props);\n",
    "    this.state = {\n",
    "      text: \"Hello\"\n",
    "    };\n",
    "    this.handleClick = this.handleClick.bind(this);\n",
    "  }\n",
    "  handleClick() {\n",
    "    this.setState({\n",
    "      text: \"You clicked!\"\n",
    "    });\n",
    "  }\n",
    "  render() {\n",
    "    return (\n",
    "      <div>\n",
    "        <button onClick={this.handleClick}>Click Me</button>\n",
    "        <h1>{this.state.text}</h1>\n",
    "      </div>\n",
    "    );\n",
    "  }\n",
    "};\n",
    "```"
   ]
  },
  {
   "cell_type": "markdown",
   "metadata": {},
   "source": [
    "### _React: Use State to Toggle an Element_"
   ]
  },
  {
   "cell_type": "markdown",
   "metadata": {},
   "source": [
    "- Sometimes you might need to know the previous state when updating the state. However, state updates may be asynchronous - this means React may batch multiple `setState()` calls into a single update. This means you can't rely on the previous value of `this.state` or `this.props` when calculating the next value. So, you <b><em>should not</em></b> use code like this:"
   ]
  },
  {
   "cell_type": "markdown",
   "metadata": {},
   "source": [
    "```javascript\n",
    "\n",
    "this.setState({\n",
    "  counter: this.state.counter + this.props.increment\n",
    "});\n",
    "```"
   ]
  },
  {
   "cell_type": "markdown",
   "metadata": {},
   "source": [
    "- Instead, you should pass `setState` a function that allows you to access state and props. Using a function with `setState` guarantees you are working with the most current values of state and props. This means that the above should be rewritten as:"
   ]
  },
  {
   "cell_type": "markdown",
   "metadata": {},
   "source": [
    "```javascript\n",
    "this.setState((state, props) => ({\n",
    "  counter: state.counter + props.increment\n",
    "}));\n",
    "\n",
    "```"
   ]
  },
  {
   "cell_type": "markdown",
   "metadata": {},
   "source": [
    "- You can also use a form without `props` if you need only the `state`:"
   ]
  },
  {
   "cell_type": "markdown",
   "metadata": {},
   "source": [
    "```javascript\n",
    "this.setState(state => ({\n",
    "  counter: state.counter + 1\n",
    "}));\n",
    "```"
   ]
  },
  {
   "cell_type": "markdown",
   "metadata": {},
   "source": [
    "- Note that you have to wrap the object literal in parentheses, otherwise JavaScript thinks it's a block of code."
   ]
  },
  {
   "cell_type": "markdown",
   "metadata": {},
   "source": [
    "<hr>"
   ]
  },
  {
   "cell_type": "markdown",
   "metadata": {},
   "source": [
    "- `MyComponent` has a `visibility` property which is initialized to `false`. The render method returns one view if the value of `visibility` is true, and a different view if it is false."
   ]
  },
  {
   "cell_type": "markdown",
   "metadata": {},
   "source": [
    "- Currently, there is no way of updating the `visibility` property in the component's `state`. The value should toggle back and forth between true and false. There is a click handler on the button which triggers a class method called `toggleVisibility()`. Pass a function to `setState` to define this method so that the `state` of `visibility` toggles to the opposite value when the method is called. If `visibility` is `false`, the method sets it to `true`, and vice versa."
   ]
  },
  {
   "cell_type": "markdown",
   "metadata": {},
   "source": [
    "#### Solution 1:"
   ]
  },
  {
   "cell_type": "markdown",
   "metadata": {},
   "source": [
    "```javascript\n",
    "class MyComponent extends React.Component {\n",
    "  constructor(props) {\n",
    "    super(props);\n",
    "    this.state = {\n",
    "      visibility: false\n",
    "    };\n",
    "    this.toggleVisibility= this.toggleVisibility.bind(this);\n",
    "  }\n",
    "  toggleVisibility() {\n",
    "    this.setState(state => {\n",
    "      if (state.visibility === true) {\n",
    "        return {visibility: false};\n",
    "      }\n",
    "      else {\n",
    "        return {visibility: true};\n",
    "      }\n",
    "    });\n",
    "  }\n",
    "  render() {\n",
    "    if (this.state.visibility) {\n",
    "      return (\n",
    "        <div>\n",
    "          <button onClick={this.toggleVisibility}>Click Me</button>\n",
    "          <h1>Now you see me!</h1>\n",
    "        </div>\n",
    "      );\n",
    "    } else {\n",
    "      return (\n",
    "        <div>\n",
    "          <button onClick={this.toggleVisibility}>Click Me</button>\n",
    "        </div>\n",
    "      );\n",
    "    }\n",
    "  }\n",
    "};\n",
    "```"
   ]
  },
  {
   "cell_type": "markdown",
   "metadata": {},
   "source": [
    "#### Solution 2:"
   ]
  },
  {
   "cell_type": "markdown",
   "metadata": {},
   "source": [
    "```javascript\n",
    "class MyComponent extends React.Component {\n",
    "  constructor(props) {\n",
    "    super(props);\n",
    "    this.state = {\n",
    "      visibility: false\n",
    "    };\n",
    "    this.toggleVisibility = this.toggleVisibility.bind(this);\n",
    "   }\n",
    "  toggleVisibility() {\n",
    "    this.setState(state => ({\n",
    "      visibility: !state.visibility\n",
    "    }));\n",
    "  }\n",
    "  render() {\n",
    "    if (this.state.visibility) {\n",
    "      return (\n",
    "        <div>\n",
    "          <button onClick = {this.toggleVisibility}>Click Me</button>\n",
    "          <h1>Now you see me!</h1>\n",
    "        </div>\n",
    "      );\n",
    "    } else {\n",
    "      return (\n",
    "        <div>\n",
    "          <button onClick = {this.toggleVisibility}>Click Me</button>\n",
    "        </div>\n",
    "      );\n",
    "    }\n",
    "  }\n",
    "};\n",
    "```"
   ]
  },
  {
   "cell_type": "markdown",
   "metadata": {},
   "source": [
    "### _React: Write a Simple Counter_"
   ]
  },
  {
   "cell_type": "markdown",
   "metadata": {},
   "source": [
    "- You can design a more complex stateful component by combining the concepts covered so far. These include initializing `state`, writing methods that set `state`, and assigning click handlers to trigger these methods."
   ]
  },
  {
   "cell_type": "markdown",
   "metadata": {},
   "source": [
    "<hr>"
   ]
  },
  {
   "cell_type": "markdown",
   "metadata": {},
   "source": [
    "- The `Counter` component keeps track of a `count` value in `state`. There are two buttons which call methods `increment()` and `decrement()`. Write these methods so the counter value is incremented or decremented by 1 when the appropriate button is clicked. Also, create a `reset()` method so when the reset button is clicked, the count is set to 0."
   ]
  },
  {
   "cell_type": "markdown",
   "metadata": {},
   "source": [
    "```javascript\n",
    "class Counter extends React.Component {\n",
    "  constructor(props) {\n",
    "    super(props);\n",
    "    this.state = {\n",
    "      count: 0\n",
    "    };\n",
    "    this.increment = this.increment.bind(this)\n",
    "    this.decrement = this.decrement.bind(this)\n",
    "    this.reset = this.reset.bind(this)\n",
    "  }\n",
    "  increment() {\n",
    "    this.setState(state => (\n",
    "      {count: state.count + 1}\n",
    "    ))\n",
    "  }\n",
    "\n",
    "  decrement() {\n",
    "    this.setState(state => (\n",
    "      {count: state.count -1}\n",
    "    ))\n",
    "  }\n",
    "\n",
    "  reset() {\n",
    "    this.setState(state => (\n",
    "      {count: 0}\n",
    "    ))\n",
    "  }\n",
    "  render() {\n",
    "    return (\n",
    "      <div>\n",
    "        <button className='inc' onClick={this.increment}>Increment!</button>\n",
    "        <button className='dec' onClick={this.decrement}>Decrement!</button>\n",
    "        <button className='reset' onClick={this.reset}>Reset</button>\n",
    "        <h1>Current Count: {this.state.count}</h1>\n",
    "      </div>\n",
    "    );\n",
    "  }\n",
    "};\n",
    "\n",
    "```"
   ]
  },
  {
   "cell_type": "markdown",
   "metadata": {},
   "source": [
    "### _React: Create a Controlled Input_"
   ]
  },
  {
   "cell_type": "markdown",
   "metadata": {},
   "source": [
    "- Your application may have more complex interactions between `state` and the rendered UI. For example, form control elements for text input, such as `input` and `textarea`, maintain their own state in the DOM as the user types. With React, you can move this mutable state into a React component's `state`. The user's input becomes part of the application `state`, so React controls the value of that input field. Typically, if you have React components with input fields the user can type into, it will be a controlled input form."
   ]
  },
  {
   "cell_type": "markdown",
   "metadata": {},
   "source": [
    "<hr>"
   ]
  },
  {
   "cell_type": "markdown",
   "metadata": {},
   "source": [
    "- The code editor has the skeleton of a component called `ControlledInput` to create a controlled `input` element. The component's `state` is already initialized with an `input` property that holds an empty string. This value represents the text a user types into the `input` field."
   ]
  },
  {
   "cell_type": "markdown",
   "metadata": {},
   "source": [
    "- First, create a method called `handleChange()` that has a parameter called `event`. When the method is called, it receives an `event` object that contains a string of text from the `input` element. You can access this string with `event.target.value` inside the method. Update the `input` property of the component's `state` with this new string."
   ]
  },
  {
   "cell_type": "markdown",
   "metadata": {},
   "source": [
    "- In the render method, create the `input` element above the `h4` tag. Add a `value` attribute which is equal to the `input` property of the component's `state`. Then add an `onChange()` event handler set to the `handleChange()` method."
   ]
  },
  {
   "cell_type": "markdown",
   "metadata": {},
   "source": [
    "- When you type in the input box, that text is processed by the `handleChange()` method, set as the `input` property in the local `state`, and rendered as the value in the `input` box on the page. The component `state` is the single source of truth regarding the input data."
   ]
  },
  {
   "cell_type": "markdown",
   "metadata": {},
   "source": [
    "```javascript\n",
    "class ControlledInput extends React.Component {\n",
    "  constructor(props) {\n",
    "    super(props);\n",
    "    this.state = {\n",
    "      input: ''\n",
    "    };\n",
    "    this.handleChange = this.handleChange.bind(this);\n",
    "  }\n",
    "  handleChange(event) {\n",
    "    this.setState({\n",
    "      input: event.target.value\n",
    "    })\n",
    "  }\n",
    "  render() {\n",
    "    return (\n",
    "      <div>\n",
    "        <input value={this.state.input} onChange={this.handleChange}/>\n",
    "        <h4>Controlled Input:</h4>\n",
    "        <p>{this.state.input}</p>\n",
    "      </div>\n",
    "    );\n",
    "  }\n",
    "};\n",
    "```"
   ]
  },
  {
   "cell_type": "markdown",
   "metadata": {},
   "source": [
    "### _React: Create a Controlled Form_"
   ]
  },
  {
   "cell_type": "markdown",
   "metadata": {},
   "source": [
    "- The `MyForm` component is set up with an empty `form` with a submit handler. The submit handler will be called when the form is submitted."
   ]
  },
  {
   "cell_type": "markdown",
   "metadata": {},
   "source": [
    "- We've added a button which submits the form. You can see it has the `type` set to `submit` indicating it is the button controlling the form. Add the `input` element in the `form` and set its `value` and `onChange()` attributes like the last challenge. You should then complete the `handleSubmit` method so that it sets the component state property `submit` to the current input value in the local `state`."
   ]
  },
  {
   "cell_type": "markdown",
   "metadata": {},
   "source": [
    "- Note:  You also must call `event.preventDefault()` in the submit handler, to prevent the default form submit behavior which will refresh the web page."
   ]
  },
  {
   "cell_type": "markdown",
   "metadata": {},
   "source": [
    "- Finally, create an `h1` tag after the `form` which renders the `submit` value from the component's `state`. You can then type in the form and click the button (or press enter), and you should see your input rendered to the page."
   ]
  },
  {
   "cell_type": "markdown",
   "metadata": {},
   "source": [
    "```javascript\n",
    "class MyForm extends React.Component {\n",
    "  constructor(props) {\n",
    "    super(props);\n",
    "    this.state = {\n",
    "      input: '',\n",
    "      submit: ''\n",
    "    };\n",
    "    this.handleChange = this.handleChange.bind(this);\n",
    "    this.handleSubmit = this.handleSubmit.bind(this);\n",
    "  }\n",
    "  handleChange(event) {\n",
    "    this.setState({\n",
    "      input: event.target.value\n",
    "    });\n",
    "  }\n",
    "  handleSubmit(event) {\n",
    "    event.preventDefault()\n",
    "    this.setState({\n",
    "      submit: this.state.input\n",
    "    });\n",
    "  }\n",
    "  render() {\n",
    "    return (\n",
    "      <div>\n",
    "        <form onSubmit={this.handleSubmit}>\n",
    "          <input\n",
    "            value={this.state.input}\n",
    "            onChange={this.handleChange} />\n",
    "          <button type='submit'>Submit!</button>\n",
    "        </form>\n",
    "        <h1>{this.state.submit}</h1>\n",
    "      </div>\n",
    "    );\n",
    "  }\n",
    "};\n",
    "```"
   ]
  },
  {
   "cell_type": "markdown",
   "metadata": {},
   "source": [
    "### _React: Pass State as Props to Child Components_"
   ]
  },
  {
   "cell_type": "markdown",
   "metadata": {},
   "source": [
    "- You may be wondering where those props come from. A common pattern is to have a stateful component containing the `state` important to your app, that then renders child components. You want these components to have access to some pieces of that `state`, which are passed in as props."
   ]
  },
  {
   "cell_type": "markdown",
   "metadata": {},
   "source": [
    "- For example, maybe you have an `App` component that renders a `Navbar`, among other components. In your `App`, you have `state` that contains a lot of user information, but the `Navbar` only needs access to the user's username so it can display it. You pass that piece of `state` to the `Navbar` component as a prop."
   ]
  },
  {
   "cell_type": "markdown",
   "metadata": {},
   "source": [
    "- This pattern illustrates some important paradigms in React. The first is <b><em>unidirectional data flow</em></b>. State flows in one direction down the tree of your application's components, from the stateful parent component to child components. The child components only receive the state data they need. "
   ]
  },
  {
   "cell_type": "markdown",
   "metadata": {},
   "source": [
    "- The second is that complex stateful apps can be broken down into just a few, or maybe a single, stateful component. The rest of your components simply receive state from the parent as props, and render a UI from that state. It begins to create a separation where state management is handled in one part of code and UI rendering in another. This principle of separating state logic from UI logic is one of React's key principles. When it's used correctly, it makes the design of complex, stateful applications much easier to manage."
   ]
  },
  {
   "cell_type": "markdown",
   "metadata": {},
   "source": [
    "<hr>"
   ]
  },
  {
   "cell_type": "markdown",
   "metadata": {},
   "source": [
    "- The `MyApp` component is stateful and renders a `Navbar` component as a child. Pass the `name` property in its `state` down to the child component, then show the `name` in the `h1` tag that's part of the `Navbar` render method."
   ]
  },
  {
   "cell_type": "markdown",
   "metadata": {},
   "source": [
    "```javascript\n",
    "class MyApp extends React.Component {\n",
    "  constructor(props) {\n",
    "    super(props);\n",
    "    this.state = {\n",
    "      name: \"CamperBot\"\n",
    "    };\n",
    "  }\n",
    "  render() {\n",
    "    return (\n",
    "      <div>\n",
    "        // Here we will call this.state.name in order to pass the value of\n",
    "        // CamperBot to the NavBar component\n",
    "        <Navbar name={this.state.name} />\n",
    "      </div>\n",
    "    );\n",
    "  }\n",
    "}\n",
    "\n",
    "class Navbar extends React.Component {\n",
    "  constructor(props) {\n",
    "    super(props);\n",
    "  }\n",
    "  render() {\n",
    "    return (\n",
    "      <div>\n",
    "        // Since we passed in the CamperBot state value into the the NavBar component above \n",
    "        // the h1 element below will render the value passed\n",
    "        from state\n",
    "        <h1>Hello, my name is: {this.props.name}</h1>\n",
    "      </div>\n",
    "    );\n",
    "  }\n",
    "}\n",
    "```"
   ]
  },
  {
   "cell_type": "code",
   "execution_count": null,
   "metadata": {},
   "outputs": [],
   "source": []
  },
  {
   "cell_type": "code",
   "execution_count": null,
   "metadata": {},
   "outputs": [],
   "source": []
  },
  {
   "cell_type": "code",
   "execution_count": null,
   "metadata": {},
   "outputs": [],
   "source": []
  },
  {
   "cell_type": "code",
   "execution_count": null,
   "metadata": {},
   "outputs": [],
   "source": []
  },
  {
   "cell_type": "code",
   "execution_count": null,
   "metadata": {},
   "outputs": [],
   "source": []
  },
  {
   "cell_type": "code",
   "execution_count": null,
   "metadata": {},
   "outputs": [],
   "source": []
  },
  {
   "cell_type": "code",
   "execution_count": null,
   "metadata": {},
   "outputs": [],
   "source": []
  },
  {
   "cell_type": "code",
   "execution_count": null,
   "metadata": {},
   "outputs": [],
   "source": []
  },
  {
   "cell_type": "code",
   "execution_count": null,
   "metadata": {},
   "outputs": [],
   "source": []
  },
  {
   "cell_type": "code",
   "execution_count": null,
   "metadata": {},
   "outputs": [],
   "source": []
  },
  {
   "cell_type": "code",
   "execution_count": null,
   "metadata": {},
   "outputs": [],
   "source": []
  },
  {
   "cell_type": "code",
   "execution_count": null,
   "metadata": {},
   "outputs": [],
   "source": []
  },
  {
   "cell_type": "code",
   "execution_count": null,
   "metadata": {},
   "outputs": [],
   "source": []
  },
  {
   "cell_type": "code",
   "execution_count": null,
   "metadata": {},
   "outputs": [],
   "source": []
  },
  {
   "cell_type": "code",
   "execution_count": null,
   "metadata": {},
   "outputs": [],
   "source": []
  },
  {
   "cell_type": "code",
   "execution_count": null,
   "metadata": {},
   "outputs": [],
   "source": []
  },
  {
   "cell_type": "code",
   "execution_count": null,
   "metadata": {},
   "outputs": [],
   "source": []
  },
  {
   "cell_type": "code",
   "execution_count": null,
   "metadata": {},
   "outputs": [],
   "source": []
  }
 ],
 "metadata": {
  "kernelspec": {
   "display_name": "Python 3",
   "language": "python",
   "name": "python3"
  },
  "language_info": {
   "codemirror_mode": {
    "name": "ipython",
    "version": 3
   },
   "file_extension": ".py",
   "mimetype": "text/x-python",
   "name": "python",
   "nbconvert_exporter": "python",
   "pygments_lexer": "ipython3",
   "version": "3.7.4"
  }
 },
 "nbformat": 4,
 "nbformat_minor": 2
}
