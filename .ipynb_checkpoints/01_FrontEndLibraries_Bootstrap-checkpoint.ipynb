{
 "cells": [
  {
   "cell_type": "markdown",
   "metadata": {},
   "source": [
    "### _Bootstrap: Use Responsive Design with Bootstrap Fluid Containers_"
   ]
  },
  {
   "cell_type": "markdown",
   "metadata": {},
   "source": [
    "With responsive design, there is no need to design a mobile version of your website. It will look good on devices with screens of any width.\n",
    "\n",
    "You can add Bootstrap to any app by adding the following code to the top of your HTML:"
   ]
  },
  {
   "cell_type": "markdown",
   "metadata": {},
   "source": [
    "```html\n",
    "<link rel=\"stylesheet\" href=\"https://maxcdn.bootstrapcdn.com/bootstrap/3.3.7/css/bootstrap.min.css\" integrity=\"sha384-BVYiiSIFeK1dGmJRAkycuHAHRg32OmUcww7on3RYdg4Va+PmSTsz/K68vbdEjh4u\" crossorigin=\"anonymous\"/>\n",
    "```"
   ]
  },
  {
   "cell_type": "markdown",
   "metadata": {},
   "source": [
    "<!--for this page use -->\n",
    "<link rel=\"stylesheet\" href=\"https://maxcdn.bootstrapcdn.com/bootstrap/3.3.7/css/bootstrap.min.css\" integrity=\"sha384-BVYiiSIFeK1dGmJRAkycuHAHRg32OmUcww7on3RYdg4Va+PmSTsz/K68vbdEjh4u\" crossorigin=\"anonymous\"/>"
   ]
  },
  {
   "cell_type": "markdown",
   "metadata": {},
   "source": [
    "### _Bootstrap: Make Images Mobile Responsive_"
   ]
  },
  {
   "cell_type": "markdown",
   "metadata": {},
   "source": [
    "- all we need to do is add the `img-responsive` class to your image. Do this, and the image should perfectly fit the width of your page."
   ]
  },
  {
   "cell_type": "markdown",
   "metadata": {},
   "source": [
    "### _Bootstrap: Center Text with Bootstrap_"
   ]
  },
  {
   "cell_type": "markdown",
   "metadata": {},
   "source": [
    "- Now that we're using Bootstrap, we can center our heading element to make it look better. All we need to do is add the class `text-center` to our `h2` element."
   ]
  },
  {
   "cell_type": "markdown",
   "metadata": {},
   "source": [
    "### _Bootstrap: Create a Bootstrap Button_"
   ]
  },
  {
   "cell_type": "markdown",
   "metadata": {},
   "source": [
    "- Normally, your button elements with the btn and btn-default classes are only as wide as the text that they contain. For example:\n",
    "\n",
    "    `<button class=\"btn btn-default\">Submit</button>`\n",
    "\n",
    "- This button would only be as wide as the word \"Submit\".\n",
    "\n",
    "\n",
    "- By making them block elements with the additional class of` btn-block`, your button will stretch to fill your page's entire horizontal space and any elements following it will flow onto a \"new line\" below the block.\n",
    "\n",
    "    `<button class=\"btn btn-default btn-block\">Submit</button>`\n",
    "\n",
    "- This button would take up 100% of the available width."
   ]
  },
  {
   "cell_type": "markdown",
   "metadata": {},
   "source": [
    "### _Bootstrap: Taste the Bootstrap Button Color Rainbow_"
   ]
  },
  {
   "cell_type": "markdown",
   "metadata": {},
   "source": [
    "- The `btn-primary` class is the main color you'll use in your app. It is useful for highlighting actions you want your user to take."
   ]
  },
  {
   "cell_type": "markdown",
   "metadata": {},
   "source": [
    "### _Bootstrap: Call out Optional Actions with btn-info_"
   ]
  },
  {
   "cell_type": "markdown",
   "metadata": {},
   "source": [
    "- Bootstrap comes with several pre-defined colors for buttons. The `btn-info` class is used to call attention to optional actions that the user can take."
   ]
  },
  {
   "cell_type": "markdown",
   "metadata": {},
   "source": [
    "### _Bootstrap: Warn Your Users of a Dangerous Action with btn-danger_"
   ]
  },
  {
   "cell_type": "markdown",
   "metadata": {},
   "source": [
    "- Bootstrap comes with several pre-defined colors for buttons. The `btn-danger` class is the button color you'll use to notify users that the button performs a destructive action, such as deleting a cat photo."
   ]
  },
  {
   "cell_type": "markdown",
   "metadata": {},
   "source": [
    "### _Bootstrap: Use the Bootstrap Grid to Put Elements Side By Side_"
   ]
  },
  {
   "cell_type": "markdown",
   "metadata": {},
   "source": [
    "- Bootstrap uses a responsive 12-column grid system, which makes it easy to put elements into rows and specify each element's relative width. Most of Bootstrap's classes can be applied to a `div` element.\n",
    "\n",
    "- Bootstrap has different column width attributes that it uses depending on how wide the user's screen is. For example, phones have narrow screens, and laptops have wider screens.\n",
    "\n",
    "- Take for example Bootstrap's `col-md-*` class. Here, `md` means medium, and `*` is a number specifying how many columns wide the element should be. In this case, the column width of an element on a medium-sized screen, such as a laptop, is being specified.\n",
    "\n",
    "- In the Cat Photo App that we're building, we'll use `col-xs-*`, where `xs` means extra small (like an extra-small mobile phone screen), and `*` is the number of columns specifying how many columns wide the element should be."
   ]
  },
  {
   "cell_type": "markdown",
   "metadata": {},
   "source": [
    "### _Bootstrap: Use a span to Target Inline Elements_"
   ]
  },
  {
   "cell_type": "markdown",
   "metadata": {},
   "source": [
    "- By using the inline `span` element, you can put several elements on the same line, and even style different parts of the same line differently."
   ]
  },
  {
   "cell_type": "markdown",
   "metadata": {},
   "source": [
    "```html\n",
    "<p>Top 3 things cats <span class=\"text-danger\">hate:</span></p>\n",
    "```"
   ]
  },
  {
   "cell_type": "markdown",
   "metadata": {},
   "source": [
    "### _Bootstrap: Add Font Awesome Icons to our Buttons_"
   ]
  },
  {
   "cell_type": "markdown",
   "metadata": {},
   "source": [
    "- Font Awesome is a convenient library of icons. These icons can be webfonts or vector graphics. These icons are treated just like fonts. You can specify their size using pixels, and they will assume the font size of their parent HTML elements.\n",
    "\n",
    "- You can include Font Awesome in any app by adding the following code to the top of your HTML:"
   ]
  },
  {
   "cell_type": "markdown",
   "metadata": {},
   "source": [
    "<link rel=\"stylesheet\" href=\"https://use.fontawesome.com/releases/v5.8.1/css/all.css\" integrity=\"sha384-50oBUHEmvpQ+1lW4y57PTFmhCaXp0ML5d60M1M7uH2+nqUivzIebhndOJK28anvf\" crossorigin=\"anonymous\">"
   ]
  },
  {
   "cell_type": "markdown",
   "metadata": {},
   "source": [
    "- In this case, we've already added it for you to this page behind the scenes.\n",
    "\n",
    "- The `i` element was originally used to make other elements italic, but is now commonly used for icons. You can add the Font Awesome classes to the `i` element to turn it into an icon, for example:\n",
    "\n",
    "- Note that the span element is also acceptable for use with icons."
   ]
  },
  {
   "cell_type": "markdown",
   "metadata": {},
   "source": [
    "```html\n",
    "<i class=\"fas fa-info-circle\"></i>\n",
    "```"
   ]
  },
  {
   "cell_type": "markdown",
   "metadata": {},
   "source": [
    "- Use Font Awesome to add a `thumbs-up` icon to your like button by giving it an `i` element with the classes `fas` and `fa-thumbs-up`. Make sure to keep the text \"Like\" next to the icon."
   ]
  },
  {
   "cell_type": "markdown",
   "metadata": {},
   "source": [
    "```html\n",
    "<link href=\"https://fonts.googleapis.com/css?family=Lobster\" rel=\"stylesheet\" type=\"text/css\">\n",
    "<button class=\"btn btn-block btn-primary\"><i class=\"fa fa-thumbs-up\"></i> Like</button>\n",
    "```"
   ]
  },
  {
   "cell_type": "markdown",
   "metadata": {},
   "source": [
    "<link href=\"https://fonts.googleapis.com/css?family=Lobster\" rel=\"stylesheet\" type=\"text/css\">\n",
    "<button class=\"btn btn-block btn-primary\"><i class=\"fa fa-thumbs-up\"></i> Like</button>"
   ]
  },
  {
   "cell_type": "markdown",
   "metadata": {},
   "source": [
    "### _Bootstrap: Add Font Awesome Icons to all of our Buttons_"
   ]
  },
  {
   "cell_type": "markdown",
   "metadata": {},
   "source": [
    "- Font Awesome is a convenient library of icons. These icons can be web fonts or vector graphics. These icons are treated just like fonts. You can specify their size using pixels, and they will assume the font size of their parent HTML elements.\n",
    "\n",
    "- Use Font Awesome to amdd an `info-circle` icon to your info button and a `trash` icon to your delete button.\n",
    "\n",
    "- Note: The `span` element is an acceptable alternative to the `i` element for the directions below."
   ]
  },
  {
   "cell_type": "markdown",
   "metadata": {},
   "source": [
    "```html\n",
    "<link href=\"https://fonts.googleapis.com/css?family=Lobster\" rel=\"stylesheet\" type=\"text/css\">\n",
    "<button class=\"btn btn-block btn-info\"><i class=\"fa fa-info-circle\"></i> Info</button>\n",
    "<button class=\"btn btn-block btn-danger\"><i class=\"fa fa-trash\"></i> Delete</button>\n",
    "```"
   ]
  },
  {
   "cell_type": "markdown",
   "metadata": {},
   "source": [
    "<button class=\"btn btn-block btn-info\"><i class=\"fa fa-info-circle\"></i> Info</button>\n",
    "<button class=\"btn btn-block btn-danger\"><i class=\"fa fa-trash\"></i> Delete</button>"
   ]
  },
  {
   "cell_type": "markdown",
   "metadata": {},
   "source": [
    "### _Bootstrap: Responsively Style Radio Buttons_"
   ]
  },
  {
   "cell_type": "markdown",
   "metadata": {},
   "source": [
    "- You can use Bootstrap's `col-xs-*` classes on `form` elements, too! This way, our radio buttons will be evenly spread out across the page, regardless of how wide the screen resolution is."
   ]
  },
  {
   "cell_type": "markdown",
   "metadata": {},
   "source": [
    "### _Bootstrap: Responsively Style Checkboxes_"
   ]
  },
  {
   "cell_type": "markdown",
   "metadata": {},
   "source": [
    "- Since Bootstrap's `col-xs-*` classes are applicable to all `form` elements, you can use them on your checkboxes too! This way, the checkboxes will be evenly spread out across the page, regardless of how wide the screen resolution is."
   ]
  },
  {
   "cell_type": "markdown",
   "metadata": {},
   "source": [
    "### _Bootstrap: Style Text Inputs as Form Controls_"
   ]
  },
  {
   "cell_type": "markdown",
   "metadata": {},
   "source": [
    "- You can add the `fa-paper-plane` Font Awesome icon by adding `<i class=\"fa fa-paper-plane\"></i>` within your submit `button` element.\n",
    "\n",
    "- Give your form's text input field a class of `form-control`. Give your form's submit button the classes `btn btn-primary`. Also give this button the Font Awesome icon of `fa-paper-plane`.\n",
    "\n",
    "- All textual `<input>`, `<textarea>`, and `<select>` elements with the class `.form-control` have a width of 100%."
   ]
  },
  {
   "cell_type": "markdown",
   "metadata": {},
   "source": [
    "  ```html\n",
    "   <form action=\"/submit-cat-photo\">\n",
    "    <div class=\"row\">\n",
    "      <div class=\"col-xs-6\">\n",
    "        <label><input type=\"radio\" name=\"indoor-outdoor\"> Indoor</label>\n",
    "      </div>\n",
    "      <div class=\"col-xs-6\">\n",
    "        <label><input type=\"radio\" name=\"indoor-outdoor\"> Outdoor</label>\n",
    "      </div>\n",
    "    </div>\n",
    "    <div class=\"row\">\n",
    "      <div class=\"col-xs-4\">\n",
    "        <label><input type=\"checkbox\" name=\"personality\"> Loving</label>\n",
    "      </div>\n",
    "      <div class=\"col-xs-4\">\n",
    "        <label><input type=\"checkbox\" name=\"personality\"> Lazy</label>\n",
    "      </div>\n",
    "      <div class=\"col-xs-4\">\n",
    "        <label><input type=\"checkbox\" name=\"personality\"> Crazy</label>\n",
    "      </div>\n",
    "    </div>\n",
    "    <input class=\"form-control\" type=\"text\" placeholder=\"cat photo URL\" required>\n",
    "    <button class=\"btn btn-primary\" type=\"submit\"><i class=\"fa fa-paper-plane\">Submit</i></button>\n",
    "  </form>\n",
    "```"
   ]
  },
  {
   "cell_type": "markdown",
   "metadata": {},
   "source": [
    "  <form action=\"/submit-cat-photo\">\n",
    "    <div class=\"row\">\n",
    "      <div class=\"col-xs-6\">\n",
    "        <label><input type=\"radio\" name=\"indoor-outdoor\"> Indoor</label>\n",
    "      </div>\n",
    "      <div class=\"col-xs-6\">\n",
    "        <label><input type=\"radio\" name=\"indoor-outdoor\"> Outdoor</label>\n",
    "      </div>\n",
    "    </div>\n",
    "    <div class=\"row\">\n",
    "      <div class=\"col-xs-4\">\n",
    "        <label><input type=\"checkbox\" name=\"personality\"> Loving</label>\n",
    "      </div>\n",
    "      <div class=\"col-xs-4\">\n",
    "        <label><input type=\"checkbox\" name=\"personality\"> Lazy</label>\n",
    "      </div>\n",
    "      <div class=\"col-xs-4\">\n",
    "        <label><input type=\"checkbox\" name=\"personality\"> Crazy</label>\n",
    "      </div>\n",
    "    </div>\n",
    "    <input class=\"form-control\" type=\"text\" placeholder=\"cat photo URL\" required>\n",
    "    <button class=\"btn btn-primary\" type=\"submit\"><i class=\"fa fa-paper-plane\">Submit</i></button>\n",
    "  </form>"
   ]
  },
  {
   "cell_type": "markdown",
   "metadata": {},
   "source": [
    "### _Bootstrap: Line up Form Elements Responsively with Bootstrap_"
   ]
  },
  {
   "cell_type": "markdown",
   "metadata": {},
   "source": [
    "- Now let's get your form `input` and your submission `button` on the same line. We'll do this the same way we have previously: by using a `div` element with the class `row`, and other `div` elements within it using the `col-xs-*` class.\n",
    "\n",
    "- Nest both your form's text i`nput` and submit `button` within a `div` with the class `row`. Nest your form's text `input` within a `div` with the class of `col-xs-7`. Nest your form's submit `button` in a `div` with the class `col-xs-5`."
   ]
  },
  {
   "cell_type": "markdown",
   "metadata": {},
   "source": [
    "```html\n",
    "   <form action=\"/submit-cat-photo\">\n",
    "    <div class=\"row\">\n",
    "      <div class=\"col-xs-6\">\n",
    "        <label><input type=\"radio\" name=\"indoor-outdoor\"> Indoor</label>\n",
    "      </div>\n",
    "      <div class=\"col-xs-6\">\n",
    "        <label><input type=\"radio\" name=\"indoor-outdoor\"> Outdoor</label>\n",
    "      </div>\n",
    "    </div>\n",
    "    <div class=\"row\">\n",
    "      <div class=\"col-xs-4\">\n",
    "        <label><input type=\"checkbox\" name=\"personality\"> Loving</label>\n",
    "      </div>\n",
    "      <div class=\"col-xs-4\">\n",
    "        <label><input type=\"checkbox\" name=\"personality\"> Lazy</label>\n",
    "      </div>\n",
    "      <div class=\"col-xs-4\">\n",
    "        <label><input type=\"checkbox\" name=\"personality\"> Crazy</label>\n",
    "      </div>\n",
    "    </div>\n",
    "    <div class=\"row\">\n",
    "      <div class=\"col-xs-7\">\n",
    "        <input  type=\"text\" class=\"form-control\" placeholder=\"cat photo URL\" required>\n",
    "      </div>\n",
    "      <div class=\"col-xs-5\">\n",
    "        <button class=\"col-xs-5\" type=\"submit\" class=\"btn btn-primary\"><i class=\"fa fa-paper-plane\"></i> Submit</button>\n",
    "      </div>\n",
    "    </div>\n",
    "  </form>\n",
    "```"
   ]
  },
  {
   "cell_type": "markdown",
   "metadata": {},
   "source": [
    "  <form action=\"/submit-cat-photo\">\n",
    "    <div class=\"row\">\n",
    "      <div class=\"col-xs-6\">\n",
    "        <label><input type=\"radio\" name=\"indoor-outdoor\"> Indoor</label>\n",
    "      </div>\n",
    "      <div class=\"col-xs-6\">\n",
    "        <label><input type=\"radio\" name=\"indoor-outdoor\"> Outdoor</label>\n",
    "      </div>\n",
    "    </div>\n",
    "    <div class=\"row\">\n",
    "      <div class=\"col-xs-4\">\n",
    "        <label><input type=\"checkbox\" name=\"personality\"> Loving</label>\n",
    "      </div>\n",
    "      <div class=\"col-xs-4\">\n",
    "        <label><input type=\"checkbox\" name=\"personality\"> Lazy</label>\n",
    "      </div>\n",
    "      <div class=\"col-xs-4\">\n",
    "        <label><input type=\"checkbox\" name=\"personality\"> Crazy</label>\n",
    "      </div>\n",
    "    </div>\n",
    "    <div class=\"row\">\n",
    "      <div class=\"col-xs-7\">\n",
    "        <input  type=\"text\" class=\"form-control\" placeholder=\"cat photo URL\" required>\n",
    "      </div>\n",
    "      <div class=\"col-xs-5\">\n",
    "        <button class=\"col-xs-5\" type=\"submit\" class=\"btn btn-primary\"><i class=\"fa fa-paper-plane\"></i> Submit</button>\n",
    "      </div>\n",
    "    </div>\n",
    "  </form>"
   ]
  },
  {
   "cell_type": "markdown",
   "metadata": {},
   "source": [
    "#### This is the last challenge we'll do for our Cat Photo App for now"
   ]
  },
  {
   "cell_type": "markdown",
   "metadata": {},
   "source": [
    "<link href=\"https://fonts.googleapis.com/css?family=Lobster\" rel=\"stylesheet\" type=\"text/css\">\n",
    "<style>\n",
    "  h2 {\n",
    "    font-family: Lobster, Monospace;\n",
    "  }\n",
    "\n",
    "  .thick-green-border {\n",
    "    border-color: green;\n",
    "    border-width: 10px;\n",
    "    border-style: solid;\n",
    "    border-radius: 50%;\n",
    "  }\n",
    "\n",
    "</style>\n",
    "\n",
    "<div class=\"container-fluid\">\n",
    "  <div class=\"row\">\n",
    "    <div class=\"col-xs-8\">\n",
    "      <h2 class=\"text-primary text-center\">CatPhotoApp</h2>\n",
    "    </div>\n",
    "    <div class=\"col-xs-4\">\n",
    "      <a href=\"#\"><img class=\"img-responsive thick-green-border\" src=\"https://bit.ly/fcc-relaxing-cat\" alt=\"A cute orange cat lying on its back.\"></a>\n",
    "    </div>\n",
    "  </div>\n",
    "  <img src=\"https://bit.ly/fcc-running-cats\" class=\"img-responsive\" alt=\"Three kittens running towards the camera.\">\n",
    "  <div class=\"row\">\n",
    "    <div class=\"col-xs-4\">\n",
    "      <button class=\"btn btn-block btn-primary\"><i class=\"fa fa-thumbs-up\"></i> Like</button>\n",
    "    </div>\n",
    "    <div class=\"col-xs-4\">\n",
    "      <button class=\"btn btn-block btn-info\"><i class=\"fa fa-info-circle\"></i> Info</button>\n",
    "    </div>\n",
    "    <div class=\"col-xs-4\">\n",
    "      <button class=\"btn btn-block btn-danger\"><i class=\"fa fa-trash\"></i> Delete</button>\n",
    "    </div>\n",
    "  </div>\n",
    "  <p>Things cats <span class=\"text-danger\">love:</span></p>\n",
    "  <ul>\n",
    "    <li>cat nip</li>\n",
    "    <li>laser pointers</li>\n",
    "    <li>lasagna</li>\n",
    "  </ul>\n",
    "  <p>Top 3 things cats hate:</p>\n",
    "  <ol>\n",
    "    <li>flea treatment</li>\n",
    "    <li>thunder</li>\n",
    "    <li>other cats</li>\n",
    "  </ol>\n",
    "  <form action=\"/submit-cat-photo\">\n",
    "    <div class=\"row\">\n",
    "      <div class=\"col-xs-6\">\n",
    "        <label><input type=\"radio\" name=\"indoor-outdoor\"> Indoor</label>\n",
    "      </div>\n",
    "      <div class=\"col-xs-6\">\n",
    "        <label><input type=\"radio\" name=\"indoor-outdoor\"> Outdoor</label>\n",
    "      </div>\n",
    "    </div>\n",
    "    <div class=\"row\">\n",
    "      <div class=\"col-xs-4\">\n",
    "        <label><input type=\"checkbox\" name=\"personality\"> Loving</label>\n",
    "      </div>\n",
    "      <div class=\"col-xs-4\">\n",
    "        <label><input type=\"checkbox\" name=\"personality\"> Lazy</label>\n",
    "      </div>\n",
    "      <div class=\"col-xs-4\">\n",
    "        <label><input type=\"checkbox\" name=\"personality\"> Crazy</label>\n",
    "      </div>\n",
    "    </div>\n",
    "    <div class=\"row\">\n",
    "      <div class=\"col-xs-7\">\n",
    "        <input type=\"text\" class=\"form-control\" placeholder=\"cat photo URL\" required>\n",
    "      </div>\n",
    "      <div class=\"col-xs-5\">\n",
    "        <button type=\"submit\" class=\"btn btn-primary\"><i class=\"fa fa-paper-plane\"></i> Submit</button>\n",
    "      </div>\n",
    "    </div>\n",
    "  </form>\n",
    "</div>"
   ]
  },
  {
   "cell_type": "markdown",
   "metadata": {},
   "source": [
    "### _Bootstrap: Create a Bootstrap Headline_"
   ]
  },
  {
   "cell_type": "markdown",
   "metadata": {},
   "source": [
    "- To start with, create an `h3` element, with the text `jQuery Playground`.\n",
    "\n",
    "- Color your `h3` element with the `text-primary` Bootstrap class, and center it with the `text-center` Bootstrap class."
   ]
  },
  {
   "cell_type": "markdown",
   "metadata": {},
   "source": [
    "```html\n",
    "<h3 class=\"text-primary text-center\">jQuery Playground</h3>\n",
    "```"
   ]
  },
  {
   "cell_type": "markdown",
   "metadata": {},
   "source": [
    "<h3 class=\"text-primary text-center\">jQuery Playground</h3>"
   ]
  },
  {
   "cell_type": "markdown",
   "metadata": {},
   "source": [
    "### _Bootstrap: House our page within a Bootstrap container-fluid div_"
   ]
  },
  {
   "cell_type": "markdown",
   "metadata": {},
   "source": [
    "- Now let's make sure all the content on your page is mobile-responsive.\n",
    "\n",
    "- Let's nest your `h3` element within a `div` element with the class `container-fluid`."
   ]
  },
  {
   "cell_type": "markdown",
   "metadata": {},
   "source": [
    "```html\n",
    "<div class=\"container-fluid\">\n",
    "  <h3 class=\"text-primary text-center\">jQuery Playground</h3>\n",
    "</div>\n",
    "```"
   ]
  },
  {
   "cell_type": "markdown",
   "metadata": {},
   "source": [
    "<div class=\"container-fluid\">\n",
    "  <h3 class=\"text-primary text-center\">jQuery Playground</h3>\n",
    "</div>"
   ]
  },
  {
   "cell_type": "markdown",
   "metadata": {},
   "source": [
    "### _Bootstrap: Create a Bootstrap Row_"
   ]
  },
  {
   "cell_type": "markdown",
   "metadata": {},
   "source": [
    "- Now we'll create a Bootstrap row for our inline elements.\n",
    "\n",
    "- Create a `div` element below the `h3` tag, with a class of `row`."
   ]
  },
  {
   "cell_type": "markdown",
   "metadata": {},
   "source": [
    "```html\n",
    "<div class=\"container-fluid\">\n",
    "  <h3 class=\"text-primary text-center\">jQuery Playground</h3>\n",
    "  <div class=\"row\">\n",
    "  </div>\n",
    "</div>\n",
    "```"
   ]
  },
  {
   "cell_type": "markdown",
   "metadata": {},
   "source": [
    "### _Bootstrap: Split Your Bootstrap Row_"
   ]
  },
  {
   "cell_type": "markdown",
   "metadata": {},
   "source": [
    "- Now that we have a Bootstrap Row, let's split it into two columns to house our elements.\n",
    "\n",
    "- Create two `div` elements within your row, both with the class `col-xs-6`."
   ]
  },
  {
   "cell_type": "markdown",
   "metadata": {},
   "source": [
    "```html\n",
    "<div class=\"container-fluid\">\n",
    "  <h3 class=\"text-primary text-center\">jQuery Playground</h3>\n",
    "  <div class=\"row\">\n",
    "    <div class=\"col-xs-6\">\n",
    "    </div>\n",
    "    <div class=\"col-xs-6\">\n",
    "    </div>\n",
    "  </div>\n",
    "</div>\n",
    "```"
   ]
  },
  {
   "cell_type": "markdown",
   "metadata": {},
   "source": [
    "### _Bootstrap: Create Bootstrap Wells_"
   ]
  },
  {
   "cell_type": "markdown",
   "metadata": {},
   "source": [
    "- Bootstrap has a class called `well` that can create a visual sense of depth for your columns.\n",
    "\n",
    "- Nest one `div` element with the class `well` within each of your `col-xs-6` `div` elements."
   ]
  },
  {
   "cell_type": "markdown",
   "metadata": {},
   "source": [
    "```html\n",
    "<div class=\"container-fluid\">\n",
    "  <h3 class=\"text-primary text-center\">jQuery Playground</h3>\n",
    "  <div class=\"row\">\n",
    "    <div class=\"col-xs-6\">\n",
    "      <div class=\"well\">\n",
    "      </div>\n",
    "    </div>\n",
    "    <div class=\"col-xs-6\">\n",
    "      <div class=\"well\">\n",
    "      </div>\n",
    "    </div>\n",
    "  </div>\n",
    "</div>\n",
    "```"
   ]
  },
  {
   "cell_type": "markdown",
   "metadata": {},
   "source": [
    "<div class=\"container-fluid\">\n",
    "  <h3 class=\"text-primary text-center\">jQuery Playground</h3>\n",
    "  <div class=\"row\">\n",
    "    <div class=\"col-xs-6\">\n",
    "      <div class=\"well\">\n",
    "      </div>\n",
    "    </div>\n",
    "    <div class=\"col-xs-6\">\n",
    "      <div class=\"well\">\n",
    "      </div>\n",
    "    </div>\n",
    "  </div>\n",
    "</div>"
   ]
  },
  {
   "cell_type": "markdown",
   "metadata": {},
   "source": [
    "### _Bootstrap: Add Elements within Your Bootstrap Wells_"
   ]
  },
  {
   "cell_type": "markdown",
   "metadata": {},
   "source": [
    "- Nest three `button` elements within each of your `well` `div` elements."
   ]
  },
  {
   "cell_type": "code",
   "execution_count": null,
   "metadata": {},
   "outputs": [],
   "source": [
    "```html\n",
    "<div class=\"container-fluid\">\n",
    "  <h3 class=\"text-primary text-center\">jQuery Playground</h3>\n",
    "  <div class=\"row\">\n",
    "    <div class=\"col-xs-6\">\n",
    "      <div class=\"well\">\n",
    "        <button></button>\n",
    "        <button></button>\n",
    "        <button></button>\n",
    "      </div>\n",
    "    </div>\n",
    "    <div class=\"col-xs-6\">\n",
    "      <div class=\"well\">\n",
    "        <button></button>\n",
    "        <button></button>\n",
    "        <button></button>\n",
    "      </div>\n",
    "    </div>\n",
    "  </div>\n",
    "</div>"
   ]
  },
  {
   "cell_type": "markdown",
   "metadata": {},
   "source": [
    "<div class=\"container-fluid\">\n",
    "  <h3 class=\"text-primary text-center\">jQuery Playground</h3>\n",
    "  <div class=\"row\">\n",
    "    <div class=\"col-xs-6\">\n",
    "      <div class=\"well\">\n",
    "        <button></button>\n",
    "        <button></button>\n",
    "        <button></button>\n",
    "      </div>\n",
    "    </div>\n",
    "    <div class=\"col-xs-6\">\n",
    "      <div class=\"well\">\n",
    "        <button></button>\n",
    "        <button></button>\n",
    "        <button></button>\n",
    "      </div>\n",
    "    </div>\n",
    "  </div>\n",
    "</div>\n"
   ]
  },
  {
   "cell_type": "markdown",
   "metadata": {},
   "source": [
    "### _Bootstrap: Apply the Default Bootstrap Button Style_"
   ]
  },
  {
   "cell_type": "markdown",
   "metadata": {},
   "source": [
    "- Bootstrap has another button class called `btn-default`.\n",
    "\n",
    "- Apply both the `btn` and `btn-default` classes to each of your `button` elements."
   ]
  },
  {
   "cell_type": "markdown",
   "metadata": {},
   "source": [
    "```html\n",
    "<div class=\"container-fluid\">\n",
    "  <h3 class=\"text-primary text-center\">jQuery Playground</h3>\n",
    "  <div class=\"row\">\n",
    "    <div class=\"col-xs-6\">\n",
    "      <div class=\"well\">\n",
    "        <button class=\"btn btn-default\"></button>\n",
    "        <button class=\"btn btn-default\"></button>\n",
    "        <button class=\"btn btn-default\"></button>\n",
    "      </div>\n",
    "    </div>\n",
    "    <div class=\"col-xs-6\">\n",
    "      <div class=\"well\">\n",
    "        <button class=\"btn btn-default\"></button>\n",
    "        <button class=\"btn btn-default\"></button>\n",
    "        <button class=\"btn btn-default\"></button>\n",
    "      </div>\n",
    "    </div>\n",
    "  </div>\n",
    "</div>\n",
    "```"
   ]
  },
  {
   "cell_type": "markdown",
   "metadata": {},
   "source": [
    "<div class=\"container-fluid\">\n",
    "  <h3 class=\"text-primary text-center\">jQuery Playground</h3>\n",
    "  <div class=\"row\">\n",
    "    <div class=\"col-xs-6\">\n",
    "      <div class=\"well\">\n",
    "        <button class=\"btn btn-default\"></button>\n",
    "        <button class=\"btn btn-default\"></button>\n",
    "        <button class=\"btn btn-default\"></button>\n",
    "      </div>\n",
    "    </div>\n",
    "    <div class=\"col-xs-6\">\n",
    "      <div class=\"well\">\n",
    "        <button class=\"btn btn-default\"></button>\n",
    "        <button class=\"btn btn-default\"></button>\n",
    "        <button class=\"btn btn-default\"></button>\n",
    "      </div>\n",
    "    </div>\n",
    "  </div>\n",
    "</div>"
   ]
  },
  {
   "cell_type": "markdown",
   "metadata": {},
   "source": [
    "### _Bootstrap: Create a Class to Target with jQuery Selectors_"
   ]
  },
  {
   "cell_type": "markdown",
   "metadata": {},
   "source": [
    "- Not every class needs to have corresponding CSS. Sometimes we create classes just for the purpose of selecting these elements more easily using jQuery.\n",
    "\n",
    "- Give each of your `button` elements the class `target`."
   ]
  },
  {
   "cell_type": "markdown",
   "metadata": {},
   "source": [
    "```html\n",
    "<div class=\"container-fluid\">\n",
    "  <h3 class=\"text-primary text-center\">jQuery Playground</h3>\n",
    "  <div class=\"row\">\n",
    "    <div class=\"col-xs-6\">\n",
    "      <div class=\"well\">\n",
    "        <button class=\"btn btn-default target\"></button>\n",
    "        <button class=\"btn btn-default target\"></button>\n",
    "        <button class=\"btn btn-default target\"></button>\n",
    "      </div>\n",
    "    </div>\n",
    "    <div class=\"col-xs-6\">\n",
    "      <div class=\"well\">\n",
    "        <button class=\"btn btn-default target\"></button>\n",
    "        <button class=\"btn btn-default target\"></button>\n",
    "        <button class=\"btn btn-default target\"></button>\n",
    "      </div>\n",
    "    </div>\n",
    "  </div>\n",
    "</div>\n",
    "```"
   ]
  },
  {
   "cell_type": "markdown",
   "metadata": {},
   "source": [
    "<div class=\"container-fluid\">\n",
    "  <h3 class=\"text-primary text-center\">jQuery Playground</h3>\n",
    "  <div class=\"row\">\n",
    "    <div class=\"col-xs-6\">\n",
    "      <div class=\"well\">\n",
    "        <button class=\"btn btn-default target\"></button>\n",
    "        <button class=\"btn btn-default target\"></button>\n",
    "        <button class=\"btn btn-default target\"></button>\n",
    "      </div>\n",
    "    </div>\n",
    "    <div class=\"col-xs-6\">\n",
    "      <div class=\"well\">\n",
    "        <button class=\"btn btn-default target\"></button>\n",
    "        <button class=\"btn btn-default target\"></button>\n",
    "        <button class=\"btn btn-default target\"></button>\n",
    "      </div>\n",
    "    </div>\n",
    "  </div>\n",
    "</div>"
   ]
  },
  {
   "cell_type": "markdown",
   "metadata": {},
   "source": [
    "### _Bootstrap: Add id Attributes to Bootstrap Elements_"
   ]
  },
  {
   "cell_type": "markdown",
   "metadata": {},
   "source": [
    "- Recall that in addition to class attributes, you can give each of your elements an `id` attribute.\n",
    "\n",
    "- Each id must be unique to a specific element and used only once per page.\n",
    "\n",
    "- Let's give a unique id to each of our `div` elements of class `well`.\n",
    "\n",
    "- Remember that you can give an element an id like this:\n",
    "\n",
    "    `<div class=\"well\" id=\"center-well\">`\n",
    "\n",
    "- Give the well on the left the id of `left-well`. Give the well on the right the id of `right-well`."
   ]
  },
  {
   "cell_type": "markdown",
   "metadata": {},
   "source": [
    "```html\n",
    "<div class=\"container-fluid\">\n",
    "  <h3 class=\"text-primary text-center\">jQuery Playground</h3>\n",
    "  <div class=\"row\">\n",
    "    <div class=\"col-xs-6\">\n",
    "      <div class=\"well\" id=\"left-well\">\n",
    "        <button class=\"btn btn-default target\"></button>\n",
    "        <button class=\"btn btn-default target\"></button>\n",
    "        <button class=\"btn btn-default target\"></button>\n",
    "      </div>\n",
    "    </div>\n",
    "    <div class=\"col-xs-6\">\n",
    "      <div class=\"well\" id=\"right-well\">\n",
    "        <button class=\"btn btn-default target\"></button>\n",
    "        <button class=\"btn btn-default target\"></button>\n",
    "        <button class=\"btn btn-default target\"></button>\n",
    "      </div>\n",
    "    </div>\n",
    "  </div>\n",
    "</div>\n",
    "```"
   ]
  },
  {
   "cell_type": "markdown",
   "metadata": {},
   "source": [
    "<div class=\"container-fluid\">\n",
    "  <h3 class=\"text-primary text-center\">jQuery Playground</h3>\n",
    "  <div class=\"row\">\n",
    "    <div class=\"col-xs-6\">\n",
    "      <div class=\"well\" id=\"left-well\">\n",
    "        <button class=\"btn btn-default target\"></button>\n",
    "        <button class=\"btn btn-default target\"></button>\n",
    "        <button class=\"btn btn-default target\"></button>\n",
    "      </div>\n",
    "    </div>\n",
    "    <div class=\"col-xs-6\">\n",
    "      <div class=\"well\" id=\"right-well\">\n",
    "        <button class=\"btn btn-default target\"></button>\n",
    "        <button class=\"btn btn-default target\"></button>\n",
    "        <button class=\"btn btn-default target\"></button>\n",
    "      </div>\n",
    "    </div>\n",
    "  </div>\n",
    "</div>"
   ]
  },
  {
   "cell_type": "markdown",
   "metadata": {},
   "source": [
    "### _Bootstrap: Label Bootstrap Wells_"
   ]
  },
  {
   "cell_type": "markdown",
   "metadata": {},
   "source": [
    "- For the sake of clarity, let's label both of our wells with their ids.\n",
    "\n",
    "- Above your left-well, inside its `col-xs-6` `div` element, add a `h4` element with the text `#left-well`.\n",
    "\n",
    "- Above your right-well, inside its `col-xs-6` `div` element, add a `h4` element with the text `#right-well`."
   ]
  },
  {
   "cell_type": "markdown",
   "metadata": {},
   "source": [
    "```html\n",
    "<div class=\"container-fluid\">\n",
    "  <h3 class=\"text-primary text-center\">jQuery Playground</h3>\n",
    "  <div class=\"row\">\n",
    "    <div class=\"col-xs-6\">\n",
    "      <h4>#left-well</h4>\n",
    "      <div class=\"well\" id=\"left-well\">\n",
    "        <button class=\"btn btn-default target\"></button>\n",
    "        <button class=\"btn btn-default target\"></button>\n",
    "        <button class=\"btn btn-default target\"></button>\n",
    "      </div>\n",
    "    </div>\n",
    "    <div class=\"col-xs-6\">\n",
    "      <h4>#right-well</h4>\n",
    "      <div class=\"well\" id=\"right-well\">\n",
    "        <button class=\"btn btn-default target\"></button>\n",
    "        <button class=\"btn btn-default target\"></button>\n",
    "        <button class=\"btn btn-default target\"></button>\n",
    "      </div>\n",
    "    </div>\n",
    "  </div>\n",
    "</div>\n",
    "```"
   ]
  },
  {
   "cell_type": "markdown",
   "metadata": {},
   "source": [
    "<div class=\"container-fluid\">\n",
    "  <h3 class=\"text-primary text-center\">jQuery Playground</h3>\n",
    "  <div class=\"row\">\n",
    "    <div class=\"col-xs-6\">\n",
    "      <h4>#left-well</h4>\n",
    "      <div class=\"well\" id=\"left-well\">\n",
    "        <button class=\"btn btn-default target\"></button>\n",
    "        <button class=\"btn btn-default target\"></button>\n",
    "        <button class=\"btn btn-default target\"></button>\n",
    "      </div>\n",
    "    </div>\n",
    "    <div class=\"col-xs-6\">\n",
    "      <h4>#right-well</h4>\n",
    "      <div class=\"well\" id=\"right-well\">\n",
    "        <button class=\"btn btn-default target\"></button>\n",
    "        <button class=\"btn btn-default target\"></button>\n",
    "        <button class=\"btn btn-default target\"></button>\n",
    "      </div>\n",
    "    </div>\n",
    "  </div>\n",
    "</div>"
   ]
  },
  {
   "cell_type": "markdown",
   "metadata": {},
   "source": [
    "### _Bootstrap: Give Each Element a Unique id_"
   ]
  },
  {
   "cell_type": "markdown",
   "metadata": {},
   "source": [
    "- We will also want to be able to use jQuery to target each button by its unique id.\n",
    "\n",
    "- Give each of your buttons a unique id, starting with `target1` and ending with `target6`.\n",
    "\n",
    "- Make sure that `target1` to `target3` are in `#left-well`, and `target4` to `target6` are in `#right-well`."
   ]
  },
  {
   "cell_type": "markdown",
   "metadata": {},
   "source": [
    "```html\n",
    "<div class=\"container-fluid\">\n",
    "  <h3 class=\"text-primary text-center\">jQuery Playground</h3>\n",
    "  <div class=\"row\">\n",
    "    <div class=\"col-xs-6\">\n",
    "      <h4>#left-well</h4>\n",
    "      <div class=\"well\" id=\"left-well\">\n",
    "        <button class=\"btn btn-default target\" id=\"target1\"></button>\n",
    "        <button class=\"btn btn-default target\" id=\"target2\"></button>\n",
    "        <button class=\"btn btn-default target\" id=\"target3\"></button>\n",
    "      </div>\n",
    "    </div>\n",
    "    <div class=\"col-xs-6\">\n",
    "      <h4>#right-well</h4>\n",
    "      <div class=\"well\" id=\"right-well\">\n",
    "        <button class=\"btn btn-default target\" id=\"target4\"></button>\n",
    "        <button class=\"btn btn-default target\" id=\"target5\"></button>\n",
    "        <button class=\"btn btn-default target\" id=\"target6\"></button>\n",
    "      </div>\n",
    "    </div>\n",
    "  </div>\n",
    "</div>\n",
    "```"
   ]
  },
  {
   "cell_type": "markdown",
   "metadata": {},
   "source": [
    "<div class=\"container-fluid\">\n",
    "  <h3 class=\"text-primary text-center\">jQuery Playground</h3>\n",
    "  <div class=\"row\">\n",
    "    <div class=\"col-xs-6\">\n",
    "      <h4>#left-well</h4>\n",
    "      <div class=\"well\" id=\"left-well\">\n",
    "        <button class=\"btn btn-default target\" id=\"target1\"></button>\n",
    "        <button class=\"btn btn-default target\" id=\"target2\"></button>\n",
    "        <button class=\"btn btn-default target\" id=\"target3\"></button>\n",
    "      </div>\n",
    "    </div>\n",
    "    <div class=\"col-xs-6\">\n",
    "      <h4>#right-well</h4>\n",
    "      <div class=\"well\" id=\"right-well\">\n",
    "        <button class=\"btn btn-default target\" id=\"target4\"></button>\n",
    "        <button class=\"btn btn-default target\" id=\"target5\"></button>\n",
    "        <button class=\"btn btn-default target\" id=\"target6\"></button>\n",
    "      </div>\n",
    "    </div>\n",
    "  </div>\n",
    "</div>"
   ]
  },
  {
   "cell_type": "markdown",
   "metadata": {},
   "source": [
    "### _Bootstrap: Label Bootstrap Buttons_"
   ]
  },
  {
   "cell_type": "markdown",
   "metadata": {},
   "source": [
    "- Give each of your button elements text that corresponds to its id's selector."
   ]
  },
  {
   "cell_type": "markdown",
   "metadata": {},
   "source": [
    "```html\n",
    "<div class=\"container-fluid\">\n",
    "  <h3 class=\"text-primary text-center\">jQuery Playground</h3>\n",
    "  <div class=\"row\">\n",
    "    <div class=\"col-xs-6\">\n",
    "      <h4>#left-well</h4>\n",
    "      <div class=\"well\" id=\"left-well\">\n",
    "        <button class=\"btn btn-default target\" id=\"target1\">#target1</button>\n",
    "        <button class=\"btn btn-default target\" id=\"target2\">#target2</button>\n",
    "        <button class=\"btn btn-default target\" id=\"target3\">#target3</button>\n",
    "      </div>\n",
    "    </div>\n",
    "    <div class=\"col-xs-6\">\n",
    "      <h4>#right-well</h4>\n",
    "      <div class=\"well\" id=\"right-well\">\n",
    "        <button class=\"btn btn-default target\" id=\"target4\">#target4</button>\n",
    "        <button class=\"btn btn-default target\" id=\"target5\">#target5</button>\n",
    "        <button class=\"btn btn-default target\" id=\"target6\">#target6</button>\n",
    "      </div>\n",
    "    </div>\n",
    "  </div>\n",
    "</div>\n",
    "```"
   ]
  },
  {
   "cell_type": "markdown",
   "metadata": {},
   "source": [
    "<div class=\"container-fluid\">\n",
    "  <h3 class=\"text-primary text-center\">jQuery Playground</h3>\n",
    "  <div class=\"row\">\n",
    "    <div class=\"col-xs-6\">\n",
    "      <h4>#left-well</h4>\n",
    "      <div class=\"well\" id=\"left-well\">\n",
    "        <button class=\"btn btn-default target\" id=\"target1\">#target1</button>\n",
    "        <button class=\"btn btn-default target\" id=\"target2\">#target2</button>\n",
    "        <button class=\"btn btn-default target\" id=\"target3\">#target3</button>\n",
    "      </div>\n",
    "    </div>\n",
    "    <div class=\"col-xs-6\">\n",
    "      <h4>#right-well</h4>\n",
    "      <div class=\"well\" id=\"right-well\">\n",
    "        <button class=\"btn btn-default target\" id=\"target4\">#target4</button>\n",
    "        <button class=\"btn btn-default target\" id=\"target5\">#target5</button>\n",
    "        <button class=\"btn btn-default target\" id=\"target6\">#target6</button>\n",
    "      </div>\n",
    "    </div>\n",
    "  </div>\n",
    "</div>"
   ]
  },
  {
   "cell_type": "markdown",
   "metadata": {},
   "source": [
    "### _Bootstrap: Use Comments to Clarify Code_"
   ]
  },
  {
   "cell_type": "markdown",
   "metadata": {},
   "source": [
    "- When we start using jQuery, we will modify HTML elements without needing to actually change them in HTML.\n",
    "\n",
    "- Let's make sure that everyone knows they shouldn't actually modify any of this code directly.\n",
    "\n",
    "- Remember that you can start a comment with `<!--` and end a comment with `-->`\n",
    "\n",
    "- Add a comment at the top of your HTML that says `Only change code above this line`."
   ]
  },
  {
   "cell_type": "markdown",
   "metadata": {},
   "source": [
    "```html\n",
    "<!-- Only change code abobe this line-->\n",
    "```"
   ]
  },
  {
   "cell_type": "code",
   "execution_count": null,
   "metadata": {},
   "outputs": [],
   "source": []
  }
 ],
 "metadata": {
  "kernelspec": {
   "display_name": "Python 3",
   "language": "python",
   "name": "python3"
  },
  "language_info": {
   "codemirror_mode": {
    "name": "ipython",
    "version": 3
   },
   "file_extension": ".py",
   "mimetype": "text/x-python",
   "name": "python",
   "nbconvert_exporter": "python",
   "pygments_lexer": "ipython3",
   "version": "3.7.4"
  }
 },
 "nbformat": 4,
 "nbformat_minor": 2
}
