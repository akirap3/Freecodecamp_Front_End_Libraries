{
 "cells": [
  {
   "cell_type": "markdown",
   "metadata": {},
   "source": [
    "### _Introduction to the React and Redux Challenges_"
   ]
  },
  {
   "cell_type": "markdown",
   "metadata": {},
   "source": [
    "- In a React Redux app, you create a single Redux store that manages the state of your entire app. Your React components subscribe to only the pieces of data in the store that are relevant to their role. Then, you dispatch actions directly from React components, which then trigger store updates."
   ]
  },
  {
   "cell_type": "markdown",
   "metadata": {},
   "source": [
    "### _React and Redux: Getting Started with React Redux_"
   ]
  },
  {
   "cell_type": "markdown",
   "metadata": {},
   "source": [
    "- This series of challenges introduces how to use Redux with React. First, here's a review of some of the key principles of each technology. React is a view library that you provide with data, then it renders the view in an efficient, predictable way. Redux is a state management framework that you can use to simplify the management of your application's state. Typically, in a React Redux app, you create a single Redux store that manages the state of your entire app. Your React components subscribe to only the pieces of data in the store that are relevant to their role. Then, you dispatch actions directly from React components, which then trigger store updates."
   ]
  },
  {
   "cell_type": "markdown",
   "metadata": {},
   "source": [
    "- Although React components can manage their own state locally, when you have a complex app, it's generally better to keep the app state in a single location with Redux. There are exceptions when individual components may have local state specific only to them. Finally, because Redux is not designed to work with React out of the box, you need to use the `react-redux` package. It provides a way for you to pass Redux `state` and `dispatch` to your React components as `props`."
   ]
  },
  {
   "cell_type": "markdown",
   "metadata": {},
   "source": [
    "- Over the next few challenges, first, you'll create a simple React component which allows you to input new text messages. These are added to an array that's displayed in the view. This should be a nice review of what you learned in the React lessons. Next, you'll create a Redux store and actions that manage the state of the messages array. Finally, you'll use `react-redux` to connect the Redux store with your component, thereby extracting the local state into the Redux store."
   ]
  },
  {
   "cell_type": "markdown",
   "metadata": {},
   "source": [
    "<hr>"
   ]
  },
  {
   "cell_type": "markdown",
   "metadata": {},
   "source": [
    "- Start with a `DisplayMessages` component. Add a constructor to this component and initialize it with a state that has two properties: `input`, that's set to an empty string, and `messages`, that's set to an empty array."
   ]
  },
  {
   "cell_type": "markdown",
   "metadata": {},
   "source": [
    "```javascript\n",
    "class DisplayMessages extends React.Component {\n",
    "  constructor(props) {\n",
    "    super(props);\n",
    "    this.state = {\n",
    "      input: '',\n",
    "      messages: []\n",
    "    }\n",
    "  }\n",
    "  render() {\n",
    "    return <div />\n",
    "  }\n",
    "};\n",
    "```"
   ]
  },
  {
   "cell_type": "markdown",
   "metadata": {},
   "source": [
    "### _React and Redux: Manage State Locally First_"
   ]
  },
  {
   "cell_type": "markdown",
   "metadata": {},
   "source": [
    "- Here you'll finish creating the `DisplayMessages` component."
   ]
  },
  {
   "cell_type": "markdown",
   "metadata": {},
   "source": [
    "<hr>"
   ]
  },
  {
   "cell_type": "markdown",
   "metadata": {},
   "source": [
    "- First, in the `render()` method, have the component render an `input` element, `button` element, and `ul` element. When the `input` element changes, it should trigger a `handleChange()` method. Also, the `input` element should render the value of `input` that's in the component's state. The `button` element should trigger a `submitMessage()` method when it's clicked."
   ]
  },
  {
   "cell_type": "markdown",
   "metadata": {},
   "source": [
    "- Second, write these two methods. The `handleChange()` method should update the `input` with what the user is typing. The `submitMessage()` method should concatenate the current message (stored in `input`) to the `messages` array in local state, and clear the value of the `input`."
   ]
  },
  {
   "cell_type": "markdown",
   "metadata": {},
   "source": [
    "- Finally, use the `ul` to map over the array of `messages` and render it to the screen as a list of `li` elements."
   ]
  },
  {
   "cell_type": "markdown",
   "metadata": {},
   "source": [
    "```javascript\n",
    "class DisplayMessages extends React.Component {\n",
    "  constructor(props) {\n",
    "    super(props);\n",
    "    this.state = {\n",
    "      input: '',\n",
    "      messages: []\n",
    "    }\n",
    "    this.handleChange = this.handleChange.bind(this);\n",
    "    this.submitMessage = this.submitMessage.bind(this);\n",
    "  }\n",
    "  \n",
    "  // add handleChange() and submitMessage() methods here\n",
    "  handleChange(event) {\n",
    "    this.setState({\n",
    "      input: event.target.value,\n",
    "      messages: this.state.messages\n",
    "    })\n",
    "  }\n",
    "\n",
    "  submitMessage() {\n",
    "    this.setState({\n",
    "      input: '',\n",
    "      messages: [...this.state.messages, this.state.input]\n",
    "    })\n",
    "  }\n",
    "\n",
    "  render() {\n",
    "    return (\n",
    "      <div>\n",
    "        <h2>Type in a new Message:</h2>\n",
    "        { /* render an input, button, and ul here */ }\n",
    "        <input value = {this.state.input} onChange={this.handleChange}/><br />\n",
    "        <button onClick={this.submitMessage}>Submit</button>\n",
    "        <ul>\n",
    "          {this.state.messages.map((item, index) => {\n",
    "            return <li key={index}>{item}</li>\n",
    "          })}\n",
    "        </ul>\n",
    "      </div>\n",
    "    );\n",
    "  }\n",
    "};\n",
    "```"
   ]
  },
  {
   "cell_type": "markdown",
   "metadata": {},
   "source": [
    "### _React and Redux: Extract State Logic to Redux_"
   ]
  },
  {
   "cell_type": "markdown",
   "metadata": {},
   "source": [
    "- Now that you finished the React component, you need to move the logic it's performing locally in its `state` into Redux. This is the first step to connect the simple React app to Redux. The only functionality your app has is to add new messages from the user to an unordered list. The example is simple in order to demonstrate how React and Redux work together."
   ]
  },
  {
   "cell_type": "markdown",
   "metadata": {},
   "source": [
    "<hr>"
   ]
  },
  {
   "cell_type": "markdown",
   "metadata": {},
   "source": [
    "- First, define an action type 'ADD' and set it to a const `ADD`. Next, define an action creator `addMessage()` which creates the action to add a message. You'll need to pass a `message` to this action creator and include the message in the returned `action`."
   ]
  },
  {
   "cell_type": "markdown",
   "metadata": {},
   "source": [
    "- Then create a reducer called `messageReducer()` that handles the state for the messages. The initial state should equal an empty array. This reducer should add a message to the array of messages held in state, or return the current state. Finally, create your Redux store and pass it the reducer."
   ]
  },
  {
   "cell_type": "markdown",
   "metadata": {},
   "source": [
    "```javascript\n",
    "// define ADD, addMessage(), messageReducer(), and store here:\n",
    "const ADD = \"ADD\";\n",
    "const addMessage = message => {\n",
    "  return {\n",
    "    type: ADD,\n",
    "    message\n",
    "  };\n",
    "};\n",
    "\n",
    "// Use ES6 default paramter to give the 'previousState' parameter an initial value.\n",
    "const messageReducer = (previousState = [], action) => {\n",
    "  // Use switch statement to lay out the reducer logic in response to different action type\n",
    "  switch (action.type) {\n",
    "    case ADD:\n",
    "      // Use ES6 spread operator to return a new array where the new message is added to previousState\n",
    "      return [...previousState, action.message];\n",
    "      break;\n",
    "\n",
    "    default:\n",
    "      // A default case to fall back on in case if the update to Redux store is not for this specific state.\n",
    "      return previousState;\n",
    "  }\n",
    "};\n",
    "\n",
    "const store = Redux.createStore(messageReducer);\n",
    "```"
   ]
  },
  {
   "cell_type": "markdown",
   "metadata": {},
   "source": [
    "### _React and Redux: Use Provider to Connect Redux to React_"
   ]
  },
  {
   "cell_type": "markdown",
   "metadata": {},
   "source": [
    "- In the last challenge, you created a Redux store to handle the messages array and created an action for adding new messages. The next step is to provide React access to the Redux store and the actions it needs to dispatch updates. React Redux provides its `react-redux` package to help accomplish these tasks."
   ]
  },
  {
   "cell_type": "markdown",
   "metadata": {},
   "source": [
    "- React Redux provides a small API with two key features: `Provider` and `connect`. Another challenge covers `connect`. The `Provider` is a wrapper component from React Redux that wraps your React app. This wrapper then allows you to access the Redux `store` and `dispatch` functions throughout your component tree. `Provider` takes two props, the Redux store and the child components of your app. Defining the `Provider` for an App component might look like this:"
   ]
  },
  {
   "cell_type": "markdown",
   "metadata": {},
   "source": [
    "```javascript\n",
    "<Provider store={store}>\n",
    "  <App/>\n",
    "</Provider>\n",
    "```"
   ]
  },
  {
   "cell_type": "markdown",
   "metadata": {},
   "source": [
    "<hr>"
   ]
  },
  {
   "cell_type": "markdown",
   "metadata": {},
   "source": [
    "- The code editor now shows all your Redux and React code from the past several challenges. It includes the Redux store, actions, and the `DisplayMessages` component. The only new piece is the `AppWrapper` component at the bottom. Use this top level component to render the `Provider` from `ReactRedux`, and pass the Redux store as a prop. Then render the `DisplayMessages` component as a child. Once you are finished, you should see your React component rendered to the page."
   ]
  },
  {
   "cell_type": "markdown",
   "metadata": {},
   "source": [
    "- Note: React Redux is available as a global variable here, so you can access the Provider with dot notation. The code in the editor takes advantage of this and sets it to a constant `Provider` for you to use in the `AppWrapper` render method."
   ]
  },
  {
   "cell_type": "markdown",
   "metadata": {},
   "source": [
    "```javascript\n",
    "// Redux Code:\n",
    "const ADD = 'ADD';\n",
    "\n",
    "const addMessage = (message) => {\n",
    "  return {\n",
    "    type: ADD,\n",
    "    message\n",
    "  }\n",
    "};\n",
    "\n",
    "const messageReducer = (state = [], action) => {\n",
    "  switch (action.type) {\n",
    "    case ADD:\n",
    "      return [\n",
    "        ...state,\n",
    "        action.message\n",
    "      ];\n",
    "    default:\n",
    "      return state;\n",
    "  }\n",
    "};\n",
    "\n",
    "\n",
    "\n",
    "const store = Redux.createStore(messageReducer);\n",
    "\n",
    "// React Code:\n",
    "\n",
    "class DisplayMessages extends React.Component {\n",
    "  constructor(props) {\n",
    "    super(props);\n",
    "    this.state = {\n",
    "      input: '',\n",
    "      messages: []\n",
    "    }\n",
    "    this.handleChange = this.handleChange.bind(this);\n",
    "    this.submitMessage = this.submitMessage.bind(this);\n",
    "  }\n",
    "  handleChange(event) {\n",
    "    this.setState({\n",
    "      input: event.target.value\n",
    "    });\n",
    "  }\n",
    "  submitMessage() {\n",
    "    const currentMessage = this.state.input;\n",
    "    this.setState({\n",
    "      input: '',\n",
    "      messages: this.state.messages.concat(currentMessage)\n",
    "    });\n",
    "  }\n",
    "  render() {\n",
    "    return (\n",
    "      <div>\n",
    "        <h2>Type in a new Message:</h2>\n",
    "        <input\n",
    "          value={this.state.input}\n",
    "          onChange={this.handleChange}/><br/>\n",
    "        <button onClick={this.submitMessage}>Submit</button>\n",
    "        <ul>\n",
    "          {this.state.messages.map( (message, idx) => {\n",
    "              return (\n",
    "                 <li key={idx}>{message}</li>\n",
    "              )\n",
    "            })\n",
    "          }\n",
    "        </ul>\n",
    "      </div>\n",
    "    );\n",
    "  }\n",
    "};\n",
    "\n",
    "const Provider = ReactRedux.Provider;\n",
    "\n",
    "class AppWrapper extends React.Component {\n",
    "  // render the Provider here\n",
    "  render() {\n",
    "    return (\n",
    "        <Provider store={store}>\n",
    "          <DisplayMessages />\n",
    "        </Provider>\n",
    "    )\n",
    "  }\n",
    "  // change code above this line\n",
    "};\n",
    "\n",
    "```"
   ]
  },
  {
   "cell_type": "markdown",
   "metadata": {},
   "source": [
    "### _React and Redux: Map State to Props_"
   ]
  },
  {
   "cell_type": "markdown",
   "metadata": {},
   "source": [
    "- The `Provider` component allows you to provide `state` and `dispatch` to your React components, but you must specify exactly what state and actions you want. This way, you make sure that each component only has access to the state it needs. You accomplish this by creating two functions: `mapStateToProps()` and `mapDispatchToProps()`."
   ]
  },
  {
   "cell_type": "markdown",
   "metadata": {},
   "source": [
    "- In these functions, you declare what pieces of state you want to have access to and which action creators you need to be able to dispatch. Once these functions are in place, you'll see how to use the React Redux `connect` method to connect them to your components in another challenge."
   ]
  },
  {
   "cell_type": "markdown",
   "metadata": {},
   "source": [
    "- Note: Behind the scenes, React Redux uses the `store.subscribe()` method to implement `mapStateToProps()`."
   ]
  },
  {
   "cell_type": "markdown",
   "metadata": {},
   "source": [
    "<hr>"
   ]
  },
  {
   "cell_type": "markdown",
   "metadata": {},
   "source": [
    "- Create a function `mapStateToProps()`. This function should take `state` as an argument, then return an object which maps that state to specific property names. These properties will become accessible to your component via `props`. Since this example keeps the entire state of the app in a single array, you can pass that entire state to your component. Create a property `messages` in the object that's being returned, and set it to `state`."
   ]
  },
  {
   "cell_type": "markdown",
   "metadata": {},
   "source": [
    "```javascript\n",
    "const state = [];\n",
    "\n",
    "const mapStateToProps = (state) => {\n",
    "  return {\n",
    "    messages: state\n",
    "  }\n",
    "}\n",
    "```"
   ]
  },
  {
   "cell_type": "markdown",
   "metadata": {},
   "source": [
    "### _React and Redux: Map Dispatch to Props_"
   ]
  },
  {
   "cell_type": "markdown",
   "metadata": {},
   "source": [
    "- The `mapDispatchToProps()` function is used to provide specific action creators to your React components so they can dispatch actions against the Redux store. It's similar in structure to the `mapStateToProps()` function you wrote in the last challenge. It returns an object that maps dispatch actions to property names, which become component `props`. However, instead of returning a piece of `state`, each property returns a function that calls `dispatch` with an action creator and any relevant action data. You have access to this `dispatch` because it's passed in to `mapDispatchToProps()` as a parameter when you define the function, just like you passed `state` to `mapStateToProps()`. Behind the scenes, React Redux is using Redux's `store.dispatch()` to conduct these dispatches with `mapDispatchToProps()`. This is similar to how it uses `store.subscribe()` for components that are mapped to `state`."
   ]
  },
  {
   "cell_type": "markdown",
   "metadata": {},
   "source": [
    "- For example, you have a `loginUser()` action creator that takes a `username` as an action payload. The object returned from `mapDispatchToProps()` for this action creator would look something like:"
   ]
  },
  {
   "cell_type": "markdown",
   "metadata": {},
   "source": [
    "```javascript\n",
    "{\n",
    "  submitLoginUser: function(username) {\n",
    "    dispatch(loginUser(username));\n",
    "  }\n",
    "}\n",
    "```"
   ]
  },
  {
   "cell_type": "markdown",
   "metadata": {},
   "source": [
    "<hr>"
   ]
  },
  {
   "cell_type": "markdown",
   "metadata": {},
   "source": [
    "- The code editor provides an action creator called `addMessage()`. Write the function `mapDispatchToProps()` that takes `dispatch` as an argument, then returns an object. The object should have a property `submitNewMessage` set to the dispatch function, which takes a parameter for the new message to add when it dispatches `addMessage()`."
   ]
  },
  {
   "cell_type": "markdown",
   "metadata": {},
   "source": [
    "```javascript\n",
    "const addMessage = (message) => {\n",
    "  return {\n",
    "    type: 'ADD',\n",
    "    message: message\n",
    "  }\n",
    "};\n",
    "\n",
    "const mapDispatchToProps = (dispatch) => {\n",
    "    return {\n",
    "        submitNewMessage: (message)=>{\n",
    "            dispatch(addMessage(message))\n",
    "        }\n",
    "    }\n",
    "}\n",
    "```"
   ]
  },
  {
   "cell_type": "markdown",
   "metadata": {},
   "source": [
    "### _React and Redux: Connect Redux to React_"
   ]
  },
  {
   "cell_type": "markdown",
   "metadata": {},
   "source": [
    "- Now that you've written both the `mapStateToProps()` and the `mapDispatchToProps()` functions, you can use them to map `state` and `dispatch` to the `props` of one of your React components. The `connect` method from React Redux can handle this task. This method takes two optional arguments, `mapStateToProps()` and `mapDispatchToProps()`. They are optional because you may have a component that only needs access to `state` but doesn't need to dispatch any actions, or vice versa."
   ]
  },
  {
   "cell_type": "markdown",
   "metadata": {},
   "source": [
    "- To use this method, pass in the functions as arguments, and immediately call the result with your component. This syntax is a little unusual and looks like:"
   ]
  },
  {
   "cell_type": "markdown",
   "metadata": {},
   "source": [
    "```javascript\n",
    "connect(mapStateToProps, mapDispatchToProps)(MyComponent)\n",
    "```"
   ]
  },
  {
   "cell_type": "markdown",
   "metadata": {},
   "source": [
    "- Note: If you want to omit one of the arguments to the connect method, you pass null in its place."
   ]
  },
  {
   "cell_type": "markdown",
   "metadata": {},
   "source": [
    "<hr>"
   ]
  },
  {
   "cell_type": "markdown",
   "metadata": {},
   "source": [
    "- The code editor has the `mapStateToProps()` and `mapDispatchToProps()` functions and a new React component called `Presentational`. Connect this component to Redux with the `connect` method from the `ReactRedux` global object, and call it immediately on the `Presentational` component. Assign the result to a new `const` called `ConnectedComponent` that represents the connected component. That's it, now you're connected to Redux! Try changing either of `connect`'s arguments to `null` and observe the test results."
   ]
  },
  {
   "cell_type": "markdown",
   "metadata": {},
   "source": [
    "```javascript\n",
    "const addMessage = (message) => {\n",
    "  return {\n",
    "    type: 'ADD',\n",
    "    message: message\n",
    "  }\n",
    "};\n",
    "\n",
    "const mapStateToProps = (state) => {\n",
    "  return {\n",
    "    messages: state\n",
    "  }\n",
    "};\n",
    "\n",
    "const mapDispatchToProps = (dispatch) => {\n",
    "  return {\n",
    "    submitNewMessage: (message) => {\n",
    "      dispatch(addMessage(message));\n",
    "    }\n",
    "  }\n",
    "};\n",
    "\n",
    "class Presentational extends React.Component {\n",
    "  constructor(props) {\n",
    "    super(props);\n",
    "  }\n",
    "  render() {\n",
    "    return <h3>This is a Presentational Component</h3>\n",
    "  }\n",
    "};\n",
    "\n",
    "const connect = ReactRedux.connect;\n",
    "const ConnectedComponent = connect(mapStateToProps, mapDispatchToProps)(Presentational)\n",
    "```"
   ]
  },
  {
   "cell_type": "markdown",
   "metadata": {},
   "source": [
    "### _React and Redux: Connect Redux to the Messages App_"
   ]
  },
  {
   "cell_type": "markdown",
   "metadata": {},
   "source": [
    "- Now that you understand how to use `connect` to connect React to Redux, you can apply what you've learned to your React component that handles messages."
   ]
  },
  {
   "cell_type": "markdown",
   "metadata": {},
   "source": [
    "- In the last lesson, the component you connected to Redux was named `Presentational`, and this wasn't arbitrary. This term <em>generally</em> refers to React components that are not directly connected to Redux. They are simply responsible for the presentation of UI and do this as a function of the props they receive. By contrast, container components are connected to Redux. These are typically responsible for dispatching actions to the store and often pass store state to child components as props."
   ]
  },
  {
   "cell_type": "markdown",
   "metadata": {},
   "source": [
    "<hr>"
   ]
  },
  {
   "cell_type": "markdown",
   "metadata": {},
   "source": [
    "- The code editor has all the code you've written in this section so far. The only change is that the React component is renamed to `Presentational`. Create a new component held in a constant called `Container` that uses `connect` to connect the `Presentational` component to Redux. Then, in the `AppWrapper`, render the React Redux `Provider` component. Pass `Provider` the Redux `store` as a prop and render `Container` as a child. Once everything is setup, you will see the messages app rendered to the page again."
   ]
  },
  {
   "cell_type": "markdown",
   "metadata": {},
   "source": [
    "```javascript\n",
    "// Redux:\n",
    "const ADD = 'ADD';\n",
    "\n",
    "const addMessage = (message) => {\n",
    "  return {\n",
    "    type: ADD,\n",
    "    message: message\n",
    "  }\n",
    "};\n",
    "\n",
    "const messageReducer = (state = [], action) => {\n",
    "  switch (action.type) {\n",
    "    case ADD:\n",
    "      return [\n",
    "        ...state,\n",
    "        action.message\n",
    "      ];\n",
    "    default:\n",
    "      return state;\n",
    "  }\n",
    "};\n",
    "\n",
    "const store = Redux.createStore(messageReducer);\n",
    "\n",
    "// React:\n",
    "class Presentational extends React.Component {\n",
    "  constructor(props) {\n",
    "    super(props);\n",
    "    this.state = {\n",
    "      input: '',\n",
    "      messages: []\n",
    "    }\n",
    "    this.handleChange = this.handleChange.bind(this);\n",
    "    this.submitMessage = this.submitMessage.bind(this);\n",
    "  }\n",
    "  handleChange(event) {\n",
    "    this.setState({\n",
    "      input: event.target.value\n",
    "    });\n",
    "  }\n",
    "  submitMessage() {\n",
    "    const currentMessage = this.state.input;\n",
    "    this.setState({\n",
    "      input: '',\n",
    "      messages: this.state.messages.concat(currentMessage)\n",
    "    });\n",
    "  }\n",
    "  render() {\n",
    "    return (\n",
    "      <div>\n",
    "        <h2>Type in a new Message:</h2>\n",
    "        <input\n",
    "          value={this.state.input}\n",
    "          onChange={this.handleChange}/><br/>\n",
    "        <button onClick={this.submitMessage}>Submit</button>\n",
    "        <ul>\n",
    "          {this.state.messages.map( (message, idx) => {\n",
    "              return (\n",
    "                 <li key={idx}>{message}</li>\n",
    "              )\n",
    "            })\n",
    "          }\n",
    "        </ul>\n",
    "      </div>\n",
    "    );\n",
    "  }\n",
    "};\n",
    "\n",
    "// React-Redux:\n",
    "const mapStateToProps = (state) => {\n",
    "  return { messages: state }\n",
    "};\n",
    "\n",
    "const mapDispatchToProps = (dispatch) => {\n",
    "  return {\n",
    "    submitNewMessage: (newMessage) => {\n",
    "       dispatch(addMessage(newMessage))\n",
    "    }\n",
    "  }\n",
    "};\n",
    "\n",
    "const Provider = ReactRedux.Provider;\n",
    "const connect = ReactRedux.connect;\n",
    "\n",
    "// define the Container component here:\n",
    "const Container = connect(mapStateToProps, mapDispatchToProps)(Presentational)\n",
    "\n",
    "class AppWrapper extends React.Component {\n",
    "  constructor(props) {\n",
    "    super(props);\n",
    "  }\n",
    "  render() {\n",
    "    return (\n",
    "      <Provider store={store}>\n",
    "        <Container />\n",
    "      </Provider>\n",
    "    );\n",
    "  }\n",
    "};\n",
    "\n",
    "\n",
    "\n",
    "```"
   ]
  },
  {
   "cell_type": "markdown",
   "metadata": {},
   "source": [
    "### _React and Redux: Extract Local State into Redux_"
   ]
  },
  {
   "cell_type": "markdown",
   "metadata": {},
   "source": [
    "- You're almost done! Recall that you wrote all the Redux code so that Redux could control the state management of your React messages app. Now that Redux is connected, you need to extract the state management out of the `Presentational` component and into Redux. Currently, you have Redux connected, but you are handling the state locally within the `Presentational` component."
   ]
  },
  {
   "cell_type": "markdown",
   "metadata": {},
   "source": [
    "<hr>"
   ]
  },
  {
   "cell_type": "markdown",
   "metadata": {},
   "source": [
    "- In the `Presentational` component, first, remove the `messages` property in the local `state`. These messages will be managed by Redux. Next, modify the `submitMessage()` method so that it dispatches `submitNewMessage()` from `this.props`, and pass in the current message input from local `state` as an argument. Because you removed `messages` from local state, remove the `messages` property from the call to `this.setState()` here as well. Finally, modify the `render()` method so that it maps over the messages received from `props` rather than `state`."
   ]
  },
  {
   "cell_type": "markdown",
   "metadata": {},
   "source": [
    "- Once these changes are made, the app will continue to function the same, except Redux manages the state. This example also illustrates how a component may have local `state`: your component still tracks user input locally in its own `state`. You can see how Redux provides a useful state management framework on top of React. You achieved the same result using only React's local state at first, and this is usually possible with simple apps. However, as your apps become larger and more complex, so does your state management, and this is the problem Redux solves."
   ]
  },
  {
   "cell_type": "markdown",
   "metadata": {},
   "source": [
    "```javascript\n",
    "// Redux:\n",
    "const ADD = 'ADD';\n",
    "\n",
    "const addMessage = (message) => {\n",
    "  return {\n",
    "    type: ADD,\n",
    "    message: message\n",
    "  }\n",
    "};\n",
    "\n",
    "const messageReducer = (state = [], action) => {\n",
    "  switch (action.type) {\n",
    "    case ADD:\n",
    "      return [\n",
    "        ...state,\n",
    "        action.message\n",
    "      ];\n",
    "    default:\n",
    "      return state;\n",
    "  }\n",
    "};\n",
    "\n",
    "const store = Redux.createStore(messageReducer);\n",
    "\n",
    "// React:\n",
    "const Provider = ReactRedux.Provider;\n",
    "const connect = ReactRedux.connect;\n",
    "\n",
    "class Presentational extends React.Component {\n",
    "  constructor(props) {\n",
    "    super(props);\n",
    "    this.state = {\n",
    "      input: ''\n",
    "    }\n",
    "    this.handleChange = this.handleChange.bind(this);\n",
    "    this.submitMessage = this.submitMessage.bind(this);\n",
    "  }\n",
    "  handleChange(event) {\n",
    "    this.setState({\n",
    "      input: event.target.value\n",
    "    });\n",
    "  }\n",
    "  submitMessage() {\n",
    "    this.props.submitNewMessage(this.state.input)\n",
    "    this.setState({\n",
    "      input: ''\n",
    "    });\n",
    "  }\n",
    "  render() {\n",
    "    return (\n",
    "      <div>\n",
    "        <h2>Type in a new Message:</h2>\n",
    "        <input\n",
    "          value={this.state.input}\n",
    "          onChange={this.handleChange}/><br/>\n",
    "        <button onClick={this.submitMessage}>Submit</button>\n",
    "        <ul>\n",
    "          {this.props.messages.map( (message, idx) => {\n",
    "              return (\n",
    "                 <li key={idx}>{message}</li>\n",
    "              )\n",
    "            })\n",
    "          }\n",
    "        </ul>\n",
    "      </div>\n",
    "    );\n",
    "  }\n",
    "};\n",
    "\n",
    "const mapStateToProps = (state) => {\n",
    "  return {messages: state}\n",
    "};\n",
    "\n",
    "const mapDispatchToProps = (dispatch) => {\n",
    "  return {\n",
    "    submitNewMessage: (message) => {\n",
    "      dispatch(addMessage(message))\n",
    "    }\n",
    "  }\n",
    "};\n",
    "\n",
    "const Container = connect(mapStateToProps, mapDispatchToProps)(Presentational);\n",
    "\n",
    "class AppWrapper extends React.Component {\n",
    "  render() {\n",
    "    return (\n",
    "      <Provider store={store}>\n",
    "        <Container/>\n",
    "      </Provider>\n",
    "    );\n",
    "  }\n",
    "};\n",
    "\n",
    "```"
   ]
  },
  {
   "cell_type": "markdown",
   "metadata": {},
   "source": [
    "### _React and Redux: Moving Forward From Here_"
   ]
  },
  {
   "cell_type": "markdown",
   "metadata": {},
   "source": [
    "- There's one last item worth pointing out before you move on. Typically, you won't write React apps in a code editor like this. This challenge gives you a glimpse of what the syntax looks like if you're working with npm and a file system on your own machine. The code should look similar, except for the use of `import` statements (these pull in all of the dependencies that have been provided for you in the challenges). The \"Managing Packages with npm\" section covers npm in more detail."
   ]
  },
  {
   "cell_type": "markdown",
   "metadata": {},
   "source": [
    "- Finally, writing React and Redux code generally requires some configuration. This can get complicated quickly. If you are interested in experimenting on your own machine, the"
   ]
  },
  {
   "cell_type": "markdown",
   "metadata": {},
   "source": [
    "- [Create React](https://github.com/facebook/create-react-app) App comes configured and ready to go."
   ]
  },
  {
   "cell_type": "markdown",
   "metadata": {},
   "source": [
    "- Alternatively, you can enable Babel as a JavaScript Preprocessor in CodePen, add React and ReactDOM as external JavaScript resources, and work there as well."
   ]
  },
  {
   "cell_type": "markdown",
   "metadata": {},
   "source": [
    "```javascript\n",
    "// import React from 'react'\n",
    "// import ReactDOM from 'react-dom'\n",
    "// import { Provider, connect } from 'react-redux'\n",
    "// import { createStore, combineReducers, applyMiddleware } from 'redux'\n",
    "// import thunk from 'redux-thunk'\n",
    "\n",
    "// import rootReducer from './redux/reducers'\n",
    "// import App from './components/App'\n",
    "\n",
    "// const store = createStore(\n",
    "//   rootReducer,\n",
    "//   applyMiddleware(thunk)\n",
    "// );\n",
    "\n",
    "// ReactDOM.render(\n",
    "//   <Provider store={store}>\n",
    "//     <App/>\n",
    "//   </Provider>,\n",
    "//   document.getElementById('root')\n",
    "// );\n",
    "\n",
    "```"
   ]
  }
 ],
 "metadata": {
  "kernelspec": {
   "display_name": "Python 3",
   "language": "python",
   "name": "python3"
  },
  "language_info": {
   "codemirror_mode": {
    "name": "ipython",
    "version": 3
   },
   "file_extension": ".py",
   "mimetype": "text/x-python",
   "name": "python",
   "nbconvert_exporter": "python",
   "pygments_lexer": "ipython3",
   "version": "3.7.4"
  }
 },
 "nbformat": 4,
 "nbformat_minor": 2
}
