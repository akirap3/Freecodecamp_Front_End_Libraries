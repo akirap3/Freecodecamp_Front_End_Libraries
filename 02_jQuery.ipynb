{
 "cells": [
  {
   "cell_type": "markdown",
   "metadata": {},
   "source": [
    "### _Introduction to jQuery_"
   ]
  },
  {
   "cell_type": "markdown",
   "metadata": {},
   "source": [
    "- jQuery is one of the many libraries for JavaScript. It is designed to simplify scripting done on the client side. jQuery's most recognizable characteristic is its dollar sign (`$`) syntax. With it, you can easily manipulate elements, create animations and handle input events."
   ]
  },
  {
   "cell_type": "markdown",
   "metadata": {},
   "source": [
    "### _jQuery: Learn How Script Tags and Document Ready Work_"
   ]
  },
  {
   "cell_type": "markdown",
   "metadata": {},
   "source": [
    "- First, add a `script` element at the top of your page. Be sure to close it on the following line.\n",
    "\n",
    "- Your browser will run any JavaScript inside a `script` element, including jQuery.\n",
    "\n",
    "- Inside your `script` element, add this code: `$(document).ready(function() {` to your `script`. Then close it on the following line (still inside your `script` element) with: `});`\n",
    "\n",
    "- The important thing to know is that code you put inside this `function` will run as soon as your browser has loaded your page.\n",
    "\n",
    "- This is important because without your `document ready function`, your code may run before your HTML is rendered, which would cause bugs."
   ]
  },
  {
   "cell_type": "code",
   "execution_count": null,
   "metadata": {},
   "outputs": [],
   "source": [
    "<script>\n",
    "  $(document).ready(function() {});\n",
    "</script>"
   ]
  },
  {
   "cell_type": "markdown",
   "metadata": {},
   "source": [
    "#### We will use the below codes to practice the following challenges"
   ]
  },
  {
   "cell_type": "code",
   "execution_count": null,
   "metadata": {},
   "outputs": [],
   "source": [
    "<body>\n",
    "  <div class=\"container-fluid\">\n",
    "    <h3 class=\"text-primary text-center\">jQuery Playground</h3>\n",
    "    <div class=\"row\">\n",
    "      <div class=\"col-xs-6\">\n",
    "        <h4>#left-well</h4>\n",
    "        <div class=\"well\" id=\"left-well\">\n",
    "          <button class=\"btn btn-default target\" id=\"target1\">#target1</button>\n",
    "          <button class=\"btn btn-default target\" id=\"target2\">#target2</button>\n",
    "          <button class=\"btn btn-default target\" id=\"target3\">#target3</button>\n",
    "        </div>\n",
    "      </div>\n",
    "      <div class=\"col-xs-6\">\n",
    "        <h4>#right-well</h4>\n",
    "        <div class=\"well\" id=\"right-well\">\n",
    "          <button class=\"btn btn-default target\" id=\"target4\">#target4</button>\n",
    "          <button class=\"btn btn-default target\" id=\"target5\">#target5</button>\n",
    "          <button class=\"btn btn-default target\" id=\"target6\">#target6</button>\n",
    "        </div>\n",
    "      </div>\n",
    "    </div>\n",
    "  </div>\n",
    "</body>"
   ]
  },
  {
   "cell_type": "markdown",
   "metadata": {},
   "source": [
    "### _jQuery: Target HTML Elements with Selectors Using jQuery_"
   ]
  },
  {
   "cell_type": "markdown",
   "metadata": {},
   "source": [
    "- Now we have a `document ready function`.\n",
    "\n",
    "- Now let's write our first jQuery statement. All jQuery functions start with a `$`, usually referred to as a dollar sign operator, or as bling.\n",
    "\n",
    "- jQuery often selects an HTML element with a selector, then does something to that element.\n",
    "\n",
    "- For example, let's make all of your `button` elements bounce. Just add this code inside your document ready function:\n",
    "\n",
    "    `$(\"button\").addClass(\"animated bounce\");`\n",
    "\n",
    "- Note that we've already included both the jQuery library and the Animate.css library in the background so that you can use them in the editor. So you are using jQuery to apply the Animate.css `bounce` class to your `button` elements."
   ]
  },
  {
   "cell_type": "code",
   "execution_count": null,
   "metadata": {},
   "outputs": [],
   "source": [
    "<script>\n",
    "  $(document).ready(function() {\n",
    "    $(\"button\").addClass(\"animated bounce\");\n",
    "  });\n",
    "</script>"
   ]
  },
  {
   "cell_type": "markdown",
   "metadata": {},
   "source": [
    "### _jQuery: Target Elements by Class Using jQuery_"
   ]
  },
  {
   "cell_type": "markdown",
   "metadata": {},
   "source": [
    "- You see how we made all of your `button` elements bounce? We selected them with `$(\"button\")`, then we added some CSS classes to them with `.addClass(\"animated bounce\");`.\n",
    "\n",
    "- You just used jQuery's `.addClass()` function, which allows you to add classes to elements.\n",
    "\n",
    "- First, let's target your `div` elements with the class `well` by using the `$(\".well\")` selector.\n",
    "\n",
    "- Note that, just like with CSS declarations, you type a `.` before the class's name.\n",
    "\n",
    "- Then use jQuery's `.addClass()` function to add the classes `animated` and `shake`."
   ]
  },
  {
   "cell_type": "code",
   "execution_count": null,
   "metadata": {},
   "outputs": [],
   "source": [
    "<script>\n",
    "  $(document).ready(function() {\n",
    "    $(\"button\").addClass(\"animated bounce\");\n",
    "    $(\".well\").addClass(\"animated shake\");\n",
    "  });\n",
    "</script>"
   ]
  },
  {
   "cell_type": "markdown",
   "metadata": {},
   "source": [
    "### _jQuery: Target Elements by id Using jQuery_"
   ]
  },
  {
   "cell_type": "markdown",
   "metadata": {},
   "source": [
    "- First target your `button` element with the id `target3` by using the `$(\"#target3\")` selector.\n",
    "\n",
    "- Note that, just like with CSS declarations, you type a `#` before the id's name.\n",
    "\n",
    "- Then use jQuery's `.addClass()` function to add the classes `animated` and `fadeOut`."
   ]
  },
  {
   "cell_type": "code",
   "execution_count": null,
   "metadata": {},
   "outputs": [],
   "source": [
    "<script>\n",
    "  $(document).ready(function() {\n",
    "    $(\"button\").addClass(\"animated bounce\");\n",
    "    $(\".well\").addClass(\"animated shake\");\n",
    "    $(\"#target3\").addClass(\"animated fadeOut\");\n",
    "  });\n",
    "</script>"
   ]
  },
  {
   "cell_type": "markdown",
   "metadata": {},
   "source": [
    "### _jQuery: Target the Same Element with Multiple jQuery Selectors_"
   ]
  },
  {
   "cell_type": "markdown",
   "metadata": {},
   "source": [
    "- Although it is possible to add multiple classes in a single `.addClass()` call, let's add them to the same element in three separate ways.\n",
    "\n",
    "- Using `.addClass()`, add only one class at a time to the same element, three different ways:\n",
    "\n",
    "- Add the `animated` class to all elements with type `button`.\n",
    "\n",
    "- Add the `shake` class to all the buttons with class `.btn`.\n",
    "\n",
    "- Add the `btn-primary` class to the button with id `#target1`.\n",
    "\n",
    "- Note: You should only be targeting one element and adding only one class at a time. Altogether, your three individual selectors will end up adding the three classes `shake`, `animated`, and `btn-primary` to `#target1`."
   ]
  },
  {
   "cell_type": "code",
   "execution_count": null,
   "metadata": {},
   "outputs": [],
   "source": [
    "<script>\n",
    "  $(document).ready(function() {\n",
    "    $(\"button\").addClass(\"animated\");\n",
    "    $(\".btn\").addClass(\"shake\");\n",
    "    $(\"#target1\").addClass(\"btn-primary\");\n",
    "  });\n",
    "</script>"
   ]
  },
  {
   "cell_type": "markdown",
   "metadata": {},
   "source": [
    "### _jQuery: Remove Classes from an Element with jQuery_"
   ]
  },
  {
   "cell_type": "markdown",
   "metadata": {},
   "source": [
    "- In the same way you can add classes to an element with jQuery's `addClass()` function, you can remove them with jQuery's `removeClass()` function.\n",
    "\n",
    "- Here's how you would do this for a specific button:\n",
    "\n",
    "    `$(\"#target2\").removeClass(\"btn-default\");`\n",
    "\n",
    "- Let's remove the `btn-default` class from all of our `button` elements."
   ]
  },
  {
   "cell_type": "code",
   "execution_count": null,
   "metadata": {},
   "outputs": [],
   "source": [
    "<script>\n",
    "  $(document).ready(function() {\n",
    "    $(\"button\").addClass(\"animated bounce\");\n",
    "    $(\".well\").addClass(\"animated shake\");\n",
    "    $(\"#target3\").addClass(\"animated fadeOut\");\n",
    "    $(\"button\").removeClass(\"btn-default\"); //Target elements with the \"button\" tag and remove the class btn-default.\n",
    "  });\n",
    "</script>"
   ]
  },
  {
   "cell_type": "markdown",
   "metadata": {},
   "source": [
    "### _jQuery: Change the CSS of an Element Using jQuery_"
   ]
  },
  {
   "cell_type": "markdown",
   "metadata": {},
   "source": [
    "- We can also change the CSS of an HTML element directly with jQuery.\n",
    "\n",
    "- jQuery has a function called `.css()` that allows you to change the CSS of an element.\n",
    "\n",
    "- Here's how we would change its color to blue:\n",
    "\n",
    "    `$(\"#target1\").css(\"color\", \"blue\");`\n",
    "\n",
    "- This is slightly different from a normal CSS declaration, because the CSS property and its value are in quotes, and separated with a comma instead of a colon.\n",
    "- Select target1 and change its color to red."
   ]
  },
  {
   "cell_type": "code",
   "execution_count": null,
   "metadata": {},
   "outputs": [],
   "source": [
    "<script>\n",
    "  $(document).ready(function() {\n",
    "    $(\"#target1\").css(\"color\", \"red\");\n",
    "  });\n",
    "</script>"
   ]
  },
  {
   "cell_type": "markdown",
   "metadata": {},
   "source": [
    "### _jQuery: Disable an Element Using jQuery_"
   ]
  },
  {
   "cell_type": "markdown",
   "metadata": {},
   "source": [
    "- You can also change the non-CSS properties of HTML elements with jQuery. For example, you can disable buttons.\n",
    "\n",
    "- When you disable a button, it will become grayed-out and can no longer be clicked.\n",
    "\n",
    "- jQuery has a function called `.prop()` that allows you to adjust the properties of elements.\n",
    "\n",
    "- Here's how you would disable all buttons:\n",
    "\n",
    "    `$(\"button\").prop(\"disabled\", true);`\n",
    "\n",
    "- Please disable only the `target1` button."
   ]
  },
  {
   "cell_type": "code",
   "execution_count": null,
   "metadata": {},
   "outputs": [],
   "source": [
    "<script>\n",
    "  $(document).ready(function() {\n",
    "    $(\"#target1\").css(\"color\", \"red\");\n",
    "    $(\"#target1\").prop(\"disabled\", true);\n",
    "  });\n",
    "</script>"
   ]
  },
  {
   "cell_type": "markdown",
   "metadata": {},
   "source": [
    "### _jQuery: Change Text Inside an Element Using jQuery_"
   ]
  },
  {
   "cell_type": "markdown",
   "metadata": {},
   "source": [
    "- Using jQuery, you can change the text between the start and end tags of an element. You can even change HTML markup.\n",
    "\n",
    "- jQuery has a function called `.html()` that lets you add HTML tags and text within an element. Any content previously within the element will be completely replaced with the content you provide using this function.\n",
    "\n",
    "- Here's how you would rewrite and emphasize the text of our heading:\n",
    "\n",
    "    `$(\"h3\").html(\"<em>jQuery Playground</em>\");`\n",
    "\n",
    "- jQuery also has a similar function called `.text()` that only alters text without adding tags. In other words, this function will not evaluate any HTML tags passed to it, but will instead treat it as the text you want to replace the existing content with.\n",
    "\n",
    "- Change the button with id `target4` by emphasizing its text.\n",
    "\n",
    "- [View the MDN web docs for <em>](https://developer.mozilla.org/en-US/docs/Web/HTML/Element/em) to learn the difference between `<i>` and `<em>` and their uses.\n",
    "\n",
    "- Note that while the `<i>` tag has traditionally been used to emphasize text, it has since been adopted for use as a tag for icons. The `<em>` tag is now widely accepted as the tag for emphasis. Either will work for this challenge."
   ]
  },
  {
   "cell_type": "code",
   "execution_count": null,
   "metadata": {},
   "outputs": [],
   "source": [
    "<script>\n",
    "  $(document).ready(function() {\n",
    "    $(\"#target1\").css(\"color\", \"red\");\n",
    "    $(\"#target4\").html(\"<em>#target4</em>\");\n",
    "  });\n",
    "</script>"
   ]
  },
  {
   "cell_type": "markdown",
   "metadata": {},
   "source": [
    "### _jQuery: Remove an Element Using jQuery_"
   ]
  },
  {
   "cell_type": "markdown",
   "metadata": {},
   "source": [
    "- Now let's remove an HTML element from your page using jQuery.\n",
    "\n",
    "- jQuery has a function called `.remove()` that will remove an HTML element entirely\n",
    "\n",
    "- Remove element `target4` from the page by using the `.remove()` function"
   ]
  },
  {
   "cell_type": "code",
   "execution_count": null,
   "metadata": {},
   "outputs": [],
   "source": [
    "<script>\n",
    "  $(document).ready(function() {\n",
    "    $(\"#target1\").css(\"color\", \"red\");\n",
    "    $(\"#target1\").prop(\"disabled\", true);\n",
    "    $(\"#target4\").remove();\n",
    "  });\n",
    "</script>"
   ]
  },
  {
   "cell_type": "markdown",
   "metadata": {},
   "source": [
    "### _jQuery: Use appendTo to Move Elements with jQuery_"
   ]
  },
  {
   "cell_type": "markdown",
   "metadata": {},
   "source": [
    "- Now let's try moving elements from one `div` to another.\n",
    "\n",
    "- jQuery has a function called `appendTo()` that allows you to select HTML elements and append them to another element.\n",
    "\n",
    "- Move your `target2` element from your `left-well` to your `right-well`."
   ]
  },
  {
   "cell_type": "code",
   "execution_count": null,
   "metadata": {},
   "outputs": [],
   "source": [
    "<script>\n",
    "  $(document).ready(function() {\n",
    "    $(\"#target1\").css(\"color\", \"red\");\n",
    "    $(\"#target1\").prop(\"disabled\", true);\n",
    "    $(\"#target4\").remove();\n",
    "    $(\"#target2\").appendTo(\"#right-well\");\n",
    "  });\n",
    "</script>"
   ]
  },
  {
   "cell_type": "markdown",
   "metadata": {},
   "source": [
    "### _jQuery: Clone an Element Using jQuery_"
   ]
  },
  {
   "cell_type": "markdown",
   "metadata": {},
   "source": [
    "- In addition to moving elements, you can also copy them from one place to another.\n",
    "\n",
    "- jQuery has a function called `clone()` that makes a copy of an element.\n",
    "\n",
    "- For example, if we wanted to copy `target2` from our `left-well` to our `right-well`, we would use:\n",
    "\n",
    "    `$(\"#target2\").clone().appendTo(\"#right-well\");`\n",
    "\n",
    "- Did you notice this involves sticking two jQuery functions together? This is called function chaining and it's a convenient way to get things done with jQuery.\n",
    "\n",
    "- Clone your `target5` element and append it to your `left-well`."
   ]
  },
  {
   "cell_type": "code",
   "execution_count": null,
   "metadata": {},
   "outputs": [],
   "source": [
    "<script>\n",
    "  $(document).ready(function() {\n",
    "    $(\"#target1\").css(\"color\", \"red\");\n",
    "    $(\"#target1\").prop(\"disabled\", true);\n",
    "    $(\"#target4\").remove();\n",
    "    $(\"#target2\").appendTo(\"#right-well\");\n",
    "    $(\"#target5\").clone().appendTo(\"#left-well\");\n",
    "  });\n",
    "</script>"
   ]
  },
  {
   "cell_type": "markdown",
   "metadata": {},
   "source": [
    "### _jQuery: Target the Parent of an Element Using jQuery_"
   ]
  },
  {
   "cell_type": "markdown",
   "metadata": {},
   "source": [
    "- jQuery has a function called `parent()` that allows you to access the parent of whichever element you've selected.\n",
    "\n",
    "- Here's an example of how you would use the `parent()` function if you wanted to give the parent element of the `left-well` element a background color of blue:\n",
    "\n",
    "    `$(\"#left-well\").parent().css(\"background-color\", \"blue\")`\n",
    "\n",
    "- Give the parent of the `#target1` element a background-color of red."
   ]
  },
  {
   "cell_type": "code",
   "execution_count": null,
   "metadata": {},
   "outputs": [],
   "source": [
    "<script>\n",
    "  $(document).ready(function() {\n",
    "    $(\"#target1\").css(\"color\", \"red\");\n",
    "    $(\"#target1\").prop(\"disabled\", true);\n",
    "    $(\"#target4\").remove();\n",
    "    $(\"#target2\").appendTo(\"#right-well\");\n",
    "    $(\"#target5\").clone().appendTo(\"#left-well\");\n",
    "    $(\"#target1\").parent().css(\"background-color\", \"red\");\n",
    "  });\n",
    "</script>"
   ]
  },
  {
   "cell_type": "markdown",
   "metadata": {},
   "source": [
    "### _jQuery: Target the Children of an Element Using jQuery_"
   ]
  },
  {
   "cell_type": "markdown",
   "metadata": {},
   "source": [
    "- jQuery has a function called `children()` that allows you to access the children of whichever element you've selected.\n",
    "\n",
    "- Here's an example of how you would use the `children()` function to give the children of your `left-well` element the color `blue`:\n",
    "\n",
    "    `$(\"#left-well\").children().css(\"color\", \"blue\")`"
   ]
  },
  {
   "cell_type": "markdown",
   "metadata": {},
   "source": [
    "- Give all the children of your right-well element the color orange."
   ]
  },
  {
   "cell_type": "code",
   "execution_count": null,
   "metadata": {},
   "outputs": [],
   "source": [
    "<script>\n",
    "  $(document).ready(function() {\n",
    "    $(\"#target1\").css(\"color\", \"red\");\n",
    "    $(\"#target1\").prop(\"disabled\", true);\n",
    "    $(\"#target4\").remove();\n",
    "    $(\"#target2\").appendTo(\"#right-well\");\n",
    "    $(\"#target5\").clone().appendTo(\"#left-well\");\n",
    "    $(\"#target1\").parent().css(\"background-color\", \"red\");\n",
    "    $(\"#right-well\").children().css(\"color\",\"orange\");\n",
    "  });\n",
    "</script>"
   ]
  },
  {
   "cell_type": "markdown",
   "metadata": {},
   "source": [
    "### _jQuery: Target a Specific Child of an Element Using jQuery_"
   ]
  },
  {
   "cell_type": "markdown",
   "metadata": {},
   "source": [
    "- You've seen why id attributes are so convenient for targeting with jQuery selectors. But you won't always have such neat ids to work with.\n",
    "\n",
    "- Fortunately, jQuery has some other tricks for targeting the right elements.\n",
    "\n",
    "- jQuery uses CSS Selectors to target elements. The `target:nth-child(n)` CSS selector allows you to select all the nth elements with the target class or element type.\n",
    "\n",
    "- Here's how you would give the third element in each well the bounce class:\n",
    "\n",
    "    `$(\".target:nth-child(3)\").addClass(\"animated bounce\");`\n",
    "\n",
    "- Make the second child in each of your well elements bounce. You must select the elements' children with the `target` class."
   ]
  },
  {
   "cell_type": "code",
   "execution_count": null,
   "metadata": {},
   "outputs": [],
   "source": [
    "<script>\n",
    "  $(document).ready(function() {\n",
    "    $(\"#target1\").css(\"color\", \"red\");\n",
    "    $(\"#target1\").prop(\"disabled\", true);\n",
    "    $(\"#target4\").remove();\n",
    "    $(\"#target2\").appendTo(\"#right-well\");\n",
    "    $(\"#target5\").clone().appendTo(\"#left-well\");\n",
    "    $(\"#target1\").parent().css(\"background-color\", \"red\");\n",
    "    $(\"#right-well\").children().css(\"color\", \"orange\");\n",
    "    $(\".target:nth-child(2)\").addClass(\"animated bounce\");\n",
    "  });\n",
    "</script>"
   ]
  },
  {
   "cell_type": "markdown",
   "metadata": {},
   "source": [
    "### _jQuery: Target Even Elements Using jQuery_"
   ]
  },
  {
   "cell_type": "markdown",
   "metadata": {},
   "source": [
    "- You can also target elements based on their positions using `:odd` or `:even` selectors.\n",
    "\n",
    "- Note that jQuery is zero-indexed which means the first element in a selection has a position of 0. This can be a little confusing as, counter-intuitively, `:odd` selects the second element (position 1), fourth element (position 3), and so on.\n",
    "\n",
    "- Here's how you would target all the odd elements with class `target` and give them classes:\n",
    "\n",
    "    `$(\".target:odd\").addClass(\"animated shake\");`\n",
    "\n",
    "- Try selecting all the even `target` elements and giving them the classes of animated and `shake`. Remember that even refers to the position of elements with a zero-based system in mind."
   ]
  },
  {
   "cell_type": "code",
   "execution_count": null,
   "metadata": {},
   "outputs": [],
   "source": [
    "<script>\n",
    "  $(document).ready(function() {\n",
    "    $(\"#target1\").css(\"color\", \"red\");\n",
    "    $(\"#target1\").prop(\"disabled\", true);\n",
    "    $(\"#target4\").remove();\n",
    "    $(\"#target2\").appendTo(\"#right-well\");\n",
    "    $(\"#target5\").clone().appendTo(\"#left-well\");\n",
    "    $(\"#target1\").parent().css(\"background-color\", \"red\");\n",
    "    $(\"#right-well\").children().css(\"color\", \"orange\");\n",
    "    $(\"#left-well\").children().css(\"color\", \"green\");\n",
    "    $(\".target:nth-child(2)\").addClass(\"animated bounce\");\n",
    "    $(\".target:even\").addClass(\"animated shake\");\n",
    "  });\n",
    "</script>"
   ]
  },
  {
   "cell_type": "markdown",
   "metadata": {},
   "source": [
    "### _jQuery: Use jQuery to Modify the Entire Page_"
   ]
  },
  {
   "cell_type": "markdown",
   "metadata": {},
   "source": [
    "- We're done playing with our jQuery playground. Let's tear it down!\n",
    "\n",
    "- jQuery can target the `body` element as well.\n",
    "\n",
    "- Here's how we would make the entire body fade out: \n",
    "    `$(\"body\").addClass(\"animated fadeOut\");`\n",
    "\n",
    "- But let's do something more dramatic. Add the classes `animated` and `hinge` to your `body` element."
   ]
  },
  {
   "cell_type": "code",
   "execution_count": null,
   "metadata": {},
   "outputs": [],
   "source": [
    "<script>\n",
    "  $(document).ready(function() {\n",
    "    $(\"#target1\").css(\"color\", \"red\");\n",
    "    $(\"#target1\").prop(\"disabled\", true);\n",
    "    $(\"#target4\").remove();\n",
    "    $(\"#target2\").appendTo(\"#right-well\");\n",
    "    $(\"#target5\").clone().appendTo(\"#left-well\");\n",
    "    $(\"#target1\").parent().css(\"background-color\", \"red\");\n",
    "    $(\"#right-well\").children().css(\"color\", \"orange\");\n",
    "    $(\"#left-well\").children().css(\"color\", \"green\");\n",
    "    $(\".target:nth-child(2)\").addClass(\"animated bounce\");\n",
    "    $(\".target:even\").addClass(\"animated shake\");\n",
    "    $(\"body\").addClass(\"animated hinge\");\n",
    "  });\n",
    "</script>\n",
    "\n",
    "<!-- Only change code above this line. -->\n",
    "\n",
    "<div class=\"container-fluid\">\n",
    "  <h3 class=\"text-primary text-center\">jQuery Playground</h3>\n",
    "  <div class=\"row\">\n",
    "    <div class=\"col-xs-6\">\n",
    "      <h4>#left-well</h4>\n",
    "      <div class=\"well\" id=\"left-well\">\n",
    "        <button class=\"btn btn-default target\" id=\"target1\">#target1</button>\n",
    "        <button class=\"btn btn-default target\" id=\"target2\">#target2</button>\n",
    "        <button class=\"btn btn-default target\" id=\"target3\">#target3</button>\n",
    "      </div>\n",
    "    </div>\n",
    "    <div class=\"col-xs-6\">\n",
    "      <h4>#right-well</h4>\n",
    "      <div class=\"well\" id=\"right-well\">\n",
    "        <button class=\"btn btn-default target\" id=\"target4\">#target4</button>\n",
    "        <button class=\"btn btn-default target\" id=\"target5\">#target5</button>\n",
    "        <button class=\"btn btn-default target\" id=\"target6\">#target6</button>\n",
    "      </div>\n",
    "    </div>\n",
    "  </div>\n",
    "</div>\n"
   ]
  }
 ],
 "metadata": {
  "kernelspec": {
   "display_name": "Python 3",
   "language": "python",
   "name": "python3"
  },
  "language_info": {
   "codemirror_mode": {
    "name": "ipython",
    "version": 3
   },
   "file_extension": ".py",
   "mimetype": "text/x-python",
   "name": "python",
   "nbconvert_exporter": "python",
   "pygments_lexer": "ipython3",
   "version": "3.7.4"
  }
 },
 "nbformat": 4,
 "nbformat_minor": 2
}
