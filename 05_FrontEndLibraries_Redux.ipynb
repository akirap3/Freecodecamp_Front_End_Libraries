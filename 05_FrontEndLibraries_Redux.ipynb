{
 "cells": [
  {
   "cell_type": "markdown",
   "metadata": {},
   "source": [
    "### _Introduction to the Redux Challenges_"
   ]
  },
  {
   "cell_type": "markdown",
   "metadata": {},
   "source": [
    "- [Redux](https://redux.js.org/) is a predictable state container for JavaScript apps. It helps you write applications that behave consistently, run in different environments (client, server, and native), and are easy to test. While you can use Redux with any view library, it's introduced here before being combined with React."
   ]
  },
  {
   "cell_type": "markdown",
   "metadata": {},
   "source": [
    "<hr>\n",
    "<hr>"
   ]
  },
  {
   "cell_type": "markdown",
   "metadata": {},
   "source": [
    "### _Redux: Create a Redux Store_"
   ]
  },
  {
   "cell_type": "markdown",
   "metadata": {},
   "source": [
    "- Redux is a state management framework that can be used with a number of different web technologies, including React."
   ]
  },
  {
   "cell_type": "markdown",
   "metadata": {},
   "source": [
    "- In Redux, there is a single state object that's responsible for the entire state of your application. This means if you had a React app with ten components, and each component had its own local state, the entire state of your app would be defined by a single state object housed in the Redux `store`. This is the first important principle to understand when learning Redux: the Redux store is the single source of truth when it comes to application state."
   ]
  },
  {
   "cell_type": "markdown",
   "metadata": {},
   "source": [
    "- This also means that any time any piece of your app wants to update state, it must do so through the Redux store. The unidirectional data flow makes it easier to track state management in your app."
   ]
  },
  {
   "cell_type": "markdown",
   "metadata": {},
   "source": [
    "<hr>"
   ]
  },
  {
   "cell_type": "markdown",
   "metadata": {},
   "source": [
    "- The Redux `store` is an object which holds and manages application `state`. There is a method called `createStore()` on the Redux object, which you use to create the Redux `store`. This method takes a `reducer` function as a required argument. The `reducer` function is covered in a later challenge, and is already defined for you in the code editor. It simply takes `state` as an argument and returns `state`."
   ]
  },
  {
   "cell_type": "markdown",
   "metadata": {},
   "source": [
    "- Declare a `store` variable and assign it to the `createStore()` method, passing in the `reducer` as an argument."
   ]
  },
  {
   "cell_type": "markdown",
   "metadata": {},
   "source": [
    "```javascript\n",
    "const reducer = (state = 5) => {\n",
    "  return state;\n",
    "}\n",
    "\n",
    "const store = Redux.createStore(reducer);\n",
    "console.log(store.getState())\n",
    "\n",
    "```"
   ]
  },
  {
   "cell_type": "markdown",
   "metadata": {},
   "source": [
    "<hr>\n",
    "<hr>"
   ]
  },
  {
   "cell_type": "markdown",
   "metadata": {},
   "source": [
    "### _Redux: Get State from the Redux Store_"
   ]
  },
  {
   "cell_type": "markdown",
   "metadata": {},
   "source": [
    "- The Redux store object provides several methods that allow you to interact with it. For example, you can retrieve the current `state` held in the Redux store object with the `getState()` method."
   ]
  },
  {
   "cell_type": "markdown",
   "metadata": {},
   "source": [
    "<hr>"
   ]
  },
  {
   "cell_type": "markdown",
   "metadata": {},
   "source": [
    "- The code from the previous challenge is re-written more concisely in the code editor. Use `store.getState()` to retrieve the `state` from the `store`, and assign this to a new variable `currentState`."
   ]
  },
  {
   "cell_type": "markdown",
   "metadata": {},
   "source": [
    "```javascript\n",
    "const store = Redux.createStore(\n",
    "  (state = 5) => state\n",
    ");\n",
    "\n",
    "const currentState = store.getState()\n",
    "```"
   ]
  },
  {
   "cell_type": "markdown",
   "metadata": {},
   "source": [
    "<hr>\n",
    "<hr>"
   ]
  },
  {
   "cell_type": "markdown",
   "metadata": {},
   "source": [
    "###  _Redux: Define a Redux Action_"
   ]
  },
  {
   "cell_type": "markdown",
   "metadata": {},
   "source": [
    "- Since Redux is a state management framework, updating state is one of its core tasks. In Redux, all state updates are triggered by dispatching actions. An action is simply a JavaScript object that contains information about an action event that has occurred. The Redux store receives these action objects, then updates its state accordingly. Sometimes a Redux action also carries some data. For example, the action carries a username after a user logs in. While the data is optional, actions must carry a `type` property that specifies the 'type' of action that occurred."
   ]
  },
  {
   "cell_type": "markdown",
   "metadata": {},
   "source": [
    "- Think of Redux actions as messengers that deliver information about events happening in your app to the Redux store. The store then conducts the business of updating state based on the action that occurred."
   ]
  },
  {
   "cell_type": "markdown",
   "metadata": {},
   "source": [
    "<hr>"
   ]
  },
  {
   "cell_type": "markdown",
   "metadata": {},
   "source": [
    "- Writing a Redux action is as simple as declaring an object with a type property. Declare an object `action` and give it a property `type` set to the string `'LOGIN'`."
   ]
  },
  {
   "cell_type": "markdown",
   "metadata": {},
   "source": [
    "```javascript\n",
    "let action = {\n",
    "  type: 'LOGIN'\n",
    "}\n",
    "\n",
    "```"
   ]
  },
  {
   "cell_type": "markdown",
   "metadata": {},
   "source": [
    "<hr>\n",
    "<hr>"
   ]
  },
  {
   "cell_type": "markdown",
   "metadata": {},
   "source": [
    "### _Redux: Define an Action Creator_"
   ]
  },
  {
   "cell_type": "markdown",
   "metadata": {},
   "source": [
    "- After creating an action, the next step is sending the action to the Redux store so it can update its state. In Redux, you define action creators to accomplish this. An action creator is simply a JavaScript function that returns an action. In other words, action creators create objects that represent action events."
   ]
  },
  {
   "cell_type": "markdown",
   "metadata": {},
   "source": [
    "<hr>"
   ]
  },
  {
   "cell_type": "markdown",
   "metadata": {},
   "source": [
    "- Define a function named `actionCreator()` that returns the `action` object when called."
   ]
  },
  {
   "cell_type": "markdown",
   "metadata": {},
   "source": [
    "```javascript\n",
    "const action = {\n",
    "  type: 'LOGIN'\n",
    "}\n",
    "\n",
    "function actionCreator(){\n",
    "  return action\n",
    "}\n",
    "```"
   ]
  },
  {
   "cell_type": "markdown",
   "metadata": {},
   "source": [
    "<hr>\n",
    "<hr>"
   ]
  },
  {
   "cell_type": "markdown",
   "metadata": {},
   "source": [
    "### _Redux: Dispatch an Action Event_"
   ]
  },
  {
   "cell_type": "markdown",
   "metadata": {},
   "source": [
    "- `dispatch` method is what you use to dispatch actions to the Redux store. Calling `store.dispatch()` and passing the value returned from an action creator sends an action back to the store."
   ]
  },
  {
   "cell_type": "markdown",
   "metadata": {},
   "source": [
    "- Recall that action creators return an object with a type property that specifies the action that has occurred. Then the method dispatches an action object to the Redux store. Based on the previous challenge's example, the following lines are equivalent, and both dispatch the action of type `LOGIN`:"
   ]
  },
  {
   "cell_type": "markdown",
   "metadata": {},
   "source": [
    "```javascript\n",
    "store.dispatch(actionCreator());\n",
    "store.dispatch({ type: 'LOGIN' });\n",
    "```"
   ]
  },
  {
   "cell_type": "markdown",
   "metadata": {},
   "source": [
    "<hr>"
   ]
  },
  {
   "cell_type": "markdown",
   "metadata": {},
   "source": [
    "- The Redux store in the code editor has an initialized state that's an object containing a `login` property currently set to `false`. There's also an action creator called `loginAction()` which returns an action of type `LOGIN`. Dispatch the `LOGIN` action to the Redux store by calling the `dispatch` method, and pass in the action created by `loginAction()`."
   ]
  },
  {
   "cell_type": "markdown",
   "metadata": {},
   "source": [
    "```javascript\n",
    "const store = Redux.createStore(\n",
    "  (state = {login: false}) => state\n",
    ");\n",
    "\n",
    "const loginAction = () => {\n",
    "  return {\n",
    "    type: 'LOGIN'\n",
    "  }\n",
    "};\n",
    "\n",
    "store.dispatch(loginAction());\n",
    "\n",
    "```"
   ]
  },
  {
   "cell_type": "markdown",
   "metadata": {},
   "source": [
    "### _Redux: Handle an Action in the Store_"
   ]
  },
  {
   "cell_type": "markdown",
   "metadata": {},
   "source": [
    "- After an action is created and dispatched, the Redux store needs to know how to respond to that action. This is the job of a `reducer` function. Reducers in Redux are responsible for the state modifications that take place in response to actions. A `reducer` takes `state` and `action` as arguments, and it always returns a new `state`. It is important to see that this is the only role of the reducer. It has no side effects — it never calls an API endpoint and it never has any hidden surprises. The reducer is simply a pure function that takes state and action, then returns new state."
   ]
  },
  {
   "cell_type": "markdown",
   "metadata": {},
   "source": [
    "- Another key principle in Redux is that `state` is read-only. In other words, the `reducer` function must always return a new copy of `state` and never modify state directly. Redux does not enforce state immutability, however, you are responsible for enforcing it in the code of your reducer functions. You'll practice this in later challenges."
   ]
  },
  {
   "cell_type": "markdown",
   "metadata": {},
   "source": [
    "<hr>"
   ]
  },
  {
   "cell_type": "markdown",
   "metadata": {},
   "source": [
    "- The code editor has the previous example as well as the start of a `reducer` function for you. Fill in the body of the `reducer` function so that if it receives an action of type `'LOGIN'` it returns a state object with `login` set to `true`. Otherwise, it returns the current `state`. Note that the current `state` and the dispatched `action`are passed to the reducer, so you can access the action's type directly with `action.type`."
   ]
  },
  {
   "cell_type": "markdown",
   "metadata": {},
   "source": [
    "```javascript\n",
    "const defaultState = {\n",
    "  login: false\n",
    "};\n",
    "\n",
    "const reducer = (state = defaultState, action) => {\n",
    "  if (action.type == 'LOGIN') {\n",
    "    return { \n",
    "      login: true\n",
    "    }\n",
    "  }\n",
    "  return state\n",
    "};\n",
    "\n",
    "const store = Redux.createStore(reducer);\n",
    "\n",
    "const loginAction = () => {\n",
    "  return {\n",
    "    type: 'LOGIN'\n",
    "  }\n",
    "};\n",
    "```"
   ]
  },
  {
   "cell_type": "markdown",
   "metadata": {},
   "source": [
    "### _Redux: Use a Switch Statement to Handle Multiple Actions_"
   ]
  },
  {
   "cell_type": "markdown",
   "metadata": {},
   "source": [
    "- You can tell the Redux store how to handle multiple action types. Say you are managing user authentication in your Redux store. You want to have a state representation for when users are logged in and when they are logged out. You represent this with a single state object with the property `authenticated`. You also need action creators that create actions corresponding to user login and user logout, along with the action objects themselves."
   ]
  },
  {
   "cell_type": "markdown",
   "metadata": {},
   "source": [
    "- The code editor has a store, actions, and action creators set up for you. Fill in the `reducer` function to handle multiple authentication actions. Use a JavaScript `switch` statement in the `reducer` to respond to different action events. This is a standard pattern in writing Redux reducers. The switch statement should switch over `action.type` and return the appropriate authentication state."
   ]
  },
  {
   "cell_type": "markdown",
   "metadata": {},
   "source": [
    "- Note: At this point, don't worry about state immutability, since it is small and simple in this example. For each action, you can return a new object — for example, `{authenticated: true}`. Also, don't forget to write a `default` case in your switch statement that returns the current `state`. This is important because once your app has multiple reducers, they are all run any time an action dispatch is made, even when the action isn't related to that reducer. In such a case, you want to make sure that you return the current `state`."
   ]
  },
  {
   "cell_type": "markdown",
   "metadata": {},
   "source": [
    "```javascript\n",
    "const defaultState = {\n",
    "  authenticated: false\n",
    "};\n",
    "\n",
    "const authReducer = (state = defaultState, action) => {\n",
    "  switch (action.type) {\n",
    "    case \"LOGIN\":\n",
    "      return {\n",
    "        authenticated: true\n",
    "      };\n",
    "\n",
    "    case \"LOGOUT\":\n",
    "      return {\n",
    "        authenticated: false\n",
    "      };\n",
    "\n",
    "    default:\n",
    "      return defaultState;\n",
    "  }\n",
    "};\n",
    "\n",
    "const store = Redux.createStore(authReducer);\n",
    "\n",
    "const loginUser = () => {\n",
    "  return {\n",
    "    type: \"LOGIN\"\n",
    "  };\n",
    "};\n",
    "\n",
    "const logoutUser = () => {\n",
    "  return {\n",
    "    type: \"LOGOUT\"\n",
    "  };\n",
    "};\n",
    "```"
   ]
  },
  {
   "cell_type": "markdown",
   "metadata": {},
   "source": [
    "### _Redux: Use const for Action Types_"
   ]
  },
  {
   "cell_type": "markdown",
   "metadata": {},
   "source": [
    "- A common practice when working with Redux is to assign action types as read-only constants, then reference these constants wherever they are used. You can refactor the code you're working with to write the action types as `const `declarations."
   ]
  },
  {
   "cell_type": "markdown",
   "metadata": {},
   "source": [
    "<hr>"
   ]
  },
  {
   "cell_type": "markdown",
   "metadata": {},
   "source": [
    "- Declare `LOGIN` and `LOGOUT` as `const` values and assign them to the strings `'LOGIN'` and `'LOGOUT'`, respectively. Then, edit the `authReducer()` and the action creators to reference these constants instead of string values."
   ]
  },
  {
   "cell_type": "markdown",
   "metadata": {},
   "source": [
    "- Note: It's generally a convention to write constants in all uppercase, and this is standard practice in Redux as well."
   ]
  },
  {
   "cell_type": "markdown",
   "metadata": {},
   "source": [
    "```javascript\n",
    "const LOGIN = 'LOGIN'\n",
    "const LOGOUT = 'LOGOUT'\n",
    "\n",
    "const defaultState = {\n",
    "  authenticated: false\n",
    "};\n",
    "\n",
    "const authReducer = (state = defaultState, action) => {\n",
    "\n",
    "  switch (action.type) {\n",
    "\n",
    "    case LOGIN:\n",
    "      return {\n",
    "        authenticated: true\n",
    "      }\n",
    "\n",
    "    case LOGOUT:\n",
    "      return {\n",
    "        authenticated: false\n",
    "      }\n",
    "\n",
    "    default:\n",
    "      return state;\n",
    "\n",
    "  }\n",
    "\n",
    "};\n",
    "\n",
    "const store = Redux.createStore(authReducer);\n",
    "\n",
    "const loginUser = () => {\n",
    "  return {\n",
    "    type: LOGIN\n",
    "  }\n",
    "};\n",
    "\n",
    "const logoutUser = () => {\n",
    "  return {\n",
    "    type: LOGOUT\n",
    "  }\n",
    "};\n",
    "```"
   ]
  },
  {
   "cell_type": "markdown",
   "metadata": {},
   "source": [
    "### _Redux: Register a Store Listener_"
   ]
  },
  {
   "cell_type": "markdown",
   "metadata": {},
   "source": [
    "- Another method you have access to on the Redux `store` object is `store.subscribe()`. This allows you to subscribe listener functions to the store, which are called whenever an action is dispatched against the store. One simple use for this method is to subscribe a function to your store that simply logs a message every time an action is received and the store is updated."
   ]
  },
  {
   "cell_type": "markdown",
   "metadata": {},
   "source": [
    "<hr>"
   ]
  },
  {
   "cell_type": "markdown",
   "metadata": {},
   "source": [
    "- Write a callback function that increments the global variable `count` every time the store receives an action, and pass this function in to the `store.subscribe()` method. You'll see that `store.dispatch()` is called three times in a row, each time directly passing in an action object. Watch the console output between the action dispatches to see the updates take place."
   ]
  },
  {
   "cell_type": "markdown",
   "metadata": {},
   "source": [
    "```javascript\n",
    "\n",
    "const reducer = (state = 0, action) => {\n",
    "  switch(action.type) {\n",
    "    case ADD:\n",
    "      return state + 1;\n",
    "    default:\n",
    "      return state;\n",
    "  }\n",
    "};\n",
    "\n",
    "const store = Redux.createStore(reducer);\n",
    "\n",
    "// global count variable:\n",
    "let count = 0;\n",
    "\n",
    "const addOne = () => (count += 1);\n",
    "store.subscribe(addOne)\n",
    "\n",
    "store.dispatch({type: ADD});\n",
    "console.log(count);\n",
    "store.dispatch({type: ADD});\n",
    "console.log(count);\n",
    "store.dispatch({type: ADD});\n",
    "console.log(count);\n",
    "```"
   ]
  },
  {
   "cell_type": "markdown",
   "metadata": {},
   "source": [
    "### _Redux: Combine Multiple Reducers_"
   ]
  },
  {
   "cell_type": "markdown",
   "metadata": {},
   "source": [
    "- When the state of your app begins to grow more complex, it may be tempting to divide state into multiple pieces. Instead, remember the first principle of Redux: all app state is held in a single state object in the store. Therefore, Redux provides reducer composition as a solution for a complex state model. You define multiple reducers to handle different pieces of your application's state, then compose these reducers together into one root reducer. The root reducer is then passed into the Redux `createStore()` method."
   ]
  },
  {
   "cell_type": "markdown",
   "metadata": {},
   "source": [
    "- In order to let us combine multiple reducers together, Redux provides the `combineReducers()` method. This method accepts an object as an argument in which you define properties which associate keys to specific reducer functions. The name you give to the keys will be used by Redux as the name for the associated piece of state."
   ]
  },
  {
   "cell_type": "markdown",
   "metadata": {},
   "source": [
    "- Typically, it is a good practice to create a reducer for each piece of application state when they are distinct or unique in some way. For example, in a note-taking app with user authentication, one reducer could handle authentication while another handles the text and notes that the user is submitting. For such an application, we might write the `combineReducers()` method like this:"
   ]
  },
  {
   "cell_type": "markdown",
   "metadata": {},
   "source": [
    "```javascript\n",
    "const rootReducer = Redux.combineReducers({\n",
    "  auth: authenticationReducer,\n",
    "  notes: notesReducer\n",
    "});\n",
    "```"
   ]
  },
  {
   "cell_type": "markdown",
   "metadata": {},
   "source": [
    "- Now, the key `notes` will contain all of the state associated with our notes and handled by our `notesReducer`. This is how multiple reducers can be composed to manage more complex application state. In this example, the state held in the Redux store would then be a single object containing `auth` and `notes` properties."
   ]
  },
  {
   "cell_type": "markdown",
   "metadata": {},
   "source": [
    "<hr>"
   ]
  },
  {
   "cell_type": "markdown",
   "metadata": {},
   "source": [
    "- There are `counterReducer()` and `authReducer()` functions provided in the code editor, along with a Redux store. Finish writing the `rootReducer()` function using the `Redux.combineReducers()` method. Assign `counterReducer` to a key called `count` and `authReducer` to a key called `auth`."
   ]
  },
  {
   "cell_type": "markdown",
   "metadata": {},
   "source": [
    "```javascript\n",
    "const INCREMENT = 'INCREMENT';\n",
    "const DECREMENT = 'DECREMENT';\n",
    "\n",
    "const counterReducer = (state = 0, action) => {\n",
    "  switch(action.type) {\n",
    "    case INCREMENT:\n",
    "      return state + 1;\n",
    "    case DECREMENT:\n",
    "      return state - 1;\n",
    "    default:\n",
    "      return state;\n",
    "  }\n",
    "};\n",
    "\n",
    "const LOGIN = 'LOGIN';\n",
    "const LOGOUT = 'LOGOUT';\n",
    "\n",
    "const authReducer = (state = {authenticated: false}, action) => {\n",
    "  switch(action.type) {\n",
    "    case LOGIN:\n",
    "      return {\n",
    "        authenticated: true\n",
    "      }\n",
    "    case LOGOUT:\n",
    "      return {\n",
    "        authenticated: false\n",
    "      }\n",
    "    default:\n",
    "      return state;\n",
    "  }\n",
    "};\n",
    "\n",
    "const rootReducer = Redux.combineReducers({\n",
    "  count: counterReducer,\n",
    "  auth: authReducer\n",
    "});\n",
    "\n",
    "const store = Redux.createStore(rootReducer);\n",
    "```"
   ]
  },
  {
   "cell_type": "markdown",
   "metadata": {},
   "source": [
    "### _Redux: Send Action Data to the Store_"
   ]
  },
  {
   "cell_type": "markdown",
   "metadata": {},
   "source": [
    "- By now you've learned how to dispatch actions to the Redux store, but so far these actions have not contained any information other than a `type`. You can also send specific data along with your actions. In fact, this is very common because actions usually originate from some user interaction and tend to carry some data with them. The Redux store often needs to know about this data."
   ]
  },
  {
   "cell_type": "markdown",
   "metadata": {},
   "source": [
    "<hr>"
   ]
  },
  {
   "cell_type": "markdown",
   "metadata": {},
   "source": [
    "- There's a basic `notesReducer()` and an `addNoteText()` action creator defined in the code editor. Finish the body of the `addNoteText()` function so that it returns an `action` object. The object should include a type property with a value of `ADD_NOTE`, and also a `text` property set to the `note` data that's passed into the action creator. When you call the action creator, you'll pass in specific note information that you can access for the object."
   ]
  },
  {
   "cell_type": "markdown",
   "metadata": {},
   "source": [
    "- Next, finish writing the `switch` statement in the `notesReducer()`. You need to add a case that handles the `addNoteText()` actions. This case should be triggered whenever there is an action of type `ADD_NOTE` and it should return the `text` property on the incoming `action` as the new `state`."
   ]
  },
  {
   "cell_type": "markdown",
   "metadata": {},
   "source": [
    "- The action is dispatched at the bottom of the code. Once you're finished, run the code and watch the console. That's all it takes to send action-specific data to the store and use it when you update store `state`."
   ]
  },
  {
   "cell_type": "markdown",
   "metadata": {},
   "source": [
    "```javascript\n",
    "const ADD_NOTE = 'ADD_NOTE';\n",
    "\n",
    "const notesReducer = (state = 'Initial State', action) => {\n",
    "  switch(action.type) {\n",
    "    case ADD_NOTE:\n",
    "      return action.text\n",
    "    default:\n",
    "      return state;\n",
    "  }\n",
    "};\n",
    "\n",
    "const addNoteText = (note) => {\n",
    "  return {\n",
    "    type: ADD_NOTE,\n",
    "    text: note\n",
    "  }\n",
    "};\n",
    "\n",
    "const store = Redux.createStore(notesReducer);\n",
    "\n",
    "console.log(store.getState());\n",
    "store.dispatch(addNoteText('Hello!'));\n",
    "console.log(store.getState());\n",
    "```"
   ]
  },
  {
   "cell_type": "markdown",
   "metadata": {},
   "source": [
    "### _Redux: Use Middleware to Handle Asynchronous Actions_"
   ]
  },
  {
   "cell_type": "markdown",
   "metadata": {},
   "source": [
    "- So far these challenges have avoided discussing asynchronous actions, but they are an unavoidable part of web development. At some point you'll need to call asynchronous endpoints in your Redux app, so how do you handle these types of requests? Redux provides middleware designed specifically for this purpose, called Redux Thunk middleware. Here's a brief description how to use this with Redux."
   ]
  },
  {
   "cell_type": "markdown",
   "metadata": {},
   "source": [
    "- To include Redux Thunk middleware, you pass it as an argument to `Redux.applyMiddleware()`. This statement is then provided as a second optional parameter to the `createStore()` function. Take a look at the code at the bottom of the editor to see this. Then, to create an asynchronous action, you return a function in the action creator that takes `dispatch` as an argument. Within this function, you can dispatch actions and perform asynchronous requests."
   ]
  },
  {
   "cell_type": "markdown",
   "metadata": {},
   "source": [
    "- In this example, an asynchronous request is simulated with a `setTimeout()` call. It's common to dispatch an action before initiating any asynchronous behavior so that your application state knows that some data is being requested (this state could display a loading icon, for instance). Then, once you receive the data, you dispatch another action which carries the data as a payload along with information that the action is completed."
   ]
  },
  {
   "cell_type": "markdown",
   "metadata": {},
   "source": [
    "- Remember that you're passing `dispatch` as a parameter to this special action creator. This is what you'll use to dispatch your actions, you simply pass the action directly to dispatch and the middleware takes care of the rest."
   ]
  },
  {
   "cell_type": "markdown",
   "metadata": {},
   "source": [
    "<hr>"
   ]
  },
  {
   "cell_type": "markdown",
   "metadata": {},
   "source": [
    "- Write both dispatches in the `handleAsync()` action creator. Dispatch `requestingData()` before the `setTimeout()` (the simulated API call). Then, after you receive the (pretend) data, dispatch the `receivedData()` action, passing in this data. Now you know how to handle asynchronous actions in Redux. Everything else continues to behave as before."
   ]
  },
  {
   "cell_type": "markdown",
   "metadata": {},
   "source": [
    "```javascript\n",
    "const REQUESTING_DATA = 'REQUESTING_DATA'\n",
    "const RECEIVED_DATA = 'RECEIVED_DATA'\n",
    "\n",
    "const requestingData = () => { return {type: REQUESTING_DATA} }\n",
    "const receivedData = (data) => { return {type: RECEIVED_DATA, users: data.users} }\n",
    "\n",
    "const handleAsync = () => {\n",
    "  return function(dispatch) {\n",
    "    store.dispatch(requestingData());\n",
    "    setTimeout(function() {\n",
    "      let data = {\n",
    "        users: ['Jeff', 'William', 'Alice']\n",
    "      }\n",
    "      store.dispatch(receivedData(data));\n",
    "    }, 2500);\n",
    "  }\n",
    "};\n",
    "\n",
    "const defaultState = {\n",
    "  fetching: false,\n",
    "  users: []\n",
    "};\n",
    "\n",
    "const asyncDataReducer = (state = defaultState, action) => {\n",
    "  switch(action.type) {\n",
    "    case REQUESTING_DATA:\n",
    "      return {\n",
    "        fetching: true,\n",
    "        users: []\n",
    "      }\n",
    "    case RECEIVED_DATA:\n",
    "      return {\n",
    "        fetching: false,\n",
    "        users: action.users\n",
    "      }\n",
    "    default:\n",
    "      return state;\n",
    "  }\n",
    "};\n",
    "\n",
    "const store = Redux.createStore(\n",
    "  asyncDataReducer,\n",
    "  Redux.applyMiddleware(ReduxThunk.default)\n",
    ");\n",
    "```"
   ]
  },
  {
   "cell_type": "markdown",
   "metadata": {},
   "source": [
    "### _Redux: Write a Counter with Redux_"
   ]
  },
  {
   "cell_type": "markdown",
   "metadata": {},
   "source": [
    "- In this lesson, you'll implement a simple counter with Redux from scratch. The basics are provided in the code editor, but you'll have to fill in the details! Use the names that are provided and define `incAction` and `decAction` action creators, the `counterReducer()`, `INCREMENT` and `DECREMENT` action types, and finally the Redux `store`. Once you're finished you should be able to dispatch `INCREMENT` or `DECREMENT` actions to increment or decrement the state held in the `store`."
   ]
  },
  {
   "cell_type": "markdown",
   "metadata": {},
   "source": [
    "```javascript\n",
    "const INCREMENT = \"INCREMENT\"; // define a constant for increment action types\n",
    "const DECREMENT = \"DECREMENT\"; // define a constant for decrement action types\n",
    "\n",
    "// define the counter reducer which will increment or decrement the state based on the action it receives\n",
    "const counterReducer = (state = 0, action) => {\n",
    "  switch (action.type) {\n",
    "    case INCREMENT:\n",
    "      return (state += 1);\n",
    "\n",
    "    case DECREMENT:\n",
    "      return (state -= 1);\n",
    "\n",
    "    default:\n",
    "      return state;\n",
    "  }\n",
    "};\n",
    "\n",
    "// define an action creator for incrementing\n",
    "const incAction = () => {\n",
    "  return {\n",
    "    type: INCREMENT\n",
    "  };\n",
    "};\n",
    "\n",
    "// define an action creator for decrementing\n",
    "const decAction = () => {\n",
    "  return {\n",
    "    type: DECREMENT\n",
    "  };\n",
    "};\n",
    "\n",
    "// define the Redux store here, passing in your reducers\n",
    "const store = Redux.createStore(counterReducer);\n",
    "```"
   ]
  },
  {
   "cell_type": "markdown",
   "metadata": {},
   "source": [
    "### _Redux: Never Mutate State_"
   ]
  },
  {
   "cell_type": "markdown",
   "metadata": {},
   "source": [
    "- These final challenges describe several methods of enforcing the key principle of state immutability in Redux. Immutable state means that you never modify state directly, instead, you return a new copy of state."
   ]
  },
  {
   "cell_type": "markdown",
   "metadata": {},
   "source": [
    "- If you took a snapshot of the state of a Redux app over time, you would see something like `state 1`, `state 2`, `state 3`,`state 4`, `...` and so on where each state may be similar to the last, but each is a distinct piece of data. This immutability, in fact, is what provides such features as time-travel debugging that you may have heard about."
   ]
  },
  {
   "cell_type": "markdown",
   "metadata": {},
   "source": [
    "- Redux does not actively enforce state immutability in its store or reducers, that responsibility falls on the programmer. Fortunately, JavaScript (especially ES6) provides several useful tools you can use to enforce the immutability of your state, whether it is a `string`, `number`, `array`, or `object`. Note that strings and numbers are primitive values and are immutable by nature. In other words, 3 is always 3. You cannot change the value of the number 3. An `array` or` object`, however, is mutable. In practice, your state will probably consist of an array or object, as these are useful data structures for representing many types of information."
   ]
  },
  {
   "cell_type": "markdown",
   "metadata": {},
   "source": [
    "<hr>"
   ]
  },
  {
   "cell_type": "markdown",
   "metadata": {},
   "source": [
    "- There is a `store` and `reducer` in the code editor for managing to-do items. Finish writing the `ADD_TO_DO` case in the reducer to append a new to-do to the state. There are a few ways to accomplish this with standard JavaScript or ES6. See if you can find a way to return a new array with the item from `action.todo` appended to the end."
   ]
  },
  {
   "cell_type": "markdown",
   "metadata": {},
   "source": [
    "```javascript\n",
    "const ADD_TO_DO = 'ADD_TO_DO';\n",
    "\n",
    "// A list of strings representing tasks to do:\n",
    "const todos = [\n",
    "  'Go to the store',\n",
    "  'Clean the house',\n",
    "  'Cook dinner',\n",
    "  'Learn to code',\n",
    "];\n",
    "\n",
    "const immutableReducer = (state = todos, action) => {\n",
    "  switch(action.type) {\n",
    "    case ADD_TO_DO:\n",
    "      // don't mutate state here or the tests will fail\n",
    "      return todos.concat(action.todo)\n",
    "    default:\n",
    "      return state;\n",
    "  }\n",
    "};\n",
    "\n",
    "// an example todo argument would be 'Learn React',\n",
    "const addToDo = (todo) => {\n",
    "  return {\n",
    "    type: ADD_TO_DO,\n",
    "    todo\n",
    "  }\n",
    "}\n",
    "\n",
    "const store = Redux.createStore(immutableReducer);\n",
    "\n",
    "```"
   ]
  },
  {
   "cell_type": "markdown",
   "metadata": {},
   "source": [
    "### _Redux: Use the Spread Operator on Arrays_"
   ]
  },
  {
   "cell_type": "markdown",
   "metadata": {},
   "source": [
    "- One solution from ES6 to help enforce state immutability in Redux is the spread operator: `...`. The spread operator has a variety of applications, one of which is well-suited to the previous challenge of producing a new array from an existing array. This is relatively new, but commonly used syntax. For example, if you have an array `myArray` and write:"
   ]
  },
  {
   "cell_type": "markdown",
   "metadata": {},
   "source": [
    "```javascript\n",
    "let newArray = [...myArray];\n",
    "```"
   ]
  },
  {
   "cell_type": "markdown",
   "metadata": {},
   "source": [
    "- `newArray` is now a clone of `myArray`. Both arrays still exist separately in memory. If you perform a mutation like `newArray.push(5)`, `myArray` doesn't change. The `...` effectively spreads out the values in `myArray` into a new array. To clone an array but add additional values in the new array, you could write `[...myArray, 'new value']`. This would return a new array composed of the values in `myArray` and the string `'new value'` as the last value. The spread syntax can be used multiple times in array composition like this, but it's important to note that it only makes a shallow copy of the array. That is to say, it only provides immutable array operations for one-dimensional arrays."
   ]
  },
  {
   "cell_type": "markdown",
   "metadata": {},
   "source": [
    "```javascript\n",
    "const immutableReducer = (state = ['Do not mutate state!'], action) => {\n",
    "  switch(action.type) {\n",
    "    case 'ADD_TO_DO':\n",
    "      // don't mutate state here or the tests will fail\n",
    "      return [...state, action.todo];\n",
    "    default:\n",
    "      return state;\n",
    "  }\n",
    "};\n",
    "\n",
    "const addToDo = (todo) => {\n",
    "  return {\n",
    "    type: 'ADD_TO_DO',\n",
    "    todo\n",
    "  }\n",
    "}\n",
    "\n",
    "const store = Redux.createStore(immutableReducer);\n",
    "\n",
    "```"
   ]
  },
  {
   "cell_type": "markdown",
   "metadata": {},
   "source": [
    "### _Redux: Remove an Item from an Array_"
   ]
  },
  {
   "cell_type": "markdown",
   "metadata": {},
   "source": [
    "- Time to practice removing items from an array. The spread operator can be used here as well. Other useful JavaScript methods include `slice()` and `concat()`."
   ]
  },
  {
   "cell_type": "markdown",
   "metadata": {},
   "source": [
    "<hr>"
   ]
  },
  {
   "cell_type": "markdown",
   "metadata": {},
   "source": [
    "- The reducer and action creator were modified to remove an item from an array based on the index of the item. Finish writing the reducer so a new state array is returned with the item at the specific index removed."
   ]
  },
  {
   "cell_type": "markdown",
   "metadata": {},
   "source": [
    "```javascript\n",
    "const immutableReducer = (state = [0, 1, 2, 3, 4, 5], action) => {\n",
    "  switch (action.type) {\n",
    "    case \"REMOVE_ITEM\":\n",
    "      // don't mutate state here or the tests will fail\n",
    "      return [\n",
    "        ...state.slice(0, action.index),\n",
    "        ...state.slice(action.index + 1, state.length)\n",
    "      ];\n",
    "    // or return state.slice(0, action.index).concat(state.slice(action.index + 1, state.length));\n",
    "    default:\n",
    "      return state;\n",
    "  }\n",
    "};\n",
    "\n",
    "const removeItem = index => {\n",
    "  return {\n",
    "    type: \"REMOVE_ITEM\",\n",
    "    index\n",
    "  };\n",
    "};\n",
    "\n",
    "const store = Redux.createStore(immutableReducer);\n",
    "```"
   ]
  },
  {
   "cell_type": "markdown",
   "metadata": {},
   "source": [
    "### _Redux: Copy an Object with Object.assign_"
   ]
  },
  {
   "cell_type": "markdown",
   "metadata": {},
   "source": [
    "- The last several challenges worked with arrays, but there are ways to help enforce state immutability when state is an `object`, too. A useful tool for handling objects is the `Object.assign()` utility. `Object.assign()` takes a target object and source objects and maps properties from the source objects to the target object. Any matching properties are overwritten by properties in the source objects. This behavior is commonly used to make shallow copies of objects by passing an empty object as the first argument followed by the object(s) you want to copy. Here's an example:"
   ]
  },
  {
   "cell_type": "markdown",
   "metadata": {},
   "source": [
    "```javascript\n",
    "const newObject = Object.assign({}, obj1, obj2);\n",
    "```"
   ]
  },
  {
   "cell_type": "markdown",
   "metadata": {},
   "source": [
    "- This creates `newObject` as a new `object`, which contains the properties that currently exist in `obj1` and `obj2`."
   ]
  },
  {
   "cell_type": "markdown",
   "metadata": {},
   "source": [
    "<hr>"
   ]
  },
  {
   "cell_type": "markdown",
   "metadata": {},
   "source": [
    "- The Redux state and actions were modified to handle an `object` for the `state`. Edit the code to return a new `state` object for actions with type `ONLINE`, which set the `status` property to the string `online`. Try to use `Object.assign()` to complete the challenge."
   ]
  },
  {
   "cell_type": "markdown",
   "metadata": {},
   "source": [
    "```javascript\n",
    "const defaultState = {\n",
    "  user: 'CamperBot',\n",
    "  status: 'offline',\n",
    "  friends: '732,982',\n",
    "  community: 'freeCodeCamp'\n",
    "};\n",
    "\n",
    "const immutableReducer = (state = defaultState, action) => {\n",
    "  switch(action.type) {\n",
    "    case 'ONLINE':\n",
    "      // don't mutate state here or the tests will fail\n",
    "      return Object.assign({}, state, {status: 'online'});\n",
    "    default:\n",
    "      return state;\n",
    "  }\n",
    "};\n",
    "\n",
    "const wakeUp = () => {\n",
    "  return {\n",
    "    type: 'ONLINE'\n",
    "  }\n",
    "};\n",
    "\n",
    "const store = Redux.createStore(immutableReducer);\n",
    "```"
   ]
  }
 ],
 "metadata": {
  "kernelspec": {
   "display_name": "Python 3",
   "language": "python",
   "name": "python3"
  },
  "language_info": {
   "codemirror_mode": {
    "name": "ipython",
    "version": 3
   },
   "file_extension": ".py",
   "mimetype": "text/x-python",
   "name": "python",
   "nbconvert_exporter": "python",
   "pygments_lexer": "ipython3",
   "version": "3.7.4"
  }
 },
 "nbformat": 4,
 "nbformat_minor": 2
}
