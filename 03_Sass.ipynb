{
 "cells": [
  {
   "cell_type": "markdown",
   "metadata": {},
   "source": [
    "### _Introduction to the Sass Challenges_"
   ]
  },
  {
   "cell_type": "markdown",
   "metadata": {},
   "source": [
    "- Sass, or \"Syntactically Awesome StyleSheets\", is a language extension of CSS. It adds features that aren't available using basic CSS syntax. Sass makes it easier for developers to simplify and maintain the style sheets for their projects.\n",
    "\n",
    "- Sass can extend the CSS language because it is a preprocessor. It takes code written using Sass syntax, and converts it into basic CSS. This allows you to create variables, nest CSS rules into others, and import other Sass files, among other things. The result is more compact, easier to read code.\n",
    "\n",
    "- There are two syntaxes available for Sass. The first, known as SCSS (Sassy CSS) and used throughout these challenges, is an extension of the syntax of CSS. This means that every valid CSS stylesheet is a valid SCSS file with the same meaning. Files using this syntax have the .scss extension.\n",
    "\n",
    "- The second and older syntax, known as the indented syntax (or sometimes just \"Sass\"), uses indentation rather than brackets to indicate nesting of selectors, and newlines rather than semicolons to separate properties. Files using this syntax have the .sass extension."
   ]
  },
  {
   "cell_type": "markdown",
   "metadata": {},
   "source": [
    "### _Sass: Store Data with Sass Variables_"
   ]
  },
  {
   "cell_type": "markdown",
   "metadata": {},
   "source": [
    "- One feature of Sass that's different than CSS is it uses variables. They are declared and set to store data, similar to JavaScript.\n",
    "\n",
    "- In JavaScript, variables are defined using the `let` and `const` keywords. In Sass, variables start with a `$` followed by the variable name.\n",
    "\n",
    "- Here are a couple examples:"
   ]
  },
  {
   "cell_type": "code",
   "execution_count": null,
   "metadata": {},
   "outputs": [],
   "source": [
    "$main-fonts: Arial, sans-serif;\n",
    "$headings-color: green;\n",
    "\n",
    "//To use variables:\n",
    "h1 {\n",
    "  font-family: $main-fonts;\n",
    "  color: $headings-color;\n",
    "}"
   ]
  },
  {
   "cell_type": "markdown",
   "metadata": {},
   "source": [
    "- One example where variables are useful is when a number of elements need to be the same color. If that color is changed, the only place to edit the code is the variable value."
   ]
  },
  {
   "cell_type": "markdown",
   "metadata": {},
   "source": [
    "- Create a variable `$text-color` and set it to red. Then change the value of the `color` property for the `.blog-post` and `h2` to the `$text-color` variable."
   ]
  },
  {
   "cell_type": "code",
   "execution_count": null,
   "metadata": {},
   "outputs": [],
   "source": [
    "<style type='text/sass'>\n",
    "  $text-color: red;\n",
    "\n",
    "  .header{\n",
    "    text-align: center;\n",
    "  }\n",
    "  .blog-post, h2 {\n",
    "    color: $text-color;\n",
    "  }\n",
    "</style>\n",
    "\n",
    "<h1 class=\"header\">Learn Sass</h1>\n",
    "<div class=\"blog-post\">\n",
    "  <h2>Some random title</h2>\n",
    "  <p>This is a paragraph with some random text in it</p>\n",
    "</div>\n",
    "<div class=\"blog-post\">\n",
    "  <h2>Header #2</h2>\n",
    "  <p>Here is some more random text.</p>\n",
    "</div>\n",
    "<div class=\"blog-post\">\n",
    "  <h2>Here is another header</h2>\n",
    "  <p>Even more random text within a paragraph</p>\n",
    "</div>"
   ]
  },
  {
   "cell_type": "markdown",
   "metadata": {},
   "source": [
    "### _Sass: Nest CSS with Sass_"
   ]
  },
  {
   "cell_type": "markdown",
   "metadata": {},
   "source": [
    "- Sass allows nesting of CSS rules, which is a useful way of organizing a style sheet.\n",
    "\n",
    "- Normally, each element is targeted on a different line to style it, like so:"
   ]
  },
  {
   "cell_type": "code",
   "execution_count": null,
   "metadata": {},
   "outputs": [],
   "source": [
    "nav {\n",
    "  background-color: red;\n",
    "}\n",
    "\n",
    "nav ul {\n",
    "  list-style: none;\n",
    "}\n",
    "\n",
    "nav ul li {\n",
    "  display: inline-block;\n",
    "}"
   ]
  },
  {
   "cell_type": "markdown",
   "metadata": {},
   "source": [
    "- For a large project, the CSS file will have many lines and rules. This is where nesting can help organize your code by placing child style rules within the respective parent elements:"
   ]
  },
  {
   "cell_type": "code",
   "execution_count": null,
   "metadata": {},
   "outputs": [],
   "source": [
    "nav {\n",
    "  background-color: red;\n",
    "\n",
    "  ul {\n",
    "    list-style: none;\n",
    "\n",
    "    li {\n",
    "      display: inline-block;\n",
    "    }\n",
    "  }\n",
    "}"
   ]
  },
  {
   "cell_type": "markdown",
   "metadata": {},
   "source": [
    "- Use the nesting technique shown above to re-organize the CSS rules for both children of `.blog-post` element. For testing purposes, the `h1` should come before the `p` element."
   ]
  },
  {
   "cell_type": "code",
   "execution_count": null,
   "metadata": {},
   "outputs": [],
   "source": [
    "<style type='text/sass'>\n",
    "  .blog-post {\n",
    "    h1 {\n",
    "      text-align: center;\n",
    "      color: blue;\n",
    "    }\n",
    "    p {\n",
    "      font-size: 20px;\n",
    "    }\n",
    "  }\n",
    "\n",
    "</style>\n",
    "\n",
    "<div class=\"blog-post\">\n",
    "  <h1>Blog Title</h1>\n",
    "  <p>This is a paragraph</p>\n",
    "</div>"
   ]
  },
  {
   "cell_type": "markdown",
   "metadata": {},
   "source": [
    "### _Sass: Create Reusable CSS with Mixins_"
   ]
  },
  {
   "cell_type": "markdown",
   "metadata": {},
   "source": [
    "- In Sass, a mixin is a group of CSS declarations that can be reused throughout the style sheet.\n",
    "\n",
    "- Newer CSS features take time before they are fully adopted and ready to use in all browsers. As features are added to browsers, CSS rules using them may need vendor prefixes. Consider \"box-shadow\":"
   ]
  },
  {
   "cell_type": "code",
   "execution_count": null,
   "metadata": {},
   "outputs": [],
   "source": [
    "div {\n",
    "  -webkit-box-shadow: 0px 0px 4px #fff;\n",
    "  -moz-box-shadow: 0px 0px 4px #fff;\n",
    "  -ms-box-shadow: 0px 0px 4px #fff;\n",
    "  box-shadow: 0px 0px 4px #fff;\n",
    "}"
   ]
  },
  {
   "cell_type": "markdown",
   "metadata": {},
   "source": [
    "- It's a lot of typing to re-write this rule for all the elements that have a `box-shadow`, or to change each value to test different effects. Mixins are like functions for CSS. Here is how to write one:"
   ]
  },
  {
   "cell_type": "code",
   "execution_count": null,
   "metadata": {},
   "outputs": [],
   "source": [
    "@mixin box-shadow($x, $y, $blur, $c){ \n",
    "  -webkit-box-shadow: $x $y $blur $c;\n",
    "  -moz-box-shadow: $x $y $blur $c;\n",
    "  -ms-box-shadow: $x $y $blur $c;\n",
    "  box-shadow: $x $y $blur $c;\n",
    "}"
   ]
  },
  {
   "cell_type": "markdown",
   "metadata": {},
   "source": [
    "- The definition starts with `@mixin` followed by a custom name. The parameters (the `$x`, `$y`, `$blur`, and `$c` in the example above) are optional. Now any time a `box-shadow` rule is needed, only a single line calling the mixin replaces having to type all the vendor prefixes. A mixin is called with the `@include` directive:"
   ]
  },
  {
   "cell_type": "code",
   "execution_count": null,
   "metadata": {},
   "outputs": [],
   "source": [
    "div {\n",
    "  @include box-shadow(0px, 0px, 4px, #fff);\n",
    "}"
   ]
  },
  {
   "cell_type": "markdown",
   "metadata": {},
   "source": [
    "- Write a mixin for `border-radius` and give it a `$radius` parameter. It should use all the vendor prefixes from the example. Then use the `border-radius` mixin to give the `#awesome` element a border radius of 15px."
   ]
  },
  {
   "cell_type": "code",
   "execution_count": null,
   "metadata": {},
   "outputs": [],
   "source": [
    "<style type='text/sass'>\n",
    "@mixin border-radius($radius) {\n",
    "  -webkit-border-radius: $radius;\n",
    "  -moz-border-radius: $radius;\n",
    "  -ms-border-radius: $radius;\n",
    "  border-radius: $radius;\n",
    "}\n",
    "  #awesome {\n",
    "    width: 150px;\n",
    "    height: 150px;\n",
    "    background-color: green;\n",
    "    @include border-radius(15px);\n",
    "  }\n",
    "</style>\n",
    "\n",
    "<div id=\"awesome\"></div>\n"
   ]
  },
  {
   "cell_type": "markdown",
   "metadata": {},
   "source": [
    "### _Sass: Use @if and @else to Add Logic To Your Styles_"
   ]
  },
  {
   "cell_type": "markdown",
   "metadata": {},
   "source": [
    "- The `@if` directive in Sass is useful to test for a specific case - it works just like the `if` statement in JavaScript."
   ]
  },
  {
   "cell_type": "code",
   "execution_count": null,
   "metadata": {},
   "outputs": [],
   "source": [
    "@mixin make-bold($bool) {\n",
    "  @if $bool == true {\n",
    "    font-weight: bold;\n",
    "  }\n",
    "}"
   ]
  },
  {
   "cell_type": "markdown",
   "metadata": {},
   "source": [
    "- And just like in JavaScript, `@else if` and `@else` test for more conditions:"
   ]
  },
  {
   "cell_type": "code",
   "execution_count": null,
   "metadata": {},
   "outputs": [],
   "source": [
    "@mixin text-effect($val) {\n",
    "  @if $val == danger {\n",
    "    color: red;\n",
    "  }\n",
    "  @else if $val == alert {\n",
    "    color: yellow;\n",
    "  }\n",
    "  @else if $val == success {\n",
    "    color: green;\n",
    "  }\n",
    "  @else {\n",
    "    color: black;\n",
    "  }\n",
    "}"
   ]
  },
  {
   "cell_type": "markdown",
   "metadata": {},
   "source": [
    "- Create a mixin called `border-stroke` that takes a parameter `$val`. The mixin should check for the following conditions using `@if`, `@else if`, and `@else`:\n",
    "```\n",
    "light - 1px solid black\n",
    "medium - 3px solid black\n",
    "heavy - 6px solid black\n",
    "```\n",
    "- If `$val` is not `light`, `medium`, or `heavy`, the border should be set to `none`."
   ]
  },
  {
   "cell_type": "code",
   "execution_count": null,
   "metadata": {},
   "outputs": [],
   "source": [
    "<style type='text/sass'>\n",
    "  @mixin border-stroke($val) {\n",
    "    @if $val == light {\n",
    "      border: 1px solid black;\n",
    "    }\n",
    "    @else if $val == medium {\n",
    "      border: 3px solid black;\n",
    "    }\n",
    "    @else if $val == heavy{\n",
    "      border:6px solid black;\n",
    "    }\n",
    "    @else {\n",
    "      border: none;\n",
    "    }\n",
    "  } \n",
    "\n",
    "  #box {\n",
    "    width: 150px;\n",
    "    height: 150px;\n",
    "    background-color: red;\n",
    "    @include border-stroke(medium);\n",
    "  }\n",
    "</style>\n",
    "\n",
    "<div id=\"box\"></div>\n"
   ]
  },
  {
   "cell_type": "markdown",
   "metadata": {},
   "source": [
    "### _Sass: Use @for to Create a Sass Loop_"
   ]
  },
  {
   "cell_type": "markdown",
   "metadata": {},
   "source": [
    "- The `@for` directive adds styles in a loop, very similar to a `for` loop in JavaScript.\n",
    "\n",
    "- `@for` is used in two ways: \"start through end\" or \"start to end\". The main difference is that the \"start to end\" excludes the end number as part of the count, and \"start through end\" includes the end number as part of the count.\n",
    "\n",
    "- Here's a start <em>through</em> end example:"
   ]
  },
  {
   "cell_type": "code",
   "execution_count": null,
   "metadata": {},
   "outputs": [],
   "source": [
    "@for $i from 1 through 12 {\n",
    "  .col-#{$i} { width: 100%/12 * $i; }\n",
    "}"
   ]
  },
  {
   "cell_type": "markdown",
   "metadata": {},
   "source": [
    "- The `#{$i}` part is the syntax to combine a variable (`i`) with text to make a string. When the Sass file is converted to CSS, it looks like this:"
   ]
  },
  {
   "cell_type": "code",
   "execution_count": null,
   "metadata": {},
   "outputs": [],
   "source": [
    ".col-1 {\n",
    "  width: 8.33333%;\n",
    "}\n",
    "\n",
    ".col-2 {\n",
    "  width: 16.66667%;\n",
    "}\n",
    "\n",
    "...\n",
    "\n",
    ".col-12 {\n",
    "  width: 100%;\n",
    "}"
   ]
  },
  {
   "cell_type": "markdown",
   "metadata": {},
   "source": [
    "- This is a powerful way to create a grid layout. Now you have twelve options for column widths available as CSS classes."
   ]
  },
  {
   "cell_type": "markdown",
   "metadata": {},
   "source": [
    "- Write a `@for` directive that takes a variable `$j` that goes from 1 to 6.\n",
    "\n",
    "- It should create 5 classes called `.text-1` to `.text-5` where each has a `font-size` set to 15px multiplied by the index."
   ]
  },
  {
   "cell_type": "code",
   "execution_count": null,
   "metadata": {},
   "outputs": [],
   "source": [
    "<style type='text/sass'>\n",
    "@for $i from 1 to 6 {\n",
    "  .text-#{$i} {font-size: 15px * $i}\n",
    "}\n",
    "</style>\n",
    "\n",
    "<p class=\"text-1\">Hello</p>\n",
    "<p class=\"text-2\">Hello</p>\n",
    "<p class=\"text-3\">Hello</p>\n",
    "<p class=\"text-4\">Hello</p>\n",
    "<p class=\"text-5\">Hello</p>"
   ]
  },
  {
   "cell_type": "markdown",
   "metadata": {},
   "source": [
    "### _Sass: Use @each to Map Over Items in a List_"
   ]
  },
  {
   "cell_type": "markdown",
   "metadata": {},
   "source": [
    "- The last challenge showed how the `@for` directive uses a starting and ending value to loop a certain number of times. Sass also offers the `@each` directive which loops over each item in a list or map. On each iteration, the variable gets assigned to the current value from the list or map."
   ]
  },
  {
   "cell_type": "code",
   "execution_count": null,
   "metadata": {},
   "outputs": [],
   "source": [
    "@each $color in blue, red, green {\n",
    "  .#{$color}-text {color: $color;}\n",
    "}"
   ]
  },
  {
   "cell_type": "markdown",
   "metadata": {},
   "source": [
    "- A map has slightly different syntax. Here's an example:"
   ]
  },
  {
   "cell_type": "code",
   "execution_count": null,
   "metadata": {},
   "outputs": [],
   "source": [
    "$colors: (color1: blue, color2: red, color3: green);\n",
    "\n",
    "@each $key, $color in $colors {\n",
    "  .#{$color}-text {color: $color;}\n",
    "}"
   ]
  },
  {
   "cell_type": "markdown",
   "metadata": {},
   "source": [
    "- Note that the `$key` variable is needed to reference the keys in the map. Otherwise, the compiled CSS would have `color1`, `color2`... in it. Both of the above code examples are converted into the following CSS:"
   ]
  },
  {
   "cell_type": "code",
   "execution_count": null,
   "metadata": {},
   "outputs": [],
   "source": [
    ".blue-text {\n",
    "  color: blue;\n",
    "}\n",
    "\n",
    ".red-text {\n",
    "  color: red;\n",
    "}\n",
    "\n",
    ".green-text {\n",
    "  color: green;\n",
    "}"
   ]
  },
  {
   "cell_type": "markdown",
   "metadata": {},
   "source": [
    "- Write an `@each` directive that goes through a list: `blue, black, red` and assigns each variable to a `.color-bg` class, where the \"color\" part changes for each item. Each class should set the `background-color` the respective color."
   ]
  },
  {
   "cell_type": "code",
   "execution_count": null,
   "metadata": {},
   "outputs": [],
   "source": [
    "<style type='text/sass'>\n",
    "  $colors: (color1: blue, color2: black, color3: red);\n",
    "  \n",
    "  @each $key, $color in $colors {\n",
    "    .#{$color}-bg {background-color: $color;}  \n",
    "  }\n",
    "\n",
    "  div {\n",
    "    height: 200px;\n",
    "    width: 200px;\n",
    "  }\n",
    "</style>\n",
    "\n",
    "<div class=\"blue-bg\"></div>\n",
    "<div class=\"black-bg\"></div>\n",
    "<div class=\"red-bg\"></div>"
   ]
  },
  {
   "cell_type": "markdown",
   "metadata": {},
   "source": [
    "### _Sass: Apply a Style Until a Condition is Met with @while_"
   ]
  },
  {
   "cell_type": "markdown",
   "metadata": {},
   "source": [
    "- The `@while` directive is an option with similar functionality to the JavaScript `while` loop. It creates CSS rules until a condition is met.\n",
    "\n",
    "- The `@for` challenge gave an example to create a simple grid system. This can also work with `@while`."
   ]
  },
  {
   "cell_type": "code",
   "execution_count": null,
   "metadata": {},
   "outputs": [],
   "source": [
    "$x: 1;\n",
    "@while $x < 13 {\n",
    "  .col-#{$x} { width: 100%/12 * $x;}\n",
    "  $x: $x + 1;\n",
    "}"
   ]
  },
  {
   "cell_type": "markdown",
   "metadata": {},
   "source": [
    "- First, define a variable `$x` and set it to 1. Next, use the `@while` directive to create the grid system while `$x` is less than 13. After setting the CSS rule for `width`, `$x` is incremented by 1 to avoid an infinite loop.\n",
    "---"
   ]
  },
  {
   "cell_type": "markdown",
   "metadata": {},
   "source": [
    "- Use `@while` to create a series of classes with different `font-sizes`.\n",
    "\n",
    "- There should be 5 different classes from `text-1` to `text-5`. Then set `font-size` to `15px` multiplied by the current index number. Make sure to avoid an infinite loop!"
   ]
  },
  {
   "cell_type": "code",
   "execution_count": null,
   "metadata": {},
   "outputs": [],
   "source": [
    "<style type='text/sass'>\n",
    "  $x: 1;\n",
    "  @while $x < 6 {\n",
    "    .text-#{$x} {font-size: 15px * $x;}\n",
    "    $x: $x + 1;\n",
    "  }\n",
    "</style>\n",
    "\n",
    "<p class=\"text-1\">Hello</p>\n",
    "<p class=\"text-2\">Hello</p>\n",
    "<p class=\"text-3\">Hello</p>\n",
    "<p class=\"text-4\">Hello</p>\n",
    "<p class=\"text-5\">Hello</p>\n"
   ]
  },
  {
   "cell_type": "markdown",
   "metadata": {},
   "source": [
    "### _Sass: Split Your Styles into Smaller Chunks with Partials_"
   ]
  },
  {
   "cell_type": "markdown",
   "metadata": {},
   "source": [
    "- _Partials_ in Sass are separate files that hold segments of CSS code. These are imported and used in other Sass files. This is a great way to group similar code into a module to keep it organized.\n",
    "\n",
    "- Names for partials start with the underscore (`_`) character, which tells Sass it is a small segment of CSS and not to convert it into a CSS file. Also, Sass files end with the `.scss` file extension. To bring the code in the partial into another Sass file, use the `@import` directive.\n",
    "\n",
    "- For example, if all your mixins are saved in a partial named \"_mixins.scss\", and they are needed in the \"main.scss\" file, this is how to use them in the main file:"
   ]
  },
  {
   "cell_type": "code",
   "execution_count": null,
   "metadata": {},
   "outputs": [],
   "source": [
    "// In the main.scss file\n",
    "\n",
    "@import 'mixins'"
   ]
  },
  {
   "cell_type": "markdown",
   "metadata": {},
   "source": [
    "- Note that the underscore and file extension are not needed in the `import` statement - Sass understands it is a partial. Once a partial is imported into a file, all variables, mixins, and other code are available to use.\n",
    "---"
   ]
  },
  {
   "cell_type": "markdown",
   "metadata": {},
   "source": [
    "- Write an `@import` statement to import a partial named `_variables.scss` into the main.scss file."
   ]
  },
  {
   "cell_type": "code",
   "execution_count": null,
   "metadata": {},
   "outputs": [],
   "source": [
    "// The main.scss file\n",
    "@import 'variables'"
   ]
  },
  {
   "cell_type": "markdown",
   "metadata": {},
   "source": [
    "### _Sass: Extend One Set of CSS Styles to Another Element_"
   ]
  },
  {
   "cell_type": "markdown",
   "metadata": {},
   "source": [
    "- Sass has a feature called `extend` that makes it easy to borrow the CSS rules from one element and build upon them in another.\n",
    "\n",
    "- For example, the below block of CSS rules style a `.panel` class. It has a `background-color`, `height` and `border`."
   ]
  },
  {
   "cell_type": "code",
   "execution_count": null,
   "metadata": {},
   "outputs": [],
   "source": [
    ".panel{\n",
    "  background-color: red;\n",
    "  height: 70px;\n",
    "  border: 2px solid green;\n",
    "}"
   ]
  },
  {
   "cell_type": "markdown",
   "metadata": {},
   "source": [
    "- Now you want another panel called `.big-panel`. It has the same base properties as `.panel`, but also needs a `width` and `font-size`. It's possible to copy and paste the initial CSS rules from `.panel`, but the code becomes repetitive as you add more types of panels. The `extend` directive is a simple way to reuse the rules written for one element, then add more for another:"
   ]
  },
  {
   "cell_type": "code",
   "execution_count": null,
   "metadata": {},
   "outputs": [],
   "source": [
    ".big-panel{\n",
    "  @extend .panel;\n",
    "  width: 150px;\n",
    "  font-size: 2em;\n",
    "}"
   ]
  },
  {
   "cell_type": "markdown",
   "metadata": {},
   "source": [
    "- The `.big-panel` will have the same properties as `.panel` in addition to the new styles.\n",
    "---"
   ]
  },
  {
   "cell_type": "markdown",
   "metadata": {},
   "source": [
    "- Make a class `.info-important` that extends `.info` and also has a `background-color` set to magenta."
   ]
  },
  {
   "cell_type": "code",
   "execution_count": null,
   "metadata": {},
   "outputs": [],
   "source": [
    "<style type='text/sass'>\n",
    "  h3{\n",
    "    text-align: center;\n",
    "  }\n",
    "  .info{\n",
    "    width: 200px;\n",
    "    border: 1px solid black;\n",
    "    margin: 0 auto;\n",
    "  }\n",
    "  .info-important {\n",
    "    @extend .info;\n",
    "    background-color: magenta;\n",
    "  }\n",
    "</style>\n",
    "\n",
    "<h3>Posts</h3>\n",
    "<div class=\"info-important\">\n",
    "  <p>This is an important post. It should extend the class \".info\" and have its own CSS styles.</p>\n",
    "</div>\n",
    "\n",
    "<div class=\"info\">\n",
    "  <p>This is a simple post. It has basic styling and can be extended for other uses.</p>\n",
    "</div>\n"
   ]
  }
 ],
 "metadata": {
  "kernelspec": {
   "display_name": "Python 3",
   "language": "python",
   "name": "python3"
  },
  "language_info": {
   "codemirror_mode": {
    "name": "ipython",
    "version": 3
   },
   "file_extension": ".py",
   "mimetype": "text/x-python",
   "name": "python",
   "nbconvert_exporter": "python",
   "pygments_lexer": "ipython3",
   "version": "3.7.4"
  }
 },
 "nbformat": 4,
 "nbformat_minor": 2
}
